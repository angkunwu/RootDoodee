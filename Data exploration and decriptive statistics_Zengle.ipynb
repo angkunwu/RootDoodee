{
 "cells": [
  {
   "cell_type": "markdown",
   "metadata": {},
   "source": [
    "# Data exploration and descriptive statistics\n",
    "\n",
    "- This notebook decribes the basic statistics of customers information and their response on the vertical search website.\n",
    "\n",
    "- The dataset is provided by Root Inc. and no more data cleaning is required."
   ]
  },
  {
   "cell_type": "code",
   "execution_count": 1,
   "metadata": {},
   "outputs": [],
   "source": [
    "import pandas as pd\n",
    "import seaborn as sns\n",
    "import matplotlib.pyplot as plt\n",
    "import numpy as np\n",
    "sns.set_style(\"whitegrid\")"
   ]
  },
  {
   "cell_type": "markdown",
   "metadata": {},
   "source": [
    "## Dataset description "
   ]
  },
  {
   "cell_type": "code",
   "execution_count": 3,
   "metadata": {},
   "outputs": [
    {
     "name": "stdout",
     "output_type": "stream",
     "text": [
      "(10000, 8)\n"
     ]
    },
    {
     "data": {
      "text/html": [
       "<div>\n",
       "<style scoped>\n",
       "    .dataframe tbody tr th:only-of-type {\n",
       "        vertical-align: middle;\n",
       "    }\n",
       "\n",
       "    .dataframe tbody tr th {\n",
       "        vertical-align: top;\n",
       "    }\n",
       "\n",
       "    .dataframe thead th {\n",
       "        text-align: right;\n",
       "    }\n",
       "</style>\n",
       "<table border=\"1\" class=\"dataframe\">\n",
       "  <thead>\n",
       "    <tr style=\"text-align: right;\">\n",
       "      <th></th>\n",
       "      <th>Currently Insured</th>\n",
       "      <th>Number of Vehicles</th>\n",
       "      <th>Number of Drivers</th>\n",
       "      <th>Marital Status</th>\n",
       "      <th>bid</th>\n",
       "      <th>rank</th>\n",
       "      <th>click</th>\n",
       "      <th>policies_sold</th>\n",
       "    </tr>\n",
       "  </thead>\n",
       "  <tbody>\n",
       "    <tr>\n",
       "      <th>0</th>\n",
       "      <td>unknown</td>\n",
       "      <td>2</td>\n",
       "      <td>1</td>\n",
       "      <td>M</td>\n",
       "      <td>10.0</td>\n",
       "      <td>2</td>\n",
       "      <td>False</td>\n",
       "      <td>0</td>\n",
       "    </tr>\n",
       "    <tr>\n",
       "      <th>1</th>\n",
       "      <td>Y</td>\n",
       "      <td>3</td>\n",
       "      <td>1</td>\n",
       "      <td>M</td>\n",
       "      <td>10.0</td>\n",
       "      <td>5</td>\n",
       "      <td>False</td>\n",
       "      <td>0</td>\n",
       "    </tr>\n",
       "    <tr>\n",
       "      <th>2</th>\n",
       "      <td>Y</td>\n",
       "      <td>3</td>\n",
       "      <td>2</td>\n",
       "      <td>M</td>\n",
       "      <td>10.0</td>\n",
       "      <td>5</td>\n",
       "      <td>False</td>\n",
       "      <td>0</td>\n",
       "    </tr>\n",
       "    <tr>\n",
       "      <th>3</th>\n",
       "      <td>N</td>\n",
       "      <td>3</td>\n",
       "      <td>2</td>\n",
       "      <td>S</td>\n",
       "      <td>10.0</td>\n",
       "      <td>4</td>\n",
       "      <td>False</td>\n",
       "      <td>0</td>\n",
       "    </tr>\n",
       "    <tr>\n",
       "      <th>4</th>\n",
       "      <td>unknown</td>\n",
       "      <td>2</td>\n",
       "      <td>2</td>\n",
       "      <td>S</td>\n",
       "      <td>10.0</td>\n",
       "      <td>2</td>\n",
       "      <td>False</td>\n",
       "      <td>0</td>\n",
       "    </tr>\n",
       "  </tbody>\n",
       "</table>\n",
       "</div>"
      ],
      "text/plain": [
       "  Currently Insured  Number of Vehicles  Number of Drivers Marital Status  \\\n",
       "0           unknown                   2                  1              M   \n",
       "1                 Y                   3                  1              M   \n",
       "2                 Y                   3                  2              M   \n",
       "3                 N                   3                  2              S   \n",
       "4           unknown                   2                  2              S   \n",
       "\n",
       "    bid  rank  click  policies_sold  \n",
       "0  10.0     2  False              0  \n",
       "1  10.0     5  False              0  \n",
       "2  10.0     5  False              0  \n",
       "3  10.0     4  False              0  \n",
       "4  10.0     2  False              0  "
      ]
     },
     "execution_count": 3,
     "metadata": {},
     "output_type": "execute_result"
    }
   ],
   "source": [
    "# Read the csv file\n",
    "df = pd.read_csv('Root Insurance/Root_Insurance_data.csv')\n",
    "print(df.shape)\n",
    "df.head()"
   ]
  },
  {
   "cell_type": "code",
   "execution_count": 4,
   "metadata": {},
   "outputs": [
    {
     "data": {
      "text/plain": [
       "Currently Insured  Number of Vehicles  Number of Drivers  Marital Status\n",
       "N                  3                   2                  M                 326\n",
       "Y                  2                   2                  M                 317\n",
       "N                  2                   2                  S                 316\n",
       "unknown            2                   2                  M                 306\n",
       "Y                  2                   2                  S                 304\n",
       "unknown            1                   2                  S                 303\n",
       "N                  1                   1                  M                 300\n",
       "                   2                   2                  M                 296\n",
       "Y                  1                   2                  M                 295\n",
       "unknown            1                   2                  M                 294\n",
       "                                       1                  M                 294\n",
       "Y                  3                   1                  M                 294\n",
       "N                  3                   2                  S                 291\n",
       "Y                  1                   1                  S                 290\n",
       "unknown            2                   2                  S                 288\n",
       "                   3                   1                  M                 287\n",
       "N                  3                   1                  S                 286\n",
       "unknown            2                   1                  S                 284\n",
       "Y                  2                   1                  M                 284\n",
       "N                  1                   2                  S                 283\n",
       "Y                  1                   2                  S                 282\n",
       "unknown            1                   1                  S                 280\n",
       "                   3                   2                  M                 277\n",
       "Y                  3                   2                  M                 276\n",
       "N                  1                   2                  M                 275\n",
       "Y                  1                   1                  M                 274\n",
       "N                  2                   1                  S                 272\n",
       "                   1                   1                  S                 271\n",
       "Y                  3                   2                  S                 270\n",
       "unknown            2                   1                  M                 268\n",
       "Y                  3                   1                  S                 267\n",
       "                   2                   1                  S                 266\n",
       "N                  3                   1                  M                 265\n",
       "                   2                   1                  M                 263\n",
       "unknown            3                   1                  S                 256\n",
       "dtype: int64"
      ]
     },
     "execution_count": 4,
     "metadata": {},
     "output_type": "execute_result"
    }
   ],
   "source": [
    "df[['Currently Insured', 'Number of Vehicles', 'Number of Drivers', 'Marital Status']].value_counts()"
   ]
  },
  {
   "cell_type": "code",
   "execution_count": 5,
   "metadata": {},
   "outputs": [
    {
     "name": "stdout",
     "output_type": "stream",
     "text": [
      "\"Currently Insured\" column has value: ['unknown' 'Y' 'N']\n",
      "\"Number of Vehicles\" column has value: [2 3 1]\n",
      "\"Number of Drivers\" column has value: [1 2]\n",
      "\"Marital Status\" column has value: ['M' 'S']\n",
      "\"bid\" column has value: [10.]\n",
      "\"rank\" column has value: [2 5 4 1 3]\n",
      "\"click\" column has value: [False  True]\n",
      "\"policies_sold\" column has value: [0 1]\n"
     ]
    }
   ],
   "source": [
    "# All the possible values in each column\n",
    "print('\"Currently Insured\" column has value:', df['Currently Insured'].unique())\n",
    "print('\"Number of Vehicles\" column has value:', df['Number of Vehicles'].unique())\n",
    "print('\"Number of Drivers\" column has value:', df['Number of Drivers'].unique())\n",
    "print('\"Marital Status\" column has value:', df['Marital Status'].unique())\n",
    "print('\"bid\" column has value:', df['bid'].unique())\n",
    "print('\"rank\" column has value:', df['rank'].unique())\n",
    "print('\"click\" column has value:', df['click'].unique())\n",
    "print('\"policies_sold\" column has value:', df['policies_sold'].unique())"
   ]
  },
  {
   "cell_type": "markdown",
   "metadata": {},
   "source": [
    "- In this dataset, in total 10,000 customers are categorized by four features: \"Currently Insured\", \"Number of Vehicles\", \"Number of Drivers\" and \"Marital Status\". The possible values for each feature is summarized above. There are in total 35 types of customers (Presumably there would be 36 types of customers, but no customer is recorded with unknown insurance status, 3 vehicles, 2 drivers and single).\n",
    "\n",
    "- The bid for all customer is a constant of 10 dollars. The bid is the variable we tune in optimization.\n",
    "\n",
    "- The ads position on the vertical search websites can have five rankings, with 1 being shown in the highest position and 5 the lowest. \n",
    "\n",
    "- Customers can either click on the ads or not (True or False in the \"click\" column). If they click, they can either buy the policy or not (1 or 0 in the \"policies_sold\" column) "
   ]
  },
  {
   "cell_type": "code",
   "execution_count": 17,
   "metadata": {},
   "outputs": [],
   "source": [
    "num_cust = np.array(df['rank'].value_counts().sort_index())\n",
    "num_cust_str = '      '.join(str(i) for i in num_cust)"
   ]
  },
  {
   "cell_type": "code",
   "execution_count": 30,
   "metadata": {},
   "outputs": [
    {
     "data": {
      "image/png": "[encoded data removed]",
      "text/plain": [
       "<Figure size 432x288 with 1 Axes>"
      ]
     },
     "metadata": {
      "needs_background": "light"
     },
     "output_type": "display_data"
    }
   ],
   "source": [
    "plt.hist(df['rank'], bins=[1, 2, 3, 4, 5, 6], edgecolor=\"black\", align='left')\n",
    "plt.text(0.7, 1000, num_cust_str, size=16)\n",
    "plt.xlabel('Ranks', size=12)\n",
    "plt.ylabel('Number of Customers',size=12)\n",
    "plt.title('Number of Customers in each rank', size=16);\n"
   ]
  },
  {
   "cell_type": "markdown",
   "metadata": {},
   "source": [
    "## Click in each rank"
   ]
  },
  {
   "cell_type": "code",
   "execution_count": 63,
   "metadata": {
    "scrolled": false
   },
   "outputs": [
    {
     "name": "stdout",
     "output_type": "stream",
     "text": [
      "Total number of not click(False) and click(True):\n",
      " False    8122\n",
      "True     1878\n",
      "Name: click, dtype: int64\n"
     ]
    }
   ],
   "source": [
    "print('Total number of not click(False) and click(True):\\n', df['click'].value_counts())"
   ]
  },
  {
   "cell_type": "markdown",
   "metadata": {},
   "source": [
    "- The click data is unbalanced. Customers that didn't click is 4 times more than those click. "
   ]
  },
  {
   "cell_type": "code",
   "execution_count": 19,
   "metadata": {},
   "outputs": [
    {
     "data": {
      "text/html": [
       "<div>\n",
       "<style scoped>\n",
       "    .dataframe tbody tr th:only-of-type {\n",
       "        vertical-align: middle;\n",
       "    }\n",
       "\n",
       "    .dataframe tbody tr th {\n",
       "        vertical-align: top;\n",
       "    }\n",
       "\n",
       "    .dataframe thead tr th {\n",
       "        text-align: left;\n",
       "    }\n",
       "</style>\n",
       "<table border=\"1\" class=\"dataframe\">\n",
       "  <thead>\n",
       "    <tr>\n",
       "      <th>rank</th>\n",
       "      <th colspan=\"2\" halign=\"left\">1</th>\n",
       "      <th colspan=\"2\" halign=\"left\">2</th>\n",
       "      <th colspan=\"2\" halign=\"left\">3</th>\n",
       "      <th colspan=\"2\" halign=\"left\">4</th>\n",
       "      <th colspan=\"2\" halign=\"left\">5</th>\n",
       "    </tr>\n",
       "    <tr>\n",
       "      <th>click</th>\n",
       "      <th>True</th>\n",
       "      <th>False</th>\n",
       "      <th>False</th>\n",
       "      <th>True</th>\n",
       "      <th>False</th>\n",
       "      <th>True</th>\n",
       "      <th>False</th>\n",
       "      <th>True</th>\n",
       "      <th>False</th>\n",
       "      <th>True</th>\n",
       "    </tr>\n",
       "  </thead>\n",
       "  <tbody>\n",
       "    <tr>\n",
       "      <th>click</th>\n",
       "      <td>848</td>\n",
       "      <td>763</td>\n",
       "      <td>1146</td>\n",
       "      <td>462</td>\n",
       "      <td>2050</td>\n",
       "      <td>351</td>\n",
       "      <td>1921</td>\n",
       "      <td>168</td>\n",
       "      <td>2242</td>\n",
       "      <td>49</td>\n",
       "    </tr>\n",
       "  </tbody>\n",
       "</table>\n",
       "</div>"
      ],
      "text/plain": [
       "rank      1           2           3           4           5      \n",
       "click True  False False True  False True  False True  False True \n",
       "click   848   763  1146   462  2050   351  1921   168  2242    49"
      ]
     },
     "execution_count": 19,
     "metadata": {},
     "output_type": "execute_result"
    }
   ],
   "source": [
    "pd.DataFrame(df.groupby(['rank'])['click'].value_counts()).T"
   ]
  },
  {
   "cell_type": "code",
   "execution_count": 38,
   "metadata": {},
   "outputs": [],
   "source": [
    "# Create a new dataframe to store the number of click in each rank\n",
    "click = pd.DataFrame([{'Click':868, 'Not click':763},\n",
    "                    {'Click':462, 'Not click':1146},\n",
    "                    {'Click':351, 'Not click':2050},\n",
    "                    {'Click':168, 'Not click':1921},\n",
    "                    {'Click':49, 'Not click':2242}])\n",
    "click['percentage'] = click['Click']/(click['Click']+click['Not click'])*100\n",
    "click.index+=1\n",
    "percent = '   '.join(str(i.round(2))+'%' for i in np.array(click['percentage'])) # this is the annotation in the plot below"
   ]
  },
  {
   "cell_type": "code",
   "execution_count": 52,
   "metadata": {},
   "outputs": [
    {
     "data": {
      "image/png": "[encoded data removed]",
      "text/plain": [
       "<Figure size 432x288 with 1 Axes>"
      ]
     },
     "metadata": {
      "needs_background": "light"
     },
     "output_type": "display_data"
    }
   ],
   "source": [
    "# Plot click vs not click in each rank \n",
    "axis = click[[\"Click\", \"Not click\"]].plot(kind=\"bar\", stacked=True)\n",
    "\n",
    "fig = axis.get_figure()\n",
    "plt.text(-0.3, 100, percent, size=16)\n",
    "axis.set_xticklabels(axis.get_xticks()+1, rotation = 0)\n",
    "plt.xlabel('Ranks')\n",
    "plt.ylabel('Number of Customers')\n",
    "plt.title('Click vs Not click in each rank \\n(Percentage is the click percentage)', size=16);"
   ]
  },
  {
   "cell_type": "markdown",
   "metadata": {},
   "source": [
    " - Within expectation, higher the rank of the ads, more likely it will be clicked."
   ]
  },
  {
   "cell_type": "markdown",
   "metadata": {},
   "source": [
    "## Policies sold in each rank"
   ]
  },
  {
   "cell_type": "code",
   "execution_count": 66,
   "metadata": {
    "scrolled": true
   },
   "outputs": [
    {
     "name": "stdout",
     "output_type": "stream",
     "text": [
      "Total number of policies not sold(0) and sold(1):\n",
      " 0    9217\n",
      "1     783\n",
      "Name: policies_sold, dtype: int64\n"
     ]
    }
   ],
   "source": [
    "print('Total number of policies not sold(0) and sold(1):\\n', df['policies_sold'].value_counts())"
   ]
  },
  {
   "cell_type": "code",
   "execution_count": 65,
   "metadata": {},
   "outputs": [
    {
     "name": "stdout",
     "output_type": "stream",
     "text": [
      "Total number of policies not sold(0) and sold(1) if the ads is click:\n",
      " 0    1095\n",
      "1     783\n",
      "Name: policies_sold, dtype: int64\n"
     ]
    }
   ],
   "source": [
    "print('Total number of policies not sold(0) and sold(1) if the ads is click:\\n', df[df['click']==True]['policies_sold'].value_counts())"
   ]
  },
  {
   "cell_type": "markdown",
   "metadata": {},
   "source": [
    "- The policies sold data is balanced, provided that the ads is clicked."
   ]
  },
  {
   "cell_type": "code",
   "execution_count": 41,
   "metadata": {},
   "outputs": [
    {
     "data": {
      "text/html": [
       "<div>\n",
       "<style scoped>\n",
       "    .dataframe tbody tr th:only-of-type {\n",
       "        vertical-align: middle;\n",
       "    }\n",
       "\n",
       "    .dataframe tbody tr th {\n",
       "        vertical-align: top;\n",
       "    }\n",
       "\n",
       "    .dataframe thead tr th {\n",
       "        text-align: left;\n",
       "    }\n",
       "</style>\n",
       "<table border=\"1\" class=\"dataframe\">\n",
       "  <thead>\n",
       "    <tr>\n",
       "      <th>rank</th>\n",
       "      <th colspan=\"2\" halign=\"left\">1</th>\n",
       "      <th colspan=\"2\" halign=\"left\">2</th>\n",
       "      <th colspan=\"2\" halign=\"left\">3</th>\n",
       "      <th colspan=\"2\" halign=\"left\">4</th>\n",
       "      <th colspan=\"2\" halign=\"left\">5</th>\n",
       "    </tr>\n",
       "    <tr>\n",
       "      <th>policies_sold</th>\n",
       "      <th>0</th>\n",
       "      <th>1</th>\n",
       "      <th>0</th>\n",
       "      <th>1</th>\n",
       "      <th>0</th>\n",
       "      <th>1</th>\n",
       "      <th>0</th>\n",
       "      <th>1</th>\n",
       "      <th>0</th>\n",
       "      <th>1</th>\n",
       "    </tr>\n",
       "  </thead>\n",
       "  <tbody>\n",
       "    <tr>\n",
       "      <th>policies_sold</th>\n",
       "      <td>490</td>\n",
       "      <td>358</td>\n",
       "      <td>253</td>\n",
       "      <td>209</td>\n",
       "      <td>213</td>\n",
       "      <td>138</td>\n",
       "      <td>110</td>\n",
       "      <td>58</td>\n",
       "      <td>29</td>\n",
       "      <td>20</td>\n",
       "    </tr>\n",
       "  </tbody>\n",
       "</table>\n",
       "</div>"
      ],
      "text/plain": [
       "rank             1         2         3         4       5    \n",
       "policies_sold    0    1    0    1    0    1    0   1   0   1\n",
       "policies_sold  490  358  253  209  213  138  110  58  29  20"
      ]
     },
     "execution_count": 41,
     "metadata": {},
     "output_type": "execute_result"
    }
   ],
   "source": [
    "pd.DataFrame(df[df['click']==True].groupby(by=['rank'])['policies_sold'].value_counts()).T"
   ]
  },
  {
   "cell_type": "code",
   "execution_count": 48,
   "metadata": {},
   "outputs": [
    {
     "data": {
      "image/png": "[encoded data removed]",
      "text/plain": [
       "<Figure size 432x288 with 1 Axes>"
      ]
     },
     "metadata": {
      "needs_background": "light"
     },
     "output_type": "display_data"
    }
   ],
   "source": [
    "# Create a new data frame to store policy sold in each rank \n",
    "buy = pd.DataFrame([{'Sold':358, 'Not sold':490},\n",
    "                    {'Sold':209, 'Not sold':253},\n",
    "                    {'Sold':138, 'Not sold':213},\n",
    "                    {'Sold':58, 'Not sold':110},\n",
    "                    {'Sold':20, 'Not sold':29}])\n",
    "\n",
    "buy['percentage'] = buy['Sold']/(buy['Sold'] + buy['Not sold'])*100\n",
    "buy.index+=1\n",
    "percent_buy = '   '.join(str(i.round(2))+'%' for i in np.array(buy['percentage'])) # this is the annotation in the plot below\n",
    "\n",
    "axis = buy[[\"Sold\", \"Not sold\"]].plot(kind=\"bar\", stacked=True)\n",
    "\n",
    "fig = axis.get_figure()\n",
    "axis.set_xticklabels(axis.get_xticks()+1, rotation = 0)\n",
    "plt.xlabel('Ranks', size=14)\n",
    "plt.ylabel('Number of Customers',size=14)\n",
    "plt.title('Policies sold or not if customers click in each rank \\n(Percentage is the sold percentage)', size=16)\n",
    "plt.text(-0.3, 100, percent_buy, size=16);"
   ]
  },
  {
   "cell_type": "markdown",
   "metadata": {},
   "source": [
    "## How customer features affect rank"
   ]
  },
  {
   "cell_type": "markdown",
   "metadata": {},
   "source": [
    "### Number of vehicles"
   ]
  },
  {
   "cell_type": "code",
   "execution_count": 70,
   "metadata": {},
   "outputs": [
    {
     "data": {
      "text/html": [
       "<div>\n",
       "<style scoped>\n",
       "    .dataframe tbody tr th:only-of-type {\n",
       "        vertical-align: middle;\n",
       "    }\n",
       "\n",
       "    .dataframe tbody tr th {\n",
       "        vertical-align: top;\n",
       "    }\n",
       "\n",
       "    .dataframe thead tr th {\n",
       "        text-align: left;\n",
       "    }\n",
       "</style>\n",
       "<table border=\"1\" class=\"dataframe\">\n",
       "  <thead>\n",
       "    <tr>\n",
       "      <th>rank</th>\n",
       "      <th colspan=\"3\" halign=\"left\">1</th>\n",
       "      <th colspan=\"3\" halign=\"left\">2</th>\n",
       "      <th colspan=\"3\" halign=\"left\">3</th>\n",
       "      <th colspan=\"3\" halign=\"left\">4</th>\n",
       "      <th colspan=\"3\" halign=\"left\">5</th>\n",
       "    </tr>\n",
       "    <tr>\n",
       "      <th>Number of Vehicles</th>\n",
       "      <th>1</th>\n",
       "      <th>2</th>\n",
       "      <th>3</th>\n",
       "      <th>1</th>\n",
       "      <th>2</th>\n",
       "      <th>3</th>\n",
       "      <th>1</th>\n",
       "      <th>2</th>\n",
       "      <th>3</th>\n",
       "      <th>3</th>\n",
       "      <th>2</th>\n",
       "      <th>1</th>\n",
       "      <th>3</th>\n",
       "      <th>2</th>\n",
       "      <th>1</th>\n",
       "    </tr>\n",
       "  </thead>\n",
       "  <tbody>\n",
       "    <tr>\n",
       "      <th>Number of Vehicles</th>\n",
       "      <td>898</td>\n",
       "      <td>561</td>\n",
       "      <td>152</td>\n",
       "      <td>910</td>\n",
       "      <td>463</td>\n",
       "      <td>235</td>\n",
       "      <td>927</td>\n",
       "      <td>744</td>\n",
       "      <td>730</td>\n",
       "      <td>863</td>\n",
       "      <td>695</td>\n",
       "      <td>531</td>\n",
       "      <td>1115</td>\n",
       "      <td>1001</td>\n",
       "      <td>175</td>\n",
       "    </tr>\n",
       "  </tbody>\n",
       "</table>\n",
       "</div>"
      ],
      "text/plain": [
       "rank                  1              2              3              4       \\\n",
       "Number of Vehicles    1    2    3    1    2    3    1    2    3    3    2   \n",
       "Number of Vehicles  898  561  152  910  463  235  927  744  730  863  695   \n",
       "\n",
       "rank                        5             \n",
       "Number of Vehicles    1     3     2    1  \n",
       "Number of Vehicles  531  1115  1001  175  "
      ]
     },
     "execution_count": 70,
     "metadata": {},
     "output_type": "execute_result"
    }
   ],
   "source": [
    "pd.DataFrame(df.groupby(['rank'])['Number of Vehicles'].value_counts()).T"
   ]
  },
  {
   "cell_type": "code",
   "execution_count": 71,
   "metadata": {},
   "outputs": [],
   "source": [
    "# Create a dataframe to store number of vehicles in each rank\n",
    "num_vehicles = pd.DataFrame([{'1':898, '2':561, '3':152},\n",
    "                    {'1':910, '2':463, '3':235},\n",
    "                    {'1':927, '2':744, '3':730},\n",
    "                    {'1':531, '2':695, '3':863},\n",
    "                    {'1':175, '2':1001, '3':1115}])\n",
    "num_vehicles.index +=1"
   ]
  },
  {
   "cell_type": "code",
   "execution_count": 73,
   "metadata": {},
   "outputs": [
    {
     "data": {
      "image/png": "[encoded data removed]",
      "text/plain": [
       "<Figure size 432x288 with 1 Axes>"
      ]
     },
     "metadata": {
      "needs_background": "light"
     },
     "output_type": "display_data"
    }
   ],
   "source": [
    "axis = num_vehicles.plot(kind=\"bar\", stacked=True)\n",
    "\n",
    "fig = axis.get_figure()\n",
    "\n",
    "plt.xlabel('Ranks',size=14)\n",
    "plt.ylabel('Number of Vehicles', size=14)\n",
    "plt.title('Number of vehicles in each rank', size=16)\n",
    "axis.set_xticklabels(axis.get_xticks()+1, rotation = 0);"
   ]
  },
  {
   "cell_type": "markdown",
   "metadata": {},
   "source": [
    "- More vehicles a customer owns, more money will be bid by other companies and our ads will have a low rank. "
   ]
  },
  {
   "cell_type": "markdown",
   "metadata": {},
   "source": [
    "### Marrital status"
   ]
  },
  {
   "cell_type": "code",
   "execution_count": 54,
   "metadata": {},
   "outputs": [],
   "source": [
    "df['Married'] = 0\n",
    "df.loc[df['Marital Status']=='M', 'Married'] = 1"
   ]
  },
  {
   "cell_type": "code",
   "execution_count": 74,
   "metadata": {},
   "outputs": [
    {
     "data": {
      "text/html": [
       "<div>\n",
       "<style scoped>\n",
       "    .dataframe tbody tr th:only-of-type {\n",
       "        vertical-align: middle;\n",
       "    }\n",
       "\n",
       "    .dataframe tbody tr th {\n",
       "        vertical-align: top;\n",
       "    }\n",
       "\n",
       "    .dataframe thead tr th {\n",
       "        text-align: left;\n",
       "    }\n",
       "</style>\n",
       "<table border=\"1\" class=\"dataframe\">\n",
       "  <thead>\n",
       "    <tr>\n",
       "      <th>rank</th>\n",
       "      <th colspan=\"2\" halign=\"left\">1</th>\n",
       "      <th colspan=\"2\" halign=\"left\">2</th>\n",
       "      <th colspan=\"2\" halign=\"left\">3</th>\n",
       "      <th colspan=\"2\" halign=\"left\">4</th>\n",
       "      <th colspan=\"2\" halign=\"left\">5</th>\n",
       "    </tr>\n",
       "    <tr>\n",
       "      <th>Married</th>\n",
       "      <th>0</th>\n",
       "      <th>1</th>\n",
       "      <th>1</th>\n",
       "      <th>0</th>\n",
       "      <th>1</th>\n",
       "      <th>0</th>\n",
       "      <th>1</th>\n",
       "      <th>0</th>\n",
       "      <th>1</th>\n",
       "      <th>0</th>\n",
       "    </tr>\n",
       "  </thead>\n",
       "  <tbody>\n",
       "    <tr>\n",
       "      <th>Married</th>\n",
       "      <td>806</td>\n",
       "      <td>805</td>\n",
       "      <td>827</td>\n",
       "      <td>781</td>\n",
       "      <td>1269</td>\n",
       "      <td>1132</td>\n",
       "      <td>1086</td>\n",
       "      <td>1003</td>\n",
       "      <td>1204</td>\n",
       "      <td>1087</td>\n",
       "    </tr>\n",
       "  </tbody>\n",
       "</table>\n",
       "</div>"
      ],
      "text/plain": [
       "rank       1         2          3           4           5      \n",
       "Married    0    1    1    0     1     0     1     0     1     0\n",
       "Married  806  805  827  781  1269  1132  1086  1003  1204  1087"
      ]
     },
     "execution_count": 74,
     "metadata": {},
     "output_type": "execute_result"
    }
   ],
   "source": [
    "pd.DataFrame(df.groupby(by=['rank'])['Married'].value_counts()).T\n"
   ]
  },
  {
   "cell_type": "code",
   "execution_count": 57,
   "metadata": {},
   "outputs": [],
   "source": [
    "# Create a dataframe to store marrital status in each rank\n",
    "marriage = pd.DataFrame([{'Married':806, 'Not Married':805},\n",
    "                    {'Married':827, 'Not Married':781},\n",
    "                    {'Married':1269, 'Not Married':1132},\n",
    "                    {'Married':1086, 'Not Married':1003},\n",
    "                    {'Married':1204, 'Not Married':1087}])\n",
    "percentage = marriage['Married']/(marriage['Married']+marriage['Not Married'])*100\n",
    "marriage.index += 1"
   ]
  },
  {
   "cell_type": "code",
   "execution_count": 75,
   "metadata": {},
   "outputs": [
    {
     "data": {
      "image/png": "[encoded data removed]",
      "text/plain": [
       "<Figure size 432x288 with 1 Axes>"
      ]
     },
     "metadata": {
      "needs_background": "light"
     },
     "output_type": "display_data"
    }
   ],
   "source": [
    "axis = marriage.plot(kind=\"bar\", stacked=True)\n",
    "\n",
    "fig = axis.get_figure()\n",
    "for i in range(len(percentage)):\n",
    "    axis.text(i-0.2, 250, str(int(percentage[i]))+'%', fontsize=16)\n",
    "plt.xlabel('Ranks', size=14)\n",
    "plt.ylabel('Marriage Status', size=14)\n",
    "plt.title('Marriage Status in each rank \\n(Percentage is the married percentage)', size=16)\n",
    "axis.set_xticklabels(axis.get_xticks()+1, rotation = 0);"
   ]
  },
  {
   "cell_type": "markdown",
   "metadata": {},
   "source": [
    "- Marrital status doesn't seem to affect other companies' bidding."
   ]
  },
  {
   "cell_type": "markdown",
   "metadata": {},
   "source": [
    "### Number of drivers"
   ]
  },
  {
   "cell_type": "code",
   "execution_count": 82,
   "metadata": {},
   "outputs": [
    {
     "data": {
      "text/html": [
       "<div>\n",
       "<style scoped>\n",
       "    .dataframe tbody tr th:only-of-type {\n",
       "        vertical-align: middle;\n",
       "    }\n",
       "\n",
       "    .dataframe tbody tr th {\n",
       "        vertical-align: top;\n",
       "    }\n",
       "\n",
       "    .dataframe thead tr th {\n",
       "        text-align: left;\n",
       "    }\n",
       "</style>\n",
       "<table border=\"1\" class=\"dataframe\">\n",
       "  <thead>\n",
       "    <tr>\n",
       "      <th>rank</th>\n",
       "      <th colspan=\"2\" halign=\"left\">1</th>\n",
       "      <th colspan=\"2\" halign=\"left\">2</th>\n",
       "      <th colspan=\"2\" halign=\"left\">3</th>\n",
       "      <th colspan=\"2\" halign=\"left\">4</th>\n",
       "      <th colspan=\"2\" halign=\"left\">5</th>\n",
       "    </tr>\n",
       "    <tr>\n",
       "      <th>Number of Drivers</th>\n",
       "      <th>2</th>\n",
       "      <th>1</th>\n",
       "      <th>2</th>\n",
       "      <th>1</th>\n",
       "      <th>2</th>\n",
       "      <th>1</th>\n",
       "      <th>1</th>\n",
       "      <th>2</th>\n",
       "      <th>1</th>\n",
       "      <th>2</th>\n",
       "    </tr>\n",
       "  </thead>\n",
       "  <tbody>\n",
       "    <tr>\n",
       "      <th>Number of Drivers</th>\n",
       "      <td>886</td>\n",
       "      <td>725</td>\n",
       "      <td>868</td>\n",
       "      <td>740</td>\n",
       "      <td>1228</td>\n",
       "      <td>1173</td>\n",
       "      <td>1090</td>\n",
       "      <td>999</td>\n",
       "      <td>1273</td>\n",
       "      <td>1018</td>\n",
       "    </tr>\n",
       "  </tbody>\n",
       "</table>\n",
       "</div>"
      ],
      "text/plain": [
       "rank                 1         2          3           4          5      \n",
       "Number of Drivers    2    1    2    1     2     1     1    2     1     2\n",
       "Number of Drivers  886  725  868  740  1228  1173  1090  999  1273  1018"
      ]
     },
     "execution_count": 82,
     "metadata": {},
     "output_type": "execute_result"
    }
   ],
   "source": [
    "pd.DataFrame(df.groupby(by=['rank'])['Number of Drivers'].value_counts()).T"
   ]
  },
  {
   "cell_type": "code",
   "execution_count": 83,
   "metadata": {},
   "outputs": [],
   "source": [
    "# Create a dataframe to store number of drivers in each rank\n",
    "num_drivers = pd.DataFrame([{'1':725, '2':886},\n",
    "                    {'1':740, '2':868},\n",
    "                    {'1':1173, '2':1228},\n",
    "                    {'1':1090, '2':999},\n",
    "                    {'1':1273, '2':1018}])\n",
    "percentage = num_drivers['1']/(num_drivers['1']+num_drivers['2'])*100\n",
    "num_drivers.index += 1"
   ]
  },
  {
   "cell_type": "code",
   "execution_count": 84,
   "metadata": {},
   "outputs": [
    {
     "data": {
      "image/png": "[encoded data removed]",
      "text/plain": [
       "<Figure size 432x288 with 1 Axes>"
      ]
     },
     "metadata": {
      "needs_background": "light"
     },
     "output_type": "display_data"
    }
   ],
   "source": [
    "axis = num_drivers.plot(kind=\"bar\", stacked=True)\n",
    "\n",
    "fig = axis.get_figure()\n",
    "for i in range(len(percentage)):\n",
    "    axis.text(i-0.2, 250, str(int(percentage[i]))+'%', fontsize=16)\n",
    "plt.xlabel('Ranks', size=14)\n",
    "plt.ylabel('Number of drivers', size=14)\n",
    "plt.title('Number of drivers in each rank', size=16)\n",
    "axis.set_xticklabels(axis.get_xticks()+1, rotation = 0);"
   ]
  },
  {
   "cell_type": "markdown",
   "metadata": {},
   "source": [
    "- Other companies tend to bid more on one driver than two drivers."
   ]
  },
  {
   "cell_type": "markdown",
   "metadata": {},
   "source": [
    "### Insurance status"
   ]
  },
  {
   "cell_type": "code",
   "execution_count": 79,
   "metadata": {},
   "outputs": [
    {
     "data": {
      "text/html": [
       "<div>\n",
       "<style scoped>\n",
       "    .dataframe tbody tr th:only-of-type {\n",
       "        vertical-align: middle;\n",
       "    }\n",
       "\n",
       "    .dataframe tbody tr th {\n",
       "        vertical-align: top;\n",
       "    }\n",
       "\n",
       "    .dataframe thead tr th {\n",
       "        text-align: left;\n",
       "    }\n",
       "</style>\n",
       "<table border=\"1\" class=\"dataframe\">\n",
       "  <thead>\n",
       "    <tr>\n",
       "      <th>rank</th>\n",
       "      <th colspan=\"3\" halign=\"left\">1</th>\n",
       "      <th colspan=\"3\" halign=\"left\">2</th>\n",
       "      <th colspan=\"3\" halign=\"left\">3</th>\n",
       "      <th colspan=\"3\" halign=\"left\">4</th>\n",
       "      <th colspan=\"2\" halign=\"left\">5</th>\n",
       "    </tr>\n",
       "    <tr>\n",
       "      <th>Currently Insured</th>\n",
       "      <th>unknown</th>\n",
       "      <th>Y</th>\n",
       "      <th>N</th>\n",
       "      <th>unknown</th>\n",
       "      <th>N</th>\n",
       "      <th>Y</th>\n",
       "      <th>N</th>\n",
       "      <th>Y</th>\n",
       "      <th>unknown</th>\n",
       "      <th>N</th>\n",
       "      <th>Y</th>\n",
       "      <th>unknown</th>\n",
       "      <th>Y</th>\n",
       "      <th>N</th>\n",
       "    </tr>\n",
       "  </thead>\n",
       "  <tbody>\n",
       "    <tr>\n",
       "      <th>Currently Insured</th>\n",
       "      <td>1322</td>\n",
       "      <td>167</td>\n",
       "      <td>122</td>\n",
       "      <td>943</td>\n",
       "      <td>374</td>\n",
       "      <td>291</td>\n",
       "      <td>898</td>\n",
       "      <td>794</td>\n",
       "      <td>709</td>\n",
       "      <td>965</td>\n",
       "      <td>961</td>\n",
       "      <td>163</td>\n",
       "      <td>1206</td>\n",
       "      <td>1085</td>\n",
       "    </tr>\n",
       "  </tbody>\n",
       "</table>\n",
       "</div>"
      ],
      "text/plain": [
       "rank                    1                 2              3                 4  \\\n",
       "Currently Insured unknown    Y    N unknown    N    Y    N    Y unknown    N   \n",
       "Currently Insured    1322  167  122     943  374  291  898  794     709  965   \n",
       "\n",
       "rank                               5        \n",
       "Currently Insured    Y unknown     Y     N  \n",
       "Currently Insured  961     163  1206  1085  "
      ]
     },
     "execution_count": 79,
     "metadata": {},
     "output_type": "execute_result"
    }
   ],
   "source": [
    "pd.DataFrame(df.groupby(by=['rank'])['Currently Insured'].value_counts()).T"
   ]
  },
  {
   "cell_type": "code",
   "execution_count": 80,
   "metadata": {},
   "outputs": [],
   "source": [
    "insurance_stat = pd.DataFrame([{'Insured':167, 'Not insured':122, 'Unknown':1322},\n",
    "                    {'Insured':291, 'Not insured':374, 'Unknown':943},\n",
    "                    {'Insured':794, 'Not insured':898, 'Unknown':709},\n",
    "                    {'Insured':961, 'Not insured':965, 'Unknown':163},\n",
    "                    {'Insured':1206, 'Not insured':1085, 'Unknown':0}])\n",
    "y_n_ratio = insurance_stat['Insured']/insurance_stat['Not insured']\n",
    "insurance_stat.index += 1"
   ]
  },
  {
   "cell_type": "code",
   "execution_count": 81,
   "metadata": {},
   "outputs": [
    {
     "data": {
      "image/png": "[encoded data removed]",
      "text/plain": [
       "<Figure size 432x288 with 1 Axes>"
      ]
     },
     "metadata": {
      "needs_background": "light"
     },
     "output_type": "display_data"
    }
   ],
   "source": [
    "axis = insurance_stat.plot(kind=\"bar\", stacked=True)\n",
    "\n",
    "fig = axis.get_figure()\n",
    "for i in range(len(percentage)):\n",
    "    axis.text(i-0.2, 100, '%.2f'%y_n_ratio[i], fontsize=16)\n",
    "plt.xlabel('Ranks', size=14)\n",
    "plt.ylabel('Insurance Status', size=14)\n",
    "plt.title('Insurance Status in each rank\\n (The numbers are insured-to-uninsured ratio)', size=16)\n",
    "axis.set_xticklabels(axis.get_xticks()+1, rotation = 0);"
   ]
  },
  {
   "cell_type": "markdown",
   "metadata": {},
   "source": [
    "- Unknown insurance status discourages other companies to bid high."
   ]
  },
  {
   "cell_type": "code",
   "execution_count": null,
   "metadata": {},
   "outputs": [],
   "source": [
    "    "
   ]
  }
 ],
 "metadata": {
  "kernelspec": {
   "display_name": "Python 3",
   "language": "python",
   "name": "python3"
  },
  "language_info": {
   "codemirror_mode": {
    "name": "ipython",
    "version": 3
   },
   "file_extension": ".py",
   "mimetype": "text/x-python",
   "name": "python",
   "nbconvert_exporter": "python",
   "pygments_lexer": "ipython3",
   "version": "3.7.0"
  }
 },
 "nbformat": 4,
 "nbformat_minor": 2
}
