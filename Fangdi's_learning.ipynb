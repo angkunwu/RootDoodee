{
 "cells": [
  {
   "cell_type": "markdown",
   "metadata": {},
   "source": [
    "# Data Preprocess"
   ]
  },
  {
   "cell_type": "code",
   "execution_count": 2,
   "metadata": {},
   "outputs": [],
   "source": [
    "import numpy as np\n",
    "import pandas as pd\n",
    "import matplotlib.pyplot as plt"
   ]
  },
  {
   "cell_type": "code",
   "execution_count": 13,
   "metadata": {},
   "outputs": [],
   "source": [
    "from sklearn.metrics import roc_auc_score"
   ]
  },
  {
   "cell_type": "code",
   "execution_count": 3,
   "metadata": {},
   "outputs": [
    {
     "data": {
      "text/html": [
       "<div>\n",
       "<style scoped>\n",
       "    .dataframe tbody tr th:only-of-type {\n",
       "        vertical-align: middle;\n",
       "    }\n",
       "\n",
       "    .dataframe tbody tr th {\n",
       "        vertical-align: top;\n",
       "    }\n",
       "\n",
       "    .dataframe thead th {\n",
       "        text-align: right;\n",
       "    }\n",
       "</style>\n",
       "<table border=\"1\" class=\"dataframe\">\n",
       "  <thead>\n",
       "    <tr style=\"text-align: right;\">\n",
       "      <th></th>\n",
       "      <th>if_alinsured</th>\n",
       "      <th>Number of Vehicles</th>\n",
       "      <th>Number of Drivers</th>\n",
       "      <th>if_clicked</th>\n",
       "      <th>if_married</th>\n",
       "      <th>if_insured</th>\n",
       "      <th>rank</th>\n",
       "    </tr>\n",
       "  </thead>\n",
       "  <tbody>\n",
       "    <tr>\n",
       "      <th>0</th>\n",
       "      <td>0.5</td>\n",
       "      <td>2</td>\n",
       "      <td>1</td>\n",
       "      <td>0</td>\n",
       "      <td>1</td>\n",
       "      <td>0</td>\n",
       "      <td>2</td>\n",
       "    </tr>\n",
       "    <tr>\n",
       "      <th>1</th>\n",
       "      <td>1.0</td>\n",
       "      <td>3</td>\n",
       "      <td>1</td>\n",
       "      <td>0</td>\n",
       "      <td>1</td>\n",
       "      <td>0</td>\n",
       "      <td>5</td>\n",
       "    </tr>\n",
       "    <tr>\n",
       "      <th>2</th>\n",
       "      <td>1.0</td>\n",
       "      <td>3</td>\n",
       "      <td>2</td>\n",
       "      <td>0</td>\n",
       "      <td>1</td>\n",
       "      <td>0</td>\n",
       "      <td>5</td>\n",
       "    </tr>\n",
       "    <tr>\n",
       "      <th>3</th>\n",
       "      <td>0.0</td>\n",
       "      <td>3</td>\n",
       "      <td>2</td>\n",
       "      <td>0</td>\n",
       "      <td>0</td>\n",
       "      <td>0</td>\n",
       "      <td>4</td>\n",
       "    </tr>\n",
       "    <tr>\n",
       "      <th>4</th>\n",
       "      <td>0.5</td>\n",
       "      <td>2</td>\n",
       "      <td>2</td>\n",
       "      <td>0</td>\n",
       "      <td>0</td>\n",
       "      <td>0</td>\n",
       "      <td>2</td>\n",
       "    </tr>\n",
       "  </tbody>\n",
       "</table>\n",
       "</div>"
      ],
      "text/plain": [
       "   if_alinsured  Number of Vehicles  Number of Drivers  if_clicked  \\\n",
       "0           0.5                   2                  1           0   \n",
       "1           1.0                   3                  1           0   \n",
       "2           1.0                   3                  2           0   \n",
       "3           0.0                   3                  2           0   \n",
       "4           0.5                   2                  2           0   \n",
       "\n",
       "   if_married  if_insured  rank  \n",
       "0           1           0     2  \n",
       "1           1           0     5  \n",
       "2           1           0     5  \n",
       "3           0           0     4  \n",
       "4           0           0     2  "
      ]
     },
     "execution_count": 3,
     "metadata": {},
     "output_type": "execute_result"
    }
   ],
   "source": [
    "df=pd.read_csv('Root_Insurance_data.csv')\n",
    "df['if_clicked']=0\n",
    "df.loc[df.click == True,'if_clicked']=1\n",
    "df['if_married']=0\n",
    "df.loc[df['Marital Status'] == 'M','if_married']=1\n",
    "####below I treat unknown section as 0.5, which is different from others'\n",
    "df['if_alinsured']=0.5\n",
    "df.loc[df['Currently Insured'] == 'Y','if_alinsured']=1\n",
    "df.loc[df['Currently Insured'] == 'N','if_alinsured']=0\n",
    "########\n",
    "df=df[['if_alinsured','Number of Vehicles','Number of Drivers','if_clicked','if_married','if_insured','rank']]\n",
    "df.head()"
   ]
  },
  {
   "cell_type": "code",
   "execution_count": 174,
   "metadata": {},
   "outputs": [
    {
     "data": {
      "text/html": [
       "<div>\n",
       "<style scoped>\n",
       "    .dataframe tbody tr th:only-of-type {\n",
       "        vertical-align: middle;\n",
       "    }\n",
       "\n",
       "    .dataframe tbody tr th {\n",
       "        vertical-align: top;\n",
       "    }\n",
       "\n",
       "    .dataframe thead th {\n",
       "        text-align: right;\n",
       "    }\n",
       "</style>\n",
       "<table border=\"1\" class=\"dataframe\">\n",
       "  <thead>\n",
       "    <tr style=\"text-align: right;\">\n",
       "      <th></th>\n",
       "      <th>Currently Insured</th>\n",
       "      <th>Number of Vehicles</th>\n",
       "      <th>Number of Drivers</th>\n",
       "      <th>Marital Status</th>\n",
       "      <th>rank</th>\n",
       "      <th>if_alinsured</th>\n",
       "      <th>if_married</th>\n",
       "    </tr>\n",
       "  </thead>\n",
       "  <tbody>\n",
       "    <tr>\n",
       "      <th>0</th>\n",
       "      <td>Y</td>\n",
       "      <td>1</td>\n",
       "      <td>1</td>\n",
       "      <td>S</td>\n",
       "      <td>1</td>\n",
       "      <td>1.0</td>\n",
       "      <td>0</td>\n",
       "    </tr>\n",
       "    <tr>\n",
       "      <th>1</th>\n",
       "      <td>Y</td>\n",
       "      <td>1</td>\n",
       "      <td>1</td>\n",
       "      <td>S</td>\n",
       "      <td>2</td>\n",
       "      <td>1.0</td>\n",
       "      <td>0</td>\n",
       "    </tr>\n",
       "    <tr>\n",
       "      <th>2</th>\n",
       "      <td>Y</td>\n",
       "      <td>1</td>\n",
       "      <td>1</td>\n",
       "      <td>S</td>\n",
       "      <td>3</td>\n",
       "      <td>1.0</td>\n",
       "      <td>0</td>\n",
       "    </tr>\n",
       "    <tr>\n",
       "      <th>3</th>\n",
       "      <td>Y</td>\n",
       "      <td>1</td>\n",
       "      <td>1</td>\n",
       "      <td>S</td>\n",
       "      <td>4</td>\n",
       "      <td>1.0</td>\n",
       "      <td>0</td>\n",
       "    </tr>\n",
       "    <tr>\n",
       "      <th>4</th>\n",
       "      <td>Y</td>\n",
       "      <td>1</td>\n",
       "      <td>1</td>\n",
       "      <td>S</td>\n",
       "      <td>5</td>\n",
       "      <td>1.0</td>\n",
       "      <td>0</td>\n",
       "    </tr>\n",
       "  </tbody>\n",
       "</table>\n",
       "</div>"
      ],
      "text/plain": [
       "  Currently Insured  Number of Vehicles  Number of Drivers Marital Status  \\\n",
       "0                 Y                   1                  1              S   \n",
       "1                 Y                   1                  1              S   \n",
       "2                 Y                   1                  1              S   \n",
       "3                 Y                   1                  1              S   \n",
       "4                 Y                   1                  1              S   \n",
       "\n",
       "   rank  if_alinsured  if_married  \n",
       "0     1           1.0           0  \n",
       "1     2           1.0           0  \n",
       "2     3           1.0           0  \n",
       "3     4           1.0           0  \n",
       "4     5           1.0           0  "
      ]
     },
     "execution_count": 174,
     "metadata": {},
     "output_type": "execute_result"
    }
   ],
   "source": [
    "#here is the X to generate the probability for each type of person\n",
    "df_types=pd.read_csv('input.csv')\n",
    "df_types['if_alinsured']=0.5\n",
    "df_types.loc[df_types['Currently Insured'] == 'Y','if_alinsured']=1\n",
    "df_types.loc[df_types['Currently Insured'] == 'N','if_alinsured']=0\n",
    "df_types['if_married']=0\n",
    "df_types.loc[df_types['Marital Status'] == 'M','if_married']=1\n",
    "df_types.head()"
   ]
  },
  {
   "cell_type": "code",
   "execution_count": 214,
   "metadata": {},
   "outputs": [],
   "source": [
    "X_test=np.array(df_types[['if_alinsured','Number of Vehicles','Number of Drivers','if_married','rank']])"
   ]
  },
  {
   "cell_type": "markdown",
   "metadata": {},
   "source": [
    "# Classification for clicking"
   ]
  },
  {
   "cell_type": "code",
   "execution_count": 276,
   "metadata": {},
   "outputs": [],
   "source": [
    "X=df[['if_alinsured','Number of Vehicles','Number of Drivers','if_married','rank']]\n",
    "yC=df['if_clicked']"
   ]
  },
  {
   "cell_type": "code",
   "execution_count": 152,
   "metadata": {},
   "outputs": [],
   "source": [
    "from sklearn.ensemble import RandomForestClassifier\n",
    "from sklearn.neighbors import KNeighborsClassifier\n",
    "from sklearn.linear_model import LogisticRegression\n",
    "from sklearn.svm import SVC\n",
    "\n",
    "## The VotingClassifier\n",
    "from sklearn.ensemble import VotingClassifier\n",
    "\n",
    "## import accuracy metric\n",
    "from sklearn.metrics import accuracy_score"
   ]
  },
  {
   "cell_type": "code",
   "execution_count": 277,
   "metadata": {},
   "outputs": [],
   "source": [
    "log_c = LogisticRegression()\n",
    "rf_c = RandomForestClassifier(max_depth = 4)\n",
    "svm_c = SVC(probability=True)#Otherwise don't have prob distribution\n",
    "knn_c = KNeighborsClassifier()\n",
    "voting_c = VotingClassifier(\n",
    "                [('lr',log_c),\n",
    "                ('rf',rf_c),\n",
    "                ('svm',svm_c),\n",
    "                ('knn',knn_c)],\n",
    "                voting = \"soft\")"
   ]
  },
  {
   "cell_type": "code",
   "execution_count": 278,
   "metadata": {},
   "outputs": [
    {
     "name": "stdout",
     "output_type": "stream",
     "text": [
      "log_c\n",
      "rf_c\n",
      "svm_c\n",
      "knn_c\n",
      "voting_c\n"
     ]
    }
   ],
   "source": [
    "#fit each model and generate the predict table\n",
    "df_types['log_c']=0\n",
    "df_types['rf_c']=0\n",
    "df_types['svm_c']=0\n",
    "df_types['knn_c']=0\n",
    "df_types['voting_c']=0\n",
    "for name,clf in ([\"log_c\",log_c],[\"rf_c\",rf_c],\n",
    "                 [\"svm_c\",svm_c],[\"knn_c\",knn_c],\n",
    "                 [\"voting_c\",voting_c]):\n",
    "    # fit the model\n",
    "    clf.fit(X,yC)\n",
    "    \n",
    "    # predict\n",
    "    df_types[name] = clf.predict_proba(X_test)[:,1]\n",
    "    print(name)"
   ]
  },
  {
   "cell_type": "markdown",
   "metadata": {},
   "source": [
    "# Classification for Sale (P(sale|clicked))"
   ]
  },
  {
   "cell_type": "code",
   "execution_count": 279,
   "metadata": {},
   "outputs": [],
   "source": [
    "df_clicked=df[df['if_clicked']==1]\n",
    "X=df_clicked[['if_alinsured','Number of Vehicles','Number of Drivers','if_married','rank']]\n",
    "y=df_clicked['if_insured']\n",
    "log_s = LogisticRegression(max_iter=10000)\n",
    "rf_s = RandomForestClassifier(max_depth = 4)\n",
    "svm_s = SVC(probability=True)#Otherwise don't have prob distribution\n",
    "knn_s = KNeighborsClassifier()\n",
    "voting_s = VotingClassifier(\n",
    "                [('lr',log_s),\n",
    "                ('rf',rf_s),\n",
    "                ('svm',svm_s),\n",
    "                ('knn',knn_s)],\n",
    "                voting = \"soft\")"
   ]
  },
  {
   "cell_type": "code",
   "execution_count": 280,
   "metadata": {},
   "outputs": [
    {
     "data": {
      "text/html": [
       "<div>\n",
       "<style scoped>\n",
       "    .dataframe tbody tr th:only-of-type {\n",
       "        vertical-align: middle;\n",
       "    }\n",
       "\n",
       "    .dataframe tbody tr th {\n",
       "        vertical-align: top;\n",
       "    }\n",
       "\n",
       "    .dataframe thead th {\n",
       "        text-align: right;\n",
       "    }\n",
       "</style>\n",
       "<table border=\"1\" class=\"dataframe\">\n",
       "  <thead>\n",
       "    <tr style=\"text-align: right;\">\n",
       "      <th></th>\n",
       "      <th>if_alinsured</th>\n",
       "      <th>Number of Vehicles</th>\n",
       "      <th>Number of Drivers</th>\n",
       "      <th>if_married</th>\n",
       "      <th>rank</th>\n",
       "    </tr>\n",
       "  </thead>\n",
       "  <tbody>\n",
       "    <tr>\n",
       "      <th>12</th>\n",
       "      <td>1.0</td>\n",
       "      <td>2</td>\n",
       "      <td>1</td>\n",
       "      <td>0</td>\n",
       "      <td>3</td>\n",
       "    </tr>\n",
       "    <tr>\n",
       "      <th>14</th>\n",
       "      <td>0.5</td>\n",
       "      <td>2</td>\n",
       "      <td>2</td>\n",
       "      <td>0</td>\n",
       "      <td>2</td>\n",
       "    </tr>\n",
       "    <tr>\n",
       "      <th>16</th>\n",
       "      <td>0.5</td>\n",
       "      <td>1</td>\n",
       "      <td>2</td>\n",
       "      <td>1</td>\n",
       "      <td>1</td>\n",
       "    </tr>\n",
       "    <tr>\n",
       "      <th>28</th>\n",
       "      <td>0.5</td>\n",
       "      <td>1</td>\n",
       "      <td>2</td>\n",
       "      <td>1</td>\n",
       "      <td>1</td>\n",
       "    </tr>\n",
       "    <tr>\n",
       "      <th>32</th>\n",
       "      <td>0.5</td>\n",
       "      <td>2</td>\n",
       "      <td>2</td>\n",
       "      <td>1</td>\n",
       "      <td>2</td>\n",
       "    </tr>\n",
       "  </tbody>\n",
       "</table>\n",
       "</div>"
      ],
      "text/plain": [
       "    if_alinsured  Number of Vehicles  Number of Drivers  if_married  rank\n",
       "12           1.0                   2                  1           0     3\n",
       "14           0.5                   2                  2           0     2\n",
       "16           0.5                   1                  2           1     1\n",
       "28           0.5                   1                  2           1     1\n",
       "32           0.5                   2                  2           1     2"
      ]
     },
     "execution_count": 280,
     "metadata": {},
     "output_type": "execute_result"
    }
   ],
   "source": [
    "X.head()"
   ]
  },
  {
   "cell_type": "code",
   "execution_count": 281,
   "metadata": {},
   "outputs": [
    {
     "name": "stdout",
     "output_type": "stream",
     "text": [
      "log_s\n",
      "rf_s\n",
      "svm_s\n",
      "knn_s\n",
      "voting_s\n"
     ]
    }
   ],
   "source": [
    "#do the fitting and prediction\n",
    "df_types['log_s']=0\n",
    "df_types['rf_s']=0\n",
    "df_types['svm_s']=0\n",
    "df_types['knn_s']=0\n",
    "df_types['voting_s']=0\n",
    "for name,clf in ([\"log_s\",log_s],[\"rf_s\",rf_s],\n",
    "                 [\"svm_s\",svm_s],[\"knn_s\",knn_s],\n",
    "                 [\"voting_s\",voting_s]):\n",
    "    # fit the model\n",
    "    clf.fit(X,y)\n",
    "    \n",
    "    # predict\n",
    "    df_types[name] = clf.predict_proba(X_test)\n",
    "    print(name)"
   ]
  },
  {
   "cell_type": "code",
   "execution_count": 282,
   "metadata": {},
   "outputs": [],
   "source": [
    "#P(Sale|clicked)*P(Clicked)=P(Sale)\n",
    "df_types['log_s']=df_types['log_s']*df_types['log_c']\n",
    "df_types['rf_s']=df_types['rf_s']*df_types['rf_c']\n",
    "df_types['svm_s']=df_types['svm_s']*df_types['svm_c']\n",
    "df_types['knn_s']=df_types['knn_s']*df_types['knn_c']\n",
    "df_types['voting_s']=df_types['voting_s']*df_types['voting_c']"
   ]
  },
  {
   "cell_type": "code",
   "execution_count": 283,
   "metadata": {},
   "outputs": [],
   "source": [
    "df_types.to_csv('Fangdi_output.csv')"
   ]
  },
  {
   "cell_type": "markdown",
   "metadata": {},
   "source": [
    "# Compare different predictions"
   ]
  },
  {
   "cell_type": "code",
   "execution_count": 284,
   "metadata": {},
   "outputs": [
    {
     "data": {
      "text/html": [
       "<div>\n",
       "<style scoped>\n",
       "    .dataframe tbody tr th:only-of-type {\n",
       "        vertical-align: middle;\n",
       "    }\n",
       "\n",
       "    .dataframe tbody tr th {\n",
       "        vertical-align: top;\n",
       "    }\n",
       "\n",
       "    .dataframe thead th {\n",
       "        text-align: right;\n",
       "    }\n",
       "</style>\n",
       "<table border=\"1\" class=\"dataframe\">\n",
       "  <thead>\n",
       "    <tr style=\"text-align: right;\">\n",
       "      <th></th>\n",
       "      <th>Currently Insured</th>\n",
       "      <th>Number of Vehicles</th>\n",
       "      <th>Number of Drivers</th>\n",
       "      <th>Marital Status</th>\n",
       "      <th>rank</th>\n",
       "      <th>click_rate_Josh</th>\n",
       "      <th>purchase_rate_Josh</th>\n",
       "      <th>click_rate_Angkun</th>\n",
       "      <th>purchase_rate_Angkun</th>\n",
       "      <th>click_rate_actual</th>\n",
       "      <th>...</th>\n",
       "      <th>click_rate_fangdi_log</th>\n",
       "      <th>click_rate_fangdi_rf</th>\n",
       "      <th>click_rate_fangdi_svm</th>\n",
       "      <th>click_rate_fangdi_knn</th>\n",
       "      <th>click_rate_fangdi_voting</th>\n",
       "      <th>purchase_rate_fangdi_log</th>\n",
       "      <th>purchase_rate_fangdi_rf</th>\n",
       "      <th>purchase_rate_fangdi_svm</th>\n",
       "      <th>purchase_rate_fangdi_knn</th>\n",
       "      <th>purchase_rate_fangdi_voting</th>\n",
       "    </tr>\n",
       "  </thead>\n",
       "  <tbody>\n",
       "    <tr>\n",
       "      <th>0</th>\n",
       "      <td>Y</td>\n",
       "      <td>1</td>\n",
       "      <td>1</td>\n",
       "      <td>S</td>\n",
       "      <td>1</td>\n",
       "      <td>0.652140</td>\n",
       "      <td>0.255747</td>\n",
       "      <td>0.286417</td>\n",
       "      <td>0.163142</td>\n",
       "      <td>0.583333</td>\n",
       "      <td>...</td>\n",
       "      <td>0.562682</td>\n",
       "      <td>0.579012</td>\n",
       "      <td>0.649875</td>\n",
       "      <td>0.2</td>\n",
       "      <td>0.500701</td>\n",
       "      <td>0.325226</td>\n",
       "      <td>0.348134</td>\n",
       "      <td>0.368432</td>\n",
       "      <td>0.12</td>\n",
       "      <td>0.293601</td>\n",
       "    </tr>\n",
       "    <tr>\n",
       "      <th>1</th>\n",
       "      <td>Y</td>\n",
       "      <td>1</td>\n",
       "      <td>1</td>\n",
       "      <td>S</td>\n",
       "      <td>2</td>\n",
       "      <td>0.273367</td>\n",
       "      <td>0.166719</td>\n",
       "      <td>0.180988</td>\n",
       "      <td>0.109805</td>\n",
       "      <td>0.270270</td>\n",
       "      <td>...</td>\n",
       "      <td>0.343448</td>\n",
       "      <td>0.268303</td>\n",
       "      <td>0.131656</td>\n",
       "      <td>0.0</td>\n",
       "      <td>0.187211</td>\n",
       "      <td>0.201181</td>\n",
       "      <td>0.096212</td>\n",
       "      <td>0.065828</td>\n",
       "      <td>0.00</td>\n",
       "      <td>0.077386</td>\n",
       "    </tr>\n",
       "    <tr>\n",
       "      <th>2</th>\n",
       "      <td>Y</td>\n",
       "      <td>1</td>\n",
       "      <td>1</td>\n",
       "      <td>S</td>\n",
       "      <td>3</td>\n",
       "      <td>0.164865</td>\n",
       "      <td>0.090513</td>\n",
       "      <td>0.141785</td>\n",
       "      <td>0.071408</td>\n",
       "      <td>0.172043</td>\n",
       "      <td>...</td>\n",
       "      <td>0.175378</td>\n",
       "      <td>0.168214</td>\n",
       "      <td>0.116215</td>\n",
       "      <td>0.2</td>\n",
       "      <td>0.167121</td>\n",
       "      <td>0.104087</td>\n",
       "      <td>0.083213</td>\n",
       "      <td>0.060489</td>\n",
       "      <td>0.08</td>\n",
       "      <td>0.085298</td>\n",
       "    </tr>\n",
       "    <tr>\n",
       "      <th>3</th>\n",
       "      <td>Y</td>\n",
       "      <td>1</td>\n",
       "      <td>1</td>\n",
       "      <td>S</td>\n",
       "      <td>4</td>\n",
       "      <td>0.028772</td>\n",
       "      <td>0.074612</td>\n",
       "      <td>0.095850</td>\n",
       "      <td>0.046068</td>\n",
       "      <td>0.111111</td>\n",
       "      <td>...</td>\n",
       "      <td>0.079585</td>\n",
       "      <td>0.108492</td>\n",
       "      <td>0.131700</td>\n",
       "      <td>0.0</td>\n",
       "      <td>0.081428</td>\n",
       "      <td>0.047845</td>\n",
       "      <td>0.063581</td>\n",
       "      <td>0.076774</td>\n",
       "      <td>0.00</td>\n",
       "      <td>0.045014</td>\n",
       "    </tr>\n",
       "    <tr>\n",
       "      <th>4</th>\n",
       "      <td>Y</td>\n",
       "      <td>1</td>\n",
       "      <td>1</td>\n",
       "      <td>S</td>\n",
       "      <td>5</td>\n",
       "      <td>0.061573</td>\n",
       "      <td>0.027364</td>\n",
       "      <td>0.062800</td>\n",
       "      <td>0.029435</td>\n",
       "      <td>-7.000000</td>\n",
       "      <td>...</td>\n",
       "      <td>0.033960</td>\n",
       "      <td>0.069802</td>\n",
       "      <td>0.102014</td>\n",
       "      <td>0.0</td>\n",
       "      <td>0.052571</td>\n",
       "      <td>0.020676</td>\n",
       "      <td>0.044667</td>\n",
       "      <td>0.061794</td>\n",
       "      <td>0.00</td>\n",
       "      <td>0.030291</td>\n",
       "    </tr>\n",
       "  </tbody>\n",
       "</table>\n",
       "<p>5 rows × 25 columns</p>\n",
       "</div>"
      ],
      "text/plain": [
       "  Currently Insured  Number of Vehicles  Number of Drivers Marital Status  \\\n",
       "0                 Y                   1                  1              S   \n",
       "1                 Y                   1                  1              S   \n",
       "2                 Y                   1                  1              S   \n",
       "3                 Y                   1                  1              S   \n",
       "4                 Y                   1                  1              S   \n",
       "\n",
       "   rank  click_rate_Josh  purchase_rate_Josh  click_rate_Angkun  \\\n",
       "0     1         0.652140            0.255747           0.286417   \n",
       "1     2         0.273367            0.166719           0.180988   \n",
       "2     3         0.164865            0.090513           0.141785   \n",
       "3     4         0.028772            0.074612           0.095850   \n",
       "4     5         0.061573            0.027364           0.062800   \n",
       "\n",
       "   purchase_rate_Angkun  click_rate_actual  ...  click_rate_fangdi_log  \\\n",
       "0              0.163142           0.583333  ...               0.562682   \n",
       "1              0.109805           0.270270  ...               0.343448   \n",
       "2              0.071408           0.172043  ...               0.175378   \n",
       "3              0.046068           0.111111  ...               0.079585   \n",
       "4              0.029435          -7.000000  ...               0.033960   \n",
       "\n",
       "   click_rate_fangdi_rf  click_rate_fangdi_svm  click_rate_fangdi_knn  \\\n",
       "0              0.579012               0.649875                    0.2   \n",
       "1              0.268303               0.131656                    0.0   \n",
       "2              0.168214               0.116215                    0.2   \n",
       "3              0.108492               0.131700                    0.0   \n",
       "4              0.069802               0.102014                    0.0   \n",
       "\n",
       "   click_rate_fangdi_voting  purchase_rate_fangdi_log  \\\n",
       "0                  0.500701                  0.325226   \n",
       "1                  0.187211                  0.201181   \n",
       "2                  0.167121                  0.104087   \n",
       "3                  0.081428                  0.047845   \n",
       "4                  0.052571                  0.020676   \n",
       "\n",
       "   purchase_rate_fangdi_rf  purchase_rate_fangdi_svm  \\\n",
       "0                 0.348134                  0.368432   \n",
       "1                 0.096212                  0.065828   \n",
       "2                 0.083213                  0.060489   \n",
       "3                 0.063581                  0.076774   \n",
       "4                 0.044667                  0.061794   \n",
       "\n",
       "   purchase_rate_fangdi_knn  purchase_rate_fangdi_voting  \n",
       "0                      0.12                     0.293601  \n",
       "1                      0.00                     0.077386  \n",
       "2                      0.08                     0.085298  \n",
       "3                      0.00                     0.045014  \n",
       "4                      0.00                     0.030291  \n",
       "\n",
       "[5 rows x 25 columns]"
      ]
     },
     "execution_count": 284,
     "metadata": {},
     "output_type": "execute_result"
    }
   ],
   "source": [
    "#here we load all predictions using different model with same input\n",
    "pred=pd.read_csv('prob_predictions.csv')\n",
    "pred.head()"
   ]
  },
  {
   "cell_type": "code",
   "execution_count": 285,
   "metadata": {},
   "outputs": [],
   "source": [
    "pred['click_rate_fangdi_log']=df_types['log_c']\n",
    "pred['click_rate_fangdi_rf']=df_types['rf_c']\n",
    "pred['click_rate_fangdi_svm']=df_types['svm_c']\n",
    "pred['click_rate_fangdi_knn']=df_types['knn_c']\n",
    "pred['click_rate_fangdi_voting']=df_types['voting_c']\n",
    "\n",
    "pred['purchase_rate_fangdi_log']=df_types['log_s']\n",
    "pred['purchase_rate_fangdi_rf']=df_types['rf_s']\n",
    "pred['purchase_rate_fangdi_svm']=df_types['svm_s']\n",
    "pred['purchase_rate_fangdi_knn']=df_types['knn_s']\n",
    "pred['purchase_rate_fangdi_voting']=df_types['voting_s']"
   ]
  },
  {
   "cell_type": "code",
   "execution_count": 286,
   "metadata": {},
   "outputs": [
    {
     "data": {
      "text/plain": [
       "Index(['Currently Insured', 'Number of Vehicles', 'Number of Drivers',\n",
       "       'Marital Status', 'rank', 'click_rate_Josh', 'purchase_rate_Josh',\n",
       "       'click_rate_Angkun', 'purchase_rate_Angkun', 'click_rate_actual',\n",
       "       'purchase_rate_actual', 'click_rate_yushan_logreg',\n",
       "       'click_rate_yushan_knn', 'purchase_rate_yushan_logreg',\n",
       "       'purchase_rate_yushan_knn', 'click_rate_fangdi_log',\n",
       "       'click_rate_fangdi_rf', 'click_rate_fangdi_svm',\n",
       "       'click_rate_fangdi_knn', 'click_rate_fangdi_voting',\n",
       "       'purchase_rate_fangdi_log', 'purchase_rate_fangdi_rf',\n",
       "       'purchase_rate_fangdi_svm', 'purchase_rate_fangdi_knn',\n",
       "       'purchase_rate_fangdi_voting'],\n",
       "      dtype='object')"
      ]
     },
     "execution_count": 286,
     "metadata": {},
     "output_type": "execute_result"
    }
   ],
   "source": [
    "pred.columns"
   ]
  },
  {
   "cell_type": "code",
   "execution_count": null,
   "metadata": {},
   "outputs": [],
   "source": []
  },
  {
   "cell_type": "code",
   "execution_count": 287,
   "metadata": {},
   "outputs": [],
   "source": [
    "#define a function to find all variance between pred and actual value\n",
    "def find_var(pred,actual):\n",
    "    var=0\n",
    "    length=0\n",
    "    for i in range(len(actual)-1):\n",
    "        if actual.iloc[i]!=-7:\n",
    "            var+=(actual.iloc[i]-pred.iloc[i])**2\n",
    "            length+=1\n",
    "    return var/length"
   ]
  },
  {
   "cell_type": "code",
   "execution_count": 289,
   "metadata": {},
   "outputs": [],
   "source": [
    "name=['Josh','Angkun','Yushan_log','Yushan_knn','fangdi_log','fangdi_rf','fangdi_svm','fangdi_knn']"
   ]
  },
  {
   "cell_type": "code",
   "execution_count": 290,
   "metadata": {},
   "outputs": [],
   "source": [
    "Click=[0]*len(name)"
   ]
  },
  {
   "cell_type": "code",
   "execution_count": 291,
   "metadata": {},
   "outputs": [],
   "source": [
    "Click[0]=find_var(pred['click_rate_Josh'],pred['click_rate_actual'])"
   ]
  },
  {
   "cell_type": "code",
   "execution_count": 292,
   "metadata": {},
   "outputs": [],
   "source": [
    "Click[1]=find_var(pred['click_rate_Angkun'],pred['click_rate_actual'])\n",
    "Click[2]=find_var(pred['click_rate_yushan_logreg'],pred['click_rate_actual'])\n",
    "Click[3]=find_var(pred['click_rate_yushan_knn'],pred['click_rate_actual'])\n",
    "Click[4]=find_var(pred['click_rate_fangdi_log'],pred['click_rate_actual'])\n",
    "Click[5]=find_var(pred['click_rate_fangdi_rf'],pred['click_rate_actual'])\n",
    "Click[6]=find_var(pred['click_rate_fangdi_svm'],pred['click_rate_actual'])\n",
    "Click[7]=find_var(pred['click_rate_fangdi_knn'],pred['click_rate_actual'])"
   ]
  },
  {
   "cell_type": "code",
   "execution_count": 293,
   "metadata": {},
   "outputs": [],
   "source": [
    "Sale=[0]*len(name)"
   ]
  },
  {
   "cell_type": "code",
   "execution_count": 294,
   "metadata": {},
   "outputs": [],
   "source": [
    "Sale[0]=find_var(pred['purchase_rate_Josh'],pred['purchase_rate_actual'])\n",
    "Sale[1]=find_var(pred['purchase_rate_Angkun'],pred['purchase_rate_actual'])\n",
    "Sale[2]=find_var(pred['purchase_rate_yushan_logreg'],pred['purchase_rate_actual'])\n",
    "Sale[3]=find_var(pred['purchase_rate_yushan_knn'],pred['purchase_rate_actual'])\n",
    "Sale[4]=find_var(pred['purchase_rate_fangdi_log'],pred['purchase_rate_actual'])\n",
    "Sale[5]=find_var(pred['purchase_rate_fangdi_rf'],pred['purchase_rate_actual'])\n",
    "Sale[6]=find_var(pred['purchase_rate_fangdi_svm'],pred['purchase_rate_actual'])\n",
    "Sale[7]=find_var(pred['purchase_rate_fangdi_knn'],pred['purchase_rate_actual'])"
   ]
  },
  {
   "cell_type": "code",
   "execution_count": 300,
   "metadata": {},
   "outputs": [
    {
     "data": {
      "image/png": "[encoded data removed]",
      "text/plain": [
       "<Figure size 1080x360 with 1 Axes>"
      ]
     },
     "metadata": {
      "needs_background": "light"
     },
     "output_type": "display_data"
    }
   ],
   "source": [
    "##plot the comparison of different models\n",
    "x = np.array([0.0,1.0,2.0,3.0,4.0,5.0,6.0,7.0])  # the label locations\n",
    "width = 0.25  # the width of the bars\n",
    "\n",
    "fig, ax = plt.subplots(figsize=(15,5))\n",
    "rects1 = ax.bar(x - width/2, np.sqrt(Click), width, label='Click')\n",
    "\n",
    "rects2 = ax.bar(x + width/2, np.sqrt(Sale), width, label='Sale')\n",
    "\n",
    "# Add some text for labels, title and custom x-axis tick labels, etc.\n",
    "ax.set_ylabel('RMS')\n",
    "ax.set_title('Averaged Root Mean Square For Different Models')\n",
    "ax.set_xticks(x)\n",
    "ax.set_xticklabels(name)\n",
    "ax.legend()\n",
    "\n",
    "\n",
    "\n",
    "fig.tight_layout()\n",
    "\n",
    "plt.show()"
   ]
  },
  {
   "cell_type": "code",
   "execution_count": 297,
   "metadata": {},
   "outputs": [],
   "source": [
    "#take the average of model 1,3,5 and 6 as our prediction\n",
    "pred['ave_Click_pred']=(pred['click_rate_Josh']+pred['click_rate_yushan_logreg']+pred['click_rate_fangdi_log']+pred['click_rate_fangdi_rf'])/4\n",
    "pred['ave_Purchase_pred']=(pred['purchase_rate_Josh']+pred['purchase_rate_yushan_logreg']+pred['purchase_rate_fangdi_log']+pred['purchase_rate_fangdi_rf'])/4\n"
   ]
  },
  {
   "cell_type": "code",
   "execution_count": 298,
   "metadata": {},
   "outputs": [],
   "source": [
    "pred.to_csv('predict_proba_averaged.csv')"
   ]
  },
  {
   "cell_type": "code",
   "execution_count": 301,
   "metadata": {},
   "outputs": [],
   "source": [
    "Click=[0]*4\n",
    "Sale=[0]*4\n",
    "Click[0]=find_var(pred['click_rate_Josh'],pred['ave_Click_pred'])\n",
    "Click[1]=find_var(pred['click_rate_yushan_logreg'],pred['ave_Click_pred'])\n",
    "Click[2]=find_var(pred['click_rate_fangdi_log'],pred['ave_Click_pred'])\n",
    "Click[3]=find_var(pred['click_rate_fangdi_rf'],pred['ave_Click_pred'])\n",
    "Sale[0]=find_var(pred['purchase_rate_Josh'],pred['ave_Purchase_pred'])\n",
    "Sale[1]=find_var(pred['purchase_rate_yushan_logreg'],pred['ave_Purchase_pred'])\n",
    "Sale[2]=find_var(pred['purchase_rate_fangdi_log'],pred['ave_Purchase_pred'])\n",
    "Sale[3]=find_var(pred['purchase_rate_fangdi_rf'],pred['ave_Purchase_pred'])"
   ]
  },
  {
   "cell_type": "code",
   "execution_count": 303,
   "metadata": {},
   "outputs": [
    {
     "data": {
      "image/png": "[encoded data removed]",
      "text/plain": [
       "<Figure size 1080x360 with 1 Axes>"
      ]
     },
     "metadata": {
      "needs_background": "light"
     },
     "output_type": "display_data"
    }
   ],
   "source": [
    "##plot the comparison of different models\n",
    "name=['Josh','Yushan_log','fangdi_log','fangdi_rf']\n",
    "x = np.array([0.0,1.0,2.0,3.0])  # the label locations\n",
    "width = 0.25  # the width of the bars\n",
    "\n",
    "fig, ax = plt.subplots(figsize=(15,5))\n",
    "rects1 = ax.bar(x - width/2, np.sqrt(Click), width, label='Click')\n",
    "\n",
    "rects2 = ax.bar(x + width/2, np.sqrt(Sale), width, label='Sale')\n",
    "\n",
    "# Add some text for labels, title and custom x-axis tick labels, etc.\n",
    "ax.set_ylabel('RMS')\n",
    "ax.set_title('Averaged Root Mean Square For Different Models')\n",
    "ax.set_xticks(x)\n",
    "ax.set_xticklabels(name)\n",
    "ax.legend()\n",
    "\n",
    "\n",
    "\n",
    "fig.tight_layout()\n",
    "\n",
    "plt.show()"
   ]
  },
  {
   "cell_type": "code",
   "execution_count": null,
   "metadata": {},
   "outputs": [],
   "source": []
  }
 ],
 "metadata": {
  "kernelspec": {
   "display_name": "Python 3",
   "language": "python",
   "name": "python3"
  },
  "language_info": {
   "codemirror_mode": {
    "name": "ipython",
    "version": 3
   },
   "file_extension": ".py",
   "mimetype": "text/x-python",
   "name": "python",
   "nbconvert_exporter": "python",
   "pygments_lexer": "ipython3",
   "version": "3.7.6"
  }
 },
 "nbformat": 4,
 "nbformat_minor": 4
}
