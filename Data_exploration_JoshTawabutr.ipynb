{
 "cells": [
  {
   "cell_type": "markdown",
   "metadata": {},
   "source": [
    "# Data Exploration\n",
    "\n",
    "### Data Loading\n",
    "\n",
    "Root insurance data given in file \"Root_Insurance_data.csv\". "
   ]
  },
  {
   "cell_type": "code",
   "execution_count": 194,
   "metadata": {},
   "outputs": [],
   "source": [
    "import pandas as pd\n",
    "import numpy as np\n",
    "import matplotlib.pyplot as plt"
   ]
  },
  {
   "cell_type": "code",
   "execution_count": 2,
   "metadata": {},
   "outputs": [],
   "source": [
    "main = pd.read_csv(\"Root_Insurance_data.csv\")"
   ]
  },
  {
   "cell_type": "code",
   "execution_count": 3,
   "metadata": {},
   "outputs": [
    {
     "data": {
      "text/html": [
       "<div>\n",
       "<style scoped>\n",
       "    .dataframe tbody tr th:only-of-type {\n",
       "        vertical-align: middle;\n",
       "    }\n",
       "\n",
       "    .dataframe tbody tr th {\n",
       "        vertical-align: top;\n",
       "    }\n",
       "\n",
       "    .dataframe thead th {\n",
       "        text-align: right;\n",
       "    }\n",
       "</style>\n",
       "<table border=\"1\" class=\"dataframe\">\n",
       "  <thead>\n",
       "    <tr style=\"text-align: right;\">\n",
       "      <th></th>\n",
       "      <th>Currently Insured</th>\n",
       "      <th>Number of Vehicles</th>\n",
       "      <th>Number of Drivers</th>\n",
       "      <th>Marital Status</th>\n",
       "      <th>bid</th>\n",
       "      <th>rank</th>\n",
       "      <th>click</th>\n",
       "      <th>policies_sold</th>\n",
       "    </tr>\n",
       "  </thead>\n",
       "  <tbody>\n",
       "    <tr>\n",
       "      <th>9864</th>\n",
       "      <td>N</td>\n",
       "      <td>3</td>\n",
       "      <td>2</td>\n",
       "      <td>S</td>\n",
       "      <td>10.0</td>\n",
       "      <td>5</td>\n",
       "      <td>False</td>\n",
       "      <td>0</td>\n",
       "    </tr>\n",
       "    <tr>\n",
       "      <th>4033</th>\n",
       "      <td>Y</td>\n",
       "      <td>3</td>\n",
       "      <td>1</td>\n",
       "      <td>S</td>\n",
       "      <td>10.0</td>\n",
       "      <td>3</td>\n",
       "      <td>False</td>\n",
       "      <td>0</td>\n",
       "    </tr>\n",
       "    <tr>\n",
       "      <th>8479</th>\n",
       "      <td>N</td>\n",
       "      <td>3</td>\n",
       "      <td>2</td>\n",
       "      <td>M</td>\n",
       "      <td>10.0</td>\n",
       "      <td>5</td>\n",
       "      <td>False</td>\n",
       "      <td>0</td>\n",
       "    </tr>\n",
       "    <tr>\n",
       "      <th>3148</th>\n",
       "      <td>unknown</td>\n",
       "      <td>3</td>\n",
       "      <td>1</td>\n",
       "      <td>S</td>\n",
       "      <td>10.0</td>\n",
       "      <td>3</td>\n",
       "      <td>False</td>\n",
       "      <td>0</td>\n",
       "    </tr>\n",
       "    <tr>\n",
       "      <th>3477</th>\n",
       "      <td>Y</td>\n",
       "      <td>1</td>\n",
       "      <td>2</td>\n",
       "      <td>S</td>\n",
       "      <td>10.0</td>\n",
       "      <td>3</td>\n",
       "      <td>False</td>\n",
       "      <td>0</td>\n",
       "    </tr>\n",
       "    <tr>\n",
       "      <th>9896</th>\n",
       "      <td>unknown</td>\n",
       "      <td>2</td>\n",
       "      <td>2</td>\n",
       "      <td>M</td>\n",
       "      <td>10.0</td>\n",
       "      <td>1</td>\n",
       "      <td>True</td>\n",
       "      <td>0</td>\n",
       "    </tr>\n",
       "    <tr>\n",
       "      <th>7424</th>\n",
       "      <td>N</td>\n",
       "      <td>3</td>\n",
       "      <td>2</td>\n",
       "      <td>S</td>\n",
       "      <td>10.0</td>\n",
       "      <td>4</td>\n",
       "      <td>False</td>\n",
       "      <td>0</td>\n",
       "    </tr>\n",
       "    <tr>\n",
       "      <th>8738</th>\n",
       "      <td>N</td>\n",
       "      <td>1</td>\n",
       "      <td>2</td>\n",
       "      <td>M</td>\n",
       "      <td>10.0</td>\n",
       "      <td>1</td>\n",
       "      <td>True</td>\n",
       "      <td>0</td>\n",
       "    </tr>\n",
       "    <tr>\n",
       "      <th>1374</th>\n",
       "      <td>Y</td>\n",
       "      <td>3</td>\n",
       "      <td>2</td>\n",
       "      <td>M</td>\n",
       "      <td>10.0</td>\n",
       "      <td>4</td>\n",
       "      <td>False</td>\n",
       "      <td>0</td>\n",
       "    </tr>\n",
       "    <tr>\n",
       "      <th>5310</th>\n",
       "      <td>Y</td>\n",
       "      <td>2</td>\n",
       "      <td>2</td>\n",
       "      <td>S</td>\n",
       "      <td>10.0</td>\n",
       "      <td>4</td>\n",
       "      <td>False</td>\n",
       "      <td>0</td>\n",
       "    </tr>\n",
       "  </tbody>\n",
       "</table>\n",
       "</div>"
      ],
      "text/plain": [
       "     Currently Insured  Number of Vehicles  Number of Drivers Marital Status  \\\n",
       "9864                 N                   3                  2              S   \n",
       "4033                 Y                   3                  1              S   \n",
       "8479                 N                   3                  2              M   \n",
       "3148           unknown                   3                  1              S   \n",
       "3477                 Y                   1                  2              S   \n",
       "9896           unknown                   2                  2              M   \n",
       "7424                 N                   3                  2              S   \n",
       "8738                 N                   1                  2              M   \n",
       "1374                 Y                   3                  2              M   \n",
       "5310                 Y                   2                  2              S   \n",
       "\n",
       "       bid  rank  click  policies_sold  \n",
       "9864  10.0     5  False              0  \n",
       "4033  10.0     3  False              0  \n",
       "8479  10.0     5  False              0  \n",
       "3148  10.0     3  False              0  \n",
       "3477  10.0     3  False              0  \n",
       "9896  10.0     1   True              0  \n",
       "7424  10.0     4  False              0  \n",
       "8738  10.0     1   True              0  \n",
       "1374  10.0     4  False              0  \n",
       "5310  10.0     4  False              0  "
      ]
     },
     "execution_count": 3,
     "metadata": {},
     "output_type": "execute_result"
    }
   ],
   "source": [
    "main.sample(10)"
   ]
  },
  {
   "cell_type": "markdown",
   "metadata": {},
   "source": [
    "### Observations about Dependent Variables"
   ]
  },
  {
   "cell_type": "markdown",
   "metadata": {},
   "source": [
    "All the observations have bid 10.0"
   ]
  },
  {
   "cell_type": "code",
   "execution_count": 5,
   "metadata": {},
   "outputs": [
    {
     "data": {
      "text/plain": [
       "10.0    10000\n",
       "Name: bid, dtype: int64"
      ]
     },
     "execution_count": 5,
     "metadata": {},
     "output_type": "execute_result"
    }
   ],
   "source": [
    "main.bid.value_counts()"
   ]
  },
  {
   "cell_type": "markdown",
   "metadata": {},
   "source": [
    "How about rank, click and policies_sold?"
   ]
  },
  {
   "cell_type": "code",
   "execution_count": 24,
   "metadata": {},
   "outputs": [
    {
     "data": {
      "text/plain": [
       "3    0.2401\n",
       "5    0.2291\n",
       "4    0.2089\n",
       "1    0.1611\n",
       "2    0.1608\n",
       "Name: rank, dtype: float64"
      ]
     },
     "execution_count": 24,
     "metadata": {},
     "output_type": "execute_result"
    }
   ],
   "source": [
    "main[\"rank\"].value_counts(normalize=1)"
   ]
  },
  {
   "cell_type": "code",
   "execution_count": 25,
   "metadata": {},
   "outputs": [
    {
     "data": {
      "text/plain": [
       "False    0.8122\n",
       "True     0.1878\n",
       "Name: click, dtype: float64"
      ]
     },
     "execution_count": 25,
     "metadata": {},
     "output_type": "execute_result"
    }
   ],
   "source": [
    "main[\"click\"].value_counts(normalize=1)"
   ]
  },
  {
   "cell_type": "code",
   "execution_count": 26,
   "metadata": {},
   "outputs": [
    {
     "data": {
      "text/plain": [
       "0    0.9217\n",
       "1    0.0783\n",
       "Name: policies_sold, dtype: float64"
      ]
     },
     "execution_count": 26,
     "metadata": {},
     "output_type": "execute_result"
    }
   ],
   "source": [
    "main[\"policies_sold\"].value_counts(normalize=1)"
   ]
  },
  {
   "cell_type": "markdown",
   "metadata": {},
   "source": [
    "All policy purchases occur with a click."
   ]
  },
  {
   "cell_type": "code",
   "execution_count": 27,
   "metadata": {},
   "outputs": [
    {
     "data": {
      "text/plain": [
       "0"
      ]
     },
     "execution_count": 27,
     "metadata": {},
     "output_type": "execute_result"
    }
   ],
   "source": [
    "main.loc[main[\"policies_sold\"] == 1].loc[main[\"click\"] == False].shape[0]"
   ]
  },
  {
   "cell_type": "markdown",
   "metadata": {},
   "source": [
    "The number of clicks and purchases for customers from each ranking."
   ]
  },
  {
   "cell_type": "code",
   "execution_count": 18,
   "metadata": {},
   "outputs": [
    {
     "data": {
      "text/plain": [
       "1    848\n",
       "2    462\n",
       "3    351\n",
       "4    168\n",
       "5     49\n",
       "Name: rank, dtype: int64"
      ]
     },
     "execution_count": 18,
     "metadata": {},
     "output_type": "execute_result"
    }
   ],
   "source": [
    "main.loc[main[\"click\"]][\"rank\"].value_counts()"
   ]
  },
  {
   "cell_type": "code",
   "execution_count": 19,
   "metadata": {},
   "outputs": [
    {
     "data": {
      "text/plain": [
       "1    358\n",
       "2    209\n",
       "3    138\n",
       "4     58\n",
       "5     20\n",
       "Name: rank, dtype: int64"
      ]
     },
     "execution_count": 19,
     "metadata": {},
     "output_type": "execute_result"
    }
   ],
   "source": [
    "main.loc[main[\"policies_sold\"] == 1][\"rank\"].value_counts()"
   ]
  },
  {
   "cell_type": "markdown",
   "metadata": {},
   "source": [
    "Among the customers in each ranking, what is the proportion of (i) clicking?"
   ]
  },
  {
   "cell_type": "code",
   "execution_count": 44,
   "metadata": {},
   "outputs": [
    {
     "name": "stdout",
     "output_type": "stream",
     "text": [
      "1    0.526381\n",
      "2    0.287313\n",
      "3    0.146189\n",
      "4    0.080421\n",
      "5    0.021388\n",
      "dtype: float64\n"
     ]
    }
   ],
   "source": [
    "click_prop = {}\n",
    "for i in range(1,6):\n",
    "    this = main.loc[main[\"rank\"] == i].loc[main[\"click\"]].shape[0]/main.loc[main[\"rank\"] == i].shape[0]\n",
    "    click_prop[i] = this\n",
    "click_series = pd.Series(data = click_prop, index = range(1,6))\n",
    "print(click_series)"
   ]
  },
  {
   "cell_type": "markdown",
   "metadata": {},
   "source": [
    "(ii) purchase?"
   ]
  },
  {
   "cell_type": "code",
   "execution_count": 45,
   "metadata": {},
   "outputs": [
    {
     "name": "stdout",
     "output_type": "stream",
     "text": [
      "1    0.222222\n",
      "2    0.129975\n",
      "3    0.057476\n",
      "4    0.027764\n",
      "5    0.008730\n",
      "dtype: float64\n"
     ]
    }
   ],
   "source": [
    "buy_prop = {}\n",
    "for i in range(1,6):\n",
    "    this = main.loc[main[\"rank\"] == i].loc[main[\"policies_sold\"] == 1].shape[0]/main.loc[main[\"rank\"] == i].shape[0]\n",
    "    buy_prop[i] = this\n",
    "buy_series = pd.Series(data = buy_prop, index = range(1,6))\n",
    "print(buy_series)"
   ]
  },
  {
   "cell_type": "markdown",
   "metadata": {},
   "source": [
    "We see that, as expected, the proportions of both click and purchase decrease with the ranking."
   ]
  },
  {
   "cell_type": "code",
   "execution_count": 63,
   "metadata": {},
   "outputs": [
    {
     "data": {
      "image/png": "[encoded data removed]",
      "text/plain": [
       "<Figure size 432x432 with 1 Axes>"
      ]
     },
     "metadata": {
      "needs_background": "light"
     },
     "output_type": "display_data"
    }
   ],
   "source": [
    "plt.figure(figsize=(6,6))\n",
    "plt.scatter(range(1,6), click_series)\n",
    "plt.scatter(range(1,6), buy_series, color = \"r\")\n",
    "plt.plot(range(1,6), click_series, label = \"Click\")\n",
    "plt.plot(range(1,6), buy_series, color = \"r\", label = \"Purchase\")\n",
    "plt.xlim((0.5,5.5))\n",
    "plt.ylim((0,0.55))\n",
    "plt.xlabel(\"Rank\", fontsize = 12)\n",
    "plt.ylabel(\"Proportion within each rank\", fontsize = 12)\n",
    "plt.legend(fontsize = 15)\n",
    "plt.show()"
   ]
  },
  {
   "cell_type": "markdown",
   "metadata": {},
   "source": [
    "For each rank, given that the customer gives us a click, what is the proportion that they also make the purchase? (As we checked earlier, without a click, no one makes the purchase.)"
   ]
  },
  {
   "cell_type": "code",
   "execution_count": 46,
   "metadata": {},
   "outputs": [
    {
     "name": "stdout",
     "output_type": "stream",
     "text": [
      "1    0.422170\n",
      "2    0.452381\n",
      "3    0.393162\n",
      "4    0.345238\n",
      "5    0.408163\n",
      "dtype: float64\n"
     ]
    }
   ],
   "source": [
    "cond_prop = {}\n",
    "for i in range(1,6):\n",
    "    cond_prop[i] = buy_prop[i]/click_prop[i]\n",
    "cond_series = pd.Series(data = cond_prop, index = range(1,6))\n",
    "print(cond_series)"
   ]
  },
  {
   "cell_type": "code",
   "execution_count": 66,
   "metadata": {},
   "outputs": [
    {
     "data": {
      "image/png": "[encoded data removed]",
      "text/plain": [
       "<Figure size 432x432 with 1 Axes>"
      ]
     },
     "metadata": {
      "needs_background": "light"
     },
     "output_type": "display_data"
    }
   ],
   "source": [
    "plt.figure(figsize=(6,6))\n",
    "plt.scatter(range(1,6), cond_series)\n",
    "plt.plot(range(1,6), cond_series)\n",
    "plt.xlim((0.5,5.5))\n",
    "plt.ylim((0.3,0.5))\n",
    "plt.xlabel(\"Rank\", fontsize = 12)\n",
    "plt.ylabel(\"Proportion of clicks that lead to a purchase\", fontsize = 12)\n",
    "plt.show()"
   ]
  },
  {
   "cell_type": "markdown",
   "metadata": {},
   "source": [
    "With the purchase as our goal, increasing a bid to move e.g. from rank 5 to rank 4 for a client may be less worthy than doing so to move from rank 4 to rank 3. Most importantly, it may not be that important to get up to rank 1, or to get away from rank 5, compared to the improvement between ranks 4, 3 and 2.\n",
    "\n",
    "There may be some people who look at the first two or all five, and, being too lazy, just purchase the most recent option they have looked at.\n",
    "\n",
    "#### What I learned so far?\n",
    "\n",
    "Given the features (vehicles own, merital status, etc) of a client, our ultimate goal is to find (a) the lowest rank they need to be in order for them to make the purchase, and (b) the amount of bid required to put them in that rank.\n",
    "\n",
    "One thing we cannot control is that every training data's bid is 10, making task (b) difficult. But since there is no way to improve this, we should focus on other parts of the problem.\n",
    "\n",
    "First of all, among those whose rank is one but did not make a purchase, we should decrease their bid to zero. Identifying these customers based on their features and making their bid zero may be a good first step, or at least it should be incorporated into our general model. The same conclusion goes for rank-5 customers who purchase."
   ]
  },
  {
   "cell_type": "markdown",
   "metadata": {},
   "source": [
    "### Observations about Features\n",
    "\n",
    "All the features: Currently Insured, Number of Vehicles, Number of Drivers and Marital Status, are categorical. Each of them also distributes quite evenly. In total, they make 35 categories of roughly the same size. One exception: no sampled data has {single, 2 drivers, 3 vehicles, unknown if currently insured}."
   ]
  },
  {
   "cell_type": "code",
   "execution_count": 93,
   "metadata": {},
   "outputs": [
    {
     "data": {
      "text/plain": [
       "N          0.3444\n",
       "Y          0.3419\n",
       "unknown    0.3137\n",
       "Name: Currently Insured, dtype: float64"
      ]
     },
     "execution_count": 93,
     "metadata": {},
     "output_type": "execute_result"
    }
   ],
   "source": [
    "main[\"Currently Insured\"].value_counts(normalize=1)"
   ]
  },
  {
   "cell_type": "code",
   "execution_count": 94,
   "metadata": {},
   "outputs": [
    {
     "data": {
      "text/plain": [
       "2    0.3464\n",
       "1    0.3441\n",
       "3    0.3095\n",
       "Name: Number of Vehicles, dtype: float64"
      ]
     },
     "execution_count": 94,
     "metadata": {},
     "output_type": "execute_result"
    }
   ],
   "source": [
    "main[\"Number of Vehicles\"].value_counts(normalize=1)"
   ]
  },
  {
   "cell_type": "code",
   "execution_count": 95,
   "metadata": {},
   "outputs": [
    {
     "data": {
      "text/plain": [
       "1    0.5001\n",
       "2    0.4999\n",
       "Name: Number of Drivers, dtype: float64"
      ]
     },
     "execution_count": 95,
     "metadata": {},
     "output_type": "execute_result"
    }
   ],
   "source": [
    "main[\"Number of Drivers\"].value_counts(normalize=1)"
   ]
  },
  {
   "cell_type": "code",
   "execution_count": 96,
   "metadata": {},
   "outputs": [
    {
     "data": {
      "text/plain": [
       "M    0.5191\n",
       "S    0.4809\n",
       "Name: Marital Status, dtype: float64"
      ]
     },
     "execution_count": 96,
     "metadata": {},
     "output_type": "execute_result"
    }
   ],
   "source": [
    "main[\"Marital Status\"].value_counts(normalize=1)"
   ]
  },
  {
   "cell_type": "code",
   "execution_count": 193,
   "metadata": {},
   "outputs": [
    {
     "data": {
      "text/plain": [
       "Currently Insured  Number of Vehicles  Number of Drivers  Marital Status\n",
       "N                  1                   1                  M                 300\n",
       "                                                          S                 271\n",
       "                                       2                  M                 275\n",
       "                                                          S                 283\n",
       "                   2                   1                  M                 263\n",
       "                                                          S                 272\n",
       "                                       2                  M                 296\n",
       "                                                          S                 316\n",
       "                   3                   1                  M                 265\n",
       "                                                          S                 286\n",
       "                                       2                  M                 326\n",
       "                                                          S                 291\n",
       "Y                  1                   1                  M                 274\n",
       "                                                          S                 290\n",
       "                                       2                  M                 295\n",
       "                                                          S                 282\n",
       "                   2                   1                  M                 284\n",
       "                                                          S                 266\n",
       "                                       2                  M                 317\n",
       "                                                          S                 304\n",
       "                   3                   1                  M                 294\n",
       "                                                          S                 267\n",
       "                                       2                  M                 276\n",
       "                                                          S                 270\n",
       "unknown            1                   1                  M                 294\n",
       "                                                          S                 280\n",
       "                                       2                  M                 294\n",
       "                                                          S                 303\n",
       "                   2                   1                  M                 268\n",
       "                                                          S                 284\n",
       "                                       2                  M                 306\n",
       "                                                          S                 288\n",
       "                   3                   1                  M                 287\n",
       "                                                          S                 256\n",
       "                                       2                  M                 277\n",
       "dtype: int64"
      ]
     },
     "execution_count": 193,
     "metadata": {},
     "output_type": "execute_result"
    }
   ],
   "source": [
    "main[[\"Currently Insured\", \"Number of Vehicles\", \"Number of Drivers\", \"Marital Status\"]].value_counts(sort=False)"
   ]
  },
  {
   "cell_type": "markdown",
   "metadata": {},
   "source": [
    "### Exploratory Analysis of Each Category\n",
    "\n",
    "Next, we will try repeating the analysis in the first section with some example categories:"
   ]
  },
  {
   "cell_type": "markdown",
   "metadata": {},
   "source": [
    "1) Insured, single customer with 1 vehicle and 1 driver."
   ]
  },
  {
   "cell_type": "code",
   "execution_count": 168,
   "metadata": {},
   "outputs": [
    {
     "data": {
      "text/html": [
       "<div>\n",
       "<style scoped>\n",
       "    .dataframe tbody tr th:only-of-type {\n",
       "        vertical-align: middle;\n",
       "    }\n",
       "\n",
       "    .dataframe tbody tr th {\n",
       "        vertical-align: top;\n",
       "    }\n",
       "\n",
       "    .dataframe thead th {\n",
       "        text-align: right;\n",
       "    }\n",
       "</style>\n",
       "<table border=\"1\" class=\"dataframe\">\n",
       "  <thead>\n",
       "    <tr style=\"text-align: right;\">\n",
       "      <th></th>\n",
       "      <th>Currently Insured</th>\n",
       "      <th>Number of Vehicles</th>\n",
       "      <th>Number of Drivers</th>\n",
       "      <th>Marital Status</th>\n",
       "      <th>bid</th>\n",
       "      <th>rank</th>\n",
       "      <th>click</th>\n",
       "      <th>policies_sold</th>\n",
       "    </tr>\n",
       "  </thead>\n",
       "  <tbody>\n",
       "    <tr>\n",
       "      <th>3520</th>\n",
       "      <td>Y</td>\n",
       "      <td>1</td>\n",
       "      <td>1</td>\n",
       "      <td>S</td>\n",
       "      <td>10.0</td>\n",
       "      <td>2</td>\n",
       "      <td>False</td>\n",
       "      <td>0</td>\n",
       "    </tr>\n",
       "    <tr>\n",
       "      <th>9624</th>\n",
       "      <td>Y</td>\n",
       "      <td>1</td>\n",
       "      <td>1</td>\n",
       "      <td>S</td>\n",
       "      <td>10.0</td>\n",
       "      <td>1</td>\n",
       "      <td>False</td>\n",
       "      <td>0</td>\n",
       "    </tr>\n",
       "    <tr>\n",
       "      <th>7030</th>\n",
       "      <td>Y</td>\n",
       "      <td>1</td>\n",
       "      <td>1</td>\n",
       "      <td>S</td>\n",
       "      <td>10.0</td>\n",
       "      <td>2</td>\n",
       "      <td>False</td>\n",
       "      <td>0</td>\n",
       "    </tr>\n",
       "    <tr>\n",
       "      <th>6316</th>\n",
       "      <td>Y</td>\n",
       "      <td>1</td>\n",
       "      <td>1</td>\n",
       "      <td>S</td>\n",
       "      <td>10.0</td>\n",
       "      <td>2</td>\n",
       "      <td>False</td>\n",
       "      <td>0</td>\n",
       "    </tr>\n",
       "    <tr>\n",
       "      <th>1551</th>\n",
       "      <td>Y</td>\n",
       "      <td>1</td>\n",
       "      <td>1</td>\n",
       "      <td>S</td>\n",
       "      <td>10.0</td>\n",
       "      <td>4</td>\n",
       "      <td>False</td>\n",
       "      <td>0</td>\n",
       "    </tr>\n",
       "    <tr>\n",
       "      <th>5043</th>\n",
       "      <td>Y</td>\n",
       "      <td>1</td>\n",
       "      <td>1</td>\n",
       "      <td>S</td>\n",
       "      <td>10.0</td>\n",
       "      <td>1</td>\n",
       "      <td>False</td>\n",
       "      <td>0</td>\n",
       "    </tr>\n",
       "    <tr>\n",
       "      <th>4987</th>\n",
       "      <td>Y</td>\n",
       "      <td>1</td>\n",
       "      <td>1</td>\n",
       "      <td>S</td>\n",
       "      <td>10.0</td>\n",
       "      <td>1</td>\n",
       "      <td>False</td>\n",
       "      <td>0</td>\n",
       "    </tr>\n",
       "    <tr>\n",
       "      <th>4733</th>\n",
       "      <td>Y</td>\n",
       "      <td>1</td>\n",
       "      <td>1</td>\n",
       "      <td>S</td>\n",
       "      <td>10.0</td>\n",
       "      <td>2</td>\n",
       "      <td>False</td>\n",
       "      <td>0</td>\n",
       "    </tr>\n",
       "    <tr>\n",
       "      <th>1679</th>\n",
       "      <td>Y</td>\n",
       "      <td>1</td>\n",
       "      <td>1</td>\n",
       "      <td>S</td>\n",
       "      <td>10.0</td>\n",
       "      <td>2</td>\n",
       "      <td>False</td>\n",
       "      <td>0</td>\n",
       "    </tr>\n",
       "    <tr>\n",
       "      <th>7364</th>\n",
       "      <td>Y</td>\n",
       "      <td>1</td>\n",
       "      <td>1</td>\n",
       "      <td>S</td>\n",
       "      <td>10.0</td>\n",
       "      <td>3</td>\n",
       "      <td>False</td>\n",
       "      <td>0</td>\n",
       "    </tr>\n",
       "  </tbody>\n",
       "</table>\n",
       "</div>"
      ],
      "text/plain": [
       "     Currently Insured  Number of Vehicles  Number of Drivers Marital Status  \\\n",
       "3520                 Y                   1                  1              S   \n",
       "9624                 Y                   1                  1              S   \n",
       "7030                 Y                   1                  1              S   \n",
       "6316                 Y                   1                  1              S   \n",
       "1551                 Y                   1                  1              S   \n",
       "5043                 Y                   1                  1              S   \n",
       "4987                 Y                   1                  1              S   \n",
       "4733                 Y                   1                  1              S   \n",
       "1679                 Y                   1                  1              S   \n",
       "7364                 Y                   1                  1              S   \n",
       "\n",
       "       bid  rank  click  policies_sold  \n",
       "3520  10.0     2  False              0  \n",
       "9624  10.0     1  False              0  \n",
       "7030  10.0     2  False              0  \n",
       "6316  10.0     2  False              0  \n",
       "1551  10.0     4  False              0  \n",
       "5043  10.0     1  False              0  \n",
       "4987  10.0     1  False              0  \n",
       "4733  10.0     2  False              0  \n",
       "1679  10.0     2  False              0  \n",
       "7364  10.0     3  False              0  "
      ]
     },
     "execution_count": 168,
     "metadata": {},
     "output_type": "execute_result"
    }
   ],
   "source": [
    "cat4 = main.loc[main[\"Marital Status\"] == \"S\"].loc[main[\"Number of Drivers\"] == 1].loc[main[\"Number of Vehicles\"] == 1].loc[main[\"Currently Insured\"] == \"Y\"].copy()\n",
    "cat4.sample(10)"
   ]
  },
  {
   "cell_type": "code",
   "execution_count": 169,
   "metadata": {},
   "outputs": [
    {
     "data": {
      "text/plain": [
       "(290, 8)"
      ]
     },
     "execution_count": 169,
     "metadata": {},
     "output_type": "execute_result"
    }
   ],
   "source": [
    "cat4.shape"
   ]
  },
  {
   "cell_type": "code",
   "execution_count": 170,
   "metadata": {},
   "outputs": [
    {
     "data": {
      "text/plain": [
       "3    0.320690\n",
       "2    0.255172\n",
       "4    0.217241\n",
       "1    0.206897\n",
       "Name: rank, dtype: float64"
      ]
     },
     "execution_count": 170,
     "metadata": {},
     "output_type": "execute_result"
    }
   ],
   "source": [
    "cat4[\"rank\"].value_counts(normalize=1)"
   ]
  },
  {
   "cell_type": "code",
   "execution_count": 171,
   "metadata": {},
   "outputs": [
    {
     "data": {
      "text/plain": [
       "False    0.731034\n",
       "True     0.268966\n",
       "Name: click, dtype: float64"
      ]
     },
     "execution_count": 171,
     "metadata": {},
     "output_type": "execute_result"
    }
   ],
   "source": [
    "cat4[\"click\"].value_counts(normalize=1)"
   ]
  },
  {
   "cell_type": "code",
   "execution_count": 172,
   "metadata": {
    "scrolled": true
   },
   "outputs": [
    {
     "data": {
      "text/plain": [
       "0    0.868966\n",
       "1    0.131034\n",
       "Name: policies_sold, dtype: float64"
      ]
     },
     "execution_count": 172,
     "metadata": {},
     "output_type": "execute_result"
    }
   ],
   "source": [
    "cat4[\"policies_sold\"].value_counts(normalize=1)"
   ]
  },
  {
   "cell_type": "code",
   "execution_count": 189,
   "metadata": {
    "scrolled": true
   },
   "outputs": [
    {
     "data": {
      "image/png": "[encoded data removed]",
      "text/plain": [
       "<Figure size 360x360 with 1 Axes>"
      ]
     },
     "metadata": {
      "needs_background": "light"
     },
     "output_type": "display_data"
    }
   ],
   "source": [
    "click_prop_cat4 = {}\n",
    "buy_prop_cat4 = {}\n",
    "cond_prop_cat4 = {}\n",
    "for i in range(1,5):\n",
    "    click_prop_cat4[i] = cat4.loc[cat4[\"rank\"] == i].loc[cat4[\"click\"]].shape[0]/cat4.loc[cat4[\"rank\"] == i].shape[0]\n",
    "    buy_prop_cat4[i] = cat4.loc[cat4[\"rank\"] == i].loc[cat4[\"policies_sold\"] == 1].shape[0]/cat4.loc[cat4[\"rank\"] == i].shape[0]\n",
    "    cond_prop_cat4[i] = buy_prop_cat4[i]/click_prop_cat4[i]\n",
    "click_series_cat4 = pd.Series(data = click_prop_cat4, index = range(1,5))\n",
    "buy_series_cat4 = pd.Series(data = buy_prop_cat4, index = range(1,5))\n",
    "cond_series_cat4 = pd.Series(data = cond_prop_cat4, index = range(1,5))\n",
    "\n",
    "plt.figure(figsize=(5,5))\n",
    "plt.scatter(range(1,5), click_series_cat4)\n",
    "plt.scatter(range(1,5), buy_series_cat4, color = \"r\")\n",
    "plt.plot(range(1,5), click_series_cat4, label = \"Click\")\n",
    "plt.plot(range(1,5), buy_series_cat4, color = \"r\", label = \"Purchase\")\n",
    "plt.xlim((0.5,4.5))\n",
    "plt.ylim((0,0.65))\n",
    "plt.xlabel(\"Rank\", fontsize = 12)\n",
    "plt.ylabel(\"Proportion within each rank\", fontsize = 12)\n",
    "plt.legend(fontsize = 15)\n",
    "plt.show()"
   ]
  },
  {
   "cell_type": "code",
   "execution_count": 178,
   "metadata": {},
   "outputs": [
    {
     "data": {
      "image/png": "[encoded data removed]",
      "text/plain": [
       "<Figure size 432x432 with 1 Axes>"
      ]
     },
     "metadata": {
      "needs_background": "light"
     },
     "output_type": "display_data"
    }
   ],
   "source": [
    "plt.figure(figsize=(6,6))\n",
    "plt.scatter(range(1,5), cond_series_cat4)\n",
    "plt.plot(range(1,5), cond_series_cat4)\n",
    "plt.xlim((0.5,4.5))\n",
    "plt.ylim((0.35,0.7))\n",
    "plt.xlabel(\"Rank\", fontsize = 12)\n",
    "plt.ylabel(\"Proportion of clicks that lead to a purchase\", fontsize = 12)\n",
    "plt.show()"
   ]
  },
  {
   "cell_type": "markdown",
   "metadata": {},
   "source": [
    "For this group of customers, we see that we got pretty good rankings even with the original bidding of 10 (Other insurance companies may not want to invest in these customers), and those among them who click on more than the first option have large tendency to buy the later options. This implies that we may not want to invest as much in this group of clients."
   ]
  },
  {
   "cell_type": "code",
   "execution_count": null,
   "metadata": {},
   "outputs": [],
   "source": []
  },
  {
   "cell_type": "markdown",
   "metadata": {},
   "source": [
    "2) Uninsured, married customer with 3 vehicles and 2 drivers."
   ]
  },
  {
   "cell_type": "code",
   "execution_count": 128,
   "metadata": {},
   "outputs": [
    {
     "data": {
      "text/html": [
       "<div>\n",
       "<style scoped>\n",
       "    .dataframe tbody tr th:only-of-type {\n",
       "        vertical-align: middle;\n",
       "    }\n",
       "\n",
       "    .dataframe tbody tr th {\n",
       "        vertical-align: top;\n",
       "    }\n",
       "\n",
       "    .dataframe thead th {\n",
       "        text-align: right;\n",
       "    }\n",
       "</style>\n",
       "<table border=\"1\" class=\"dataframe\">\n",
       "  <thead>\n",
       "    <tr style=\"text-align: right;\">\n",
       "      <th></th>\n",
       "      <th>Currently Insured</th>\n",
       "      <th>Number of Vehicles</th>\n",
       "      <th>Number of Drivers</th>\n",
       "      <th>Marital Status</th>\n",
       "      <th>bid</th>\n",
       "      <th>rank</th>\n",
       "      <th>click</th>\n",
       "      <th>policies_sold</th>\n",
       "    </tr>\n",
       "  </thead>\n",
       "  <tbody>\n",
       "    <tr>\n",
       "      <th>4043</th>\n",
       "      <td>N</td>\n",
       "      <td>3</td>\n",
       "      <td>2</td>\n",
       "      <td>M</td>\n",
       "      <td>10.0</td>\n",
       "      <td>5</td>\n",
       "      <td>True</td>\n",
       "      <td>1</td>\n",
       "    </tr>\n",
       "    <tr>\n",
       "      <th>2039</th>\n",
       "      <td>N</td>\n",
       "      <td>3</td>\n",
       "      <td>2</td>\n",
       "      <td>M</td>\n",
       "      <td>10.0</td>\n",
       "      <td>5</td>\n",
       "      <td>False</td>\n",
       "      <td>0</td>\n",
       "    </tr>\n",
       "    <tr>\n",
       "      <th>1687</th>\n",
       "      <td>N</td>\n",
       "      <td>3</td>\n",
       "      <td>2</td>\n",
       "      <td>M</td>\n",
       "      <td>10.0</td>\n",
       "      <td>5</td>\n",
       "      <td>False</td>\n",
       "      <td>0</td>\n",
       "    </tr>\n",
       "    <tr>\n",
       "      <th>3224</th>\n",
       "      <td>N</td>\n",
       "      <td>3</td>\n",
       "      <td>2</td>\n",
       "      <td>M</td>\n",
       "      <td>10.0</td>\n",
       "      <td>5</td>\n",
       "      <td>False</td>\n",
       "      <td>0</td>\n",
       "    </tr>\n",
       "    <tr>\n",
       "      <th>8639</th>\n",
       "      <td>N</td>\n",
       "      <td>3</td>\n",
       "      <td>2</td>\n",
       "      <td>M</td>\n",
       "      <td>10.0</td>\n",
       "      <td>5</td>\n",
       "      <td>False</td>\n",
       "      <td>0</td>\n",
       "    </tr>\n",
       "    <tr>\n",
       "      <th>7340</th>\n",
       "      <td>N</td>\n",
       "      <td>3</td>\n",
       "      <td>2</td>\n",
       "      <td>M</td>\n",
       "      <td>10.0</td>\n",
       "      <td>5</td>\n",
       "      <td>False</td>\n",
       "      <td>0</td>\n",
       "    </tr>\n",
       "    <tr>\n",
       "      <th>33</th>\n",
       "      <td>N</td>\n",
       "      <td>3</td>\n",
       "      <td>2</td>\n",
       "      <td>M</td>\n",
       "      <td>10.0</td>\n",
       "      <td>4</td>\n",
       "      <td>False</td>\n",
       "      <td>0</td>\n",
       "    </tr>\n",
       "    <tr>\n",
       "      <th>2186</th>\n",
       "      <td>N</td>\n",
       "      <td>3</td>\n",
       "      <td>2</td>\n",
       "      <td>M</td>\n",
       "      <td>10.0</td>\n",
       "      <td>4</td>\n",
       "      <td>True</td>\n",
       "      <td>1</td>\n",
       "    </tr>\n",
       "    <tr>\n",
       "      <th>9473</th>\n",
       "      <td>N</td>\n",
       "      <td>3</td>\n",
       "      <td>2</td>\n",
       "      <td>M</td>\n",
       "      <td>10.0</td>\n",
       "      <td>4</td>\n",
       "      <td>False</td>\n",
       "      <td>0</td>\n",
       "    </tr>\n",
       "    <tr>\n",
       "      <th>3243</th>\n",
       "      <td>N</td>\n",
       "      <td>3</td>\n",
       "      <td>2</td>\n",
       "      <td>M</td>\n",
       "      <td>10.0</td>\n",
       "      <td>5</td>\n",
       "      <td>False</td>\n",
       "      <td>0</td>\n",
       "    </tr>\n",
       "  </tbody>\n",
       "</table>\n",
       "</div>"
      ],
      "text/plain": [
       "     Currently Insured  Number of Vehicles  Number of Drivers Marital Status  \\\n",
       "4043                 N                   3                  2              M   \n",
       "2039                 N                   3                  2              M   \n",
       "1687                 N                   3                  2              M   \n",
       "3224                 N                   3                  2              M   \n",
       "8639                 N                   3                  2              M   \n",
       "7340                 N                   3                  2              M   \n",
       "33                   N                   3                  2              M   \n",
       "2186                 N                   3                  2              M   \n",
       "9473                 N                   3                  2              M   \n",
       "3243                 N                   3                  2              M   \n",
       "\n",
       "       bid  rank  click  policies_sold  \n",
       "4043  10.0     5   True              1  \n",
       "2039  10.0     5  False              0  \n",
       "1687  10.0     5  False              0  \n",
       "3224  10.0     5  False              0  \n",
       "8639  10.0     5  False              0  \n",
       "7340  10.0     5  False              0  \n",
       "33    10.0     4  False              0  \n",
       "2186  10.0     4   True              1  \n",
       "9473  10.0     4  False              0  \n",
       "3243  10.0     5  False              0  "
      ]
     },
     "execution_count": 128,
     "metadata": {},
     "output_type": "execute_result"
    }
   ],
   "source": [
    "cat3 = main.loc[main[\"Marital Status\"] == \"M\"].loc[main[\"Number of Drivers\"] == 2].loc[main[\"Number of Vehicles\"] == 3].loc[main[\"Currently Insured\"] == \"N\"].copy()\n",
    "cat3.sample(10)"
   ]
  },
  {
   "cell_type": "code",
   "execution_count": 129,
   "metadata": {},
   "outputs": [
    {
     "data": {
      "text/plain": [
       "(326, 8)"
      ]
     },
     "execution_count": 129,
     "metadata": {},
     "output_type": "execute_result"
    }
   ],
   "source": [
    "cat3.shape"
   ]
  },
  {
   "cell_type": "code",
   "execution_count": 161,
   "metadata": {},
   "outputs": [
    {
     "data": {
      "text/plain": [
       "5    0.463190\n",
       "4    0.319018\n",
       "3    0.217791\n",
       "Name: rank, dtype: float64"
      ]
     },
     "execution_count": 161,
     "metadata": {},
     "output_type": "execute_result"
    }
   ],
   "source": [
    "cat3[\"rank\"].value_counts(normalize=1)"
   ]
  },
  {
   "cell_type": "code",
   "execution_count": 162,
   "metadata": {},
   "outputs": [
    {
     "data": {
      "text/plain": [
       "False    0.935583\n",
       "True     0.064417\n",
       "Name: click, dtype: float64"
      ]
     },
     "execution_count": 162,
     "metadata": {},
     "output_type": "execute_result"
    }
   ],
   "source": [
    "cat3[\"click\"].value_counts(normalize=1)"
   ]
  },
  {
   "cell_type": "code",
   "execution_count": 163,
   "metadata": {
    "scrolled": true
   },
   "outputs": [
    {
     "data": {
      "text/plain": [
       "0    0.966258\n",
       "1    0.033742\n",
       "Name: policies_sold, dtype: float64"
      ]
     },
     "execution_count": 163,
     "metadata": {},
     "output_type": "execute_result"
    }
   ],
   "source": [
    "cat3[\"policies_sold\"].value_counts(normalize=1)"
   ]
  },
  {
   "cell_type": "code",
   "execution_count": 190,
   "metadata": {
    "scrolled": true
   },
   "outputs": [
    {
     "data": {
      "image/png": "[encoded data removed]",
      "text/plain": [
       "<Figure size 360x360 with 1 Axes>"
      ]
     },
     "metadata": {
      "needs_background": "light"
     },
     "output_type": "display_data"
    }
   ],
   "source": [
    "click_prop_cat3 = {}\n",
    "buy_prop_cat3 = {}\n",
    "for i in range(3,6):\n",
    "    click_prop_cat3[i] = cat3.loc[cat3[\"rank\"] == i].loc[cat3[\"click\"]].shape[0]/cat3.loc[cat3[\"rank\"] == i].shape[0]\n",
    "    buy_prop_cat3[i] = cat3.loc[cat3[\"rank\"] == i].loc[cat3[\"policies_sold\"] == 1].shape[0]/cat3.loc[cat3[\"rank\"] == i].shape[0]\n",
    "click_series_cat3 = pd.Series(data = click_prop_cat3, index = range(3,6))\n",
    "buy_series_cat3 = pd.Series(data = buy_prop_cat3, index = range(3,6))\n",
    "\n",
    "plt.figure(figsize=(5,5))\n",
    "plt.scatter(range(3,6), click_series_cat3)\n",
    "plt.scatter(range(3,6), buy_series_cat3, color = \"r\")\n",
    "plt.plot(range(3,6), click_series_cat3, label = \"Click\")\n",
    "plt.plot(range(3,6), buy_series_cat3, color = \"r\", label = \"Purchase\")\n",
    "plt.xlim((2.5,5.5))\n",
    "plt.ylim((0,0.15))\n",
    "plt.xlabel(\"Rank\", fontsize = 12)\n",
    "plt.ylabel(\"Proportion within each rank\", fontsize = 12)\n",
    "plt.legend(fontsize = 15)\n",
    "plt.show()"
   ]
  },
  {
   "cell_type": "code",
   "execution_count": 167,
   "metadata": {},
   "outputs": [
    {
     "data": {
      "image/png": "[encoded data removed]",
      "text/plain": [
       "<Figure size 432x432 with 1 Axes>"
      ]
     },
     "metadata": {
      "needs_background": "light"
     },
     "output_type": "display_data"
    }
   ],
   "source": [
    "cond_prop_cat3 = {}\n",
    "for i in range(3,6):\n",
    "    cond_prop_cat3[i] = buy_prop_cat3[i]/click_prop_cat3[i]\n",
    "cond_series_cat3 = pd.Series(data = cond_prop_cat3, index = range(3,6))\n",
    "\n",
    "plt.figure(figsize=(6,6))\n",
    "plt.scatter(range(3,6), cond_series_cat3)\n",
    "plt.plot(range(3,6), cond_series_cat3)\n",
    "plt.xlim((2.5,5.5))\n",
    "plt.ylim((0.35,0.8))\n",
    "plt.xlabel(\"Rank\", fontsize = 12)\n",
    "plt.ylabel(\"Proportion of clicks that lead to a purchase\", fontsize = 12)\n",
    "plt.show()"
   ]
  },
  {
   "cell_type": "markdown",
   "metadata": {},
   "source": [
    "These clients are very attractive to other insurance companies; our original bidding of 10 never landed us in rank 1 or 2, and almost half of the bidding resulted in rank 5. An important observation, however, is that those in rank 4 are more likely to purchase than those in rank 3. Maybe it is not worth it to invest in this group either, if improving our ranking is too expensive."
   ]
  },
  {
   "cell_type": "code",
   "execution_count": null,
   "metadata": {},
   "outputs": [],
   "source": []
  },
  {
   "cell_type": "markdown",
   "metadata": {},
   "source": [
    "3) Insured, married customer with 1 vehicle and 1 driver."
   ]
  },
  {
   "cell_type": "code",
   "execution_count": 143,
   "metadata": {},
   "outputs": [
    {
     "data": {
      "text/html": [
       "<div>\n",
       "<style scoped>\n",
       "    .dataframe tbody tr th:only-of-type {\n",
       "        vertical-align: middle;\n",
       "    }\n",
       "\n",
       "    .dataframe tbody tr th {\n",
       "        vertical-align: top;\n",
       "    }\n",
       "\n",
       "    .dataframe thead th {\n",
       "        text-align: right;\n",
       "    }\n",
       "</style>\n",
       "<table border=\"1\" class=\"dataframe\">\n",
       "  <thead>\n",
       "    <tr style=\"text-align: right;\">\n",
       "      <th></th>\n",
       "      <th>Currently Insured</th>\n",
       "      <th>Number of Vehicles</th>\n",
       "      <th>Number of Drivers</th>\n",
       "      <th>Marital Status</th>\n",
       "      <th>bid</th>\n",
       "      <th>rank</th>\n",
       "      <th>click</th>\n",
       "      <th>policies_sold</th>\n",
       "    </tr>\n",
       "  </thead>\n",
       "  <tbody>\n",
       "    <tr>\n",
       "      <th>6266</th>\n",
       "      <td>Y</td>\n",
       "      <td>1</td>\n",
       "      <td>1</td>\n",
       "      <td>M</td>\n",
       "      <td>10.0</td>\n",
       "      <td>4</td>\n",
       "      <td>False</td>\n",
       "      <td>0</td>\n",
       "    </tr>\n",
       "    <tr>\n",
       "      <th>689</th>\n",
       "      <td>Y</td>\n",
       "      <td>1</td>\n",
       "      <td>1</td>\n",
       "      <td>M</td>\n",
       "      <td>10.0</td>\n",
       "      <td>4</td>\n",
       "      <td>False</td>\n",
       "      <td>0</td>\n",
       "    </tr>\n",
       "    <tr>\n",
       "      <th>2428</th>\n",
       "      <td>Y</td>\n",
       "      <td>1</td>\n",
       "      <td>1</td>\n",
       "      <td>M</td>\n",
       "      <td>10.0</td>\n",
       "      <td>3</td>\n",
       "      <td>True</td>\n",
       "      <td>0</td>\n",
       "    </tr>\n",
       "    <tr>\n",
       "      <th>4382</th>\n",
       "      <td>Y</td>\n",
       "      <td>1</td>\n",
       "      <td>1</td>\n",
       "      <td>M</td>\n",
       "      <td>10.0</td>\n",
       "      <td>5</td>\n",
       "      <td>False</td>\n",
       "      <td>0</td>\n",
       "    </tr>\n",
       "    <tr>\n",
       "      <th>8940</th>\n",
       "      <td>Y</td>\n",
       "      <td>1</td>\n",
       "      <td>1</td>\n",
       "      <td>M</td>\n",
       "      <td>10.0</td>\n",
       "      <td>5</td>\n",
       "      <td>False</td>\n",
       "      <td>0</td>\n",
       "    </tr>\n",
       "    <tr>\n",
       "      <th>6036</th>\n",
       "      <td>Y</td>\n",
       "      <td>1</td>\n",
       "      <td>1</td>\n",
       "      <td>M</td>\n",
       "      <td>10.0</td>\n",
       "      <td>4</td>\n",
       "      <td>False</td>\n",
       "      <td>0</td>\n",
       "    </tr>\n",
       "    <tr>\n",
       "      <th>9999</th>\n",
       "      <td>Y</td>\n",
       "      <td>1</td>\n",
       "      <td>1</td>\n",
       "      <td>M</td>\n",
       "      <td>10.0</td>\n",
       "      <td>5</td>\n",
       "      <td>False</td>\n",
       "      <td>0</td>\n",
       "    </tr>\n",
       "    <tr>\n",
       "      <th>5355</th>\n",
       "      <td>Y</td>\n",
       "      <td>1</td>\n",
       "      <td>1</td>\n",
       "      <td>M</td>\n",
       "      <td>10.0</td>\n",
       "      <td>2</td>\n",
       "      <td>True</td>\n",
       "      <td>0</td>\n",
       "    </tr>\n",
       "    <tr>\n",
       "      <th>7219</th>\n",
       "      <td>Y</td>\n",
       "      <td>1</td>\n",
       "      <td>1</td>\n",
       "      <td>M</td>\n",
       "      <td>10.0</td>\n",
       "      <td>4</td>\n",
       "      <td>False</td>\n",
       "      <td>0</td>\n",
       "    </tr>\n",
       "    <tr>\n",
       "      <th>6746</th>\n",
       "      <td>Y</td>\n",
       "      <td>1</td>\n",
       "      <td>1</td>\n",
       "      <td>M</td>\n",
       "      <td>10.0</td>\n",
       "      <td>3</td>\n",
       "      <td>False</td>\n",
       "      <td>0</td>\n",
       "    </tr>\n",
       "  </tbody>\n",
       "</table>\n",
       "</div>"
      ],
      "text/plain": [
       "     Currently Insured  Number of Vehicles  Number of Drivers Marital Status  \\\n",
       "6266                 Y                   1                  1              M   \n",
       "689                  Y                   1                  1              M   \n",
       "2428                 Y                   1                  1              M   \n",
       "4382                 Y                   1                  1              M   \n",
       "8940                 Y                   1                  1              M   \n",
       "6036                 Y                   1                  1              M   \n",
       "9999                 Y                   1                  1              M   \n",
       "5355                 Y                   1                  1              M   \n",
       "7219                 Y                   1                  1              M   \n",
       "6746                 Y                   1                  1              M   \n",
       "\n",
       "       bid  rank  click  policies_sold  \n",
       "6266  10.0     4  False              0  \n",
       "689   10.0     4  False              0  \n",
       "2428  10.0     3   True              0  \n",
       "4382  10.0     5  False              0  \n",
       "8940  10.0     5  False              0  \n",
       "6036  10.0     4  False              0  \n",
       "9999  10.0     5  False              0  \n",
       "5355  10.0     2   True              0  \n",
       "7219  10.0     4  False              0  \n",
       "6746  10.0     3  False              0  "
      ]
     },
     "execution_count": 143,
     "metadata": {},
     "output_type": "execute_result"
    }
   ],
   "source": [
    "cat1 = main.loc[main[\"Marital Status\"] == \"M\"].loc[main[\"Number of Drivers\"] == 1].loc[main[\"Number of Vehicles\"] == 1].loc[main[\"Currently Insured\"] == \"Y\"].copy()\n",
    "cat1.sample(10)"
   ]
  },
  {
   "cell_type": "code",
   "execution_count": 125,
   "metadata": {},
   "outputs": [
    {
     "data": {
      "text/plain": [
       "(274, 8)"
      ]
     },
     "execution_count": 125,
     "metadata": {},
     "output_type": "execute_result"
    }
   ],
   "source": [
    "cat1.shape"
   ]
  },
  {
   "cell_type": "code",
   "execution_count": 192,
   "metadata": {
    "scrolled": true
   },
   "outputs": [
    {
     "data": {
      "text/plain": [
       "4    84\n",
       "3    79\n",
       "5    61\n",
       "2    50\n",
       "Name: rank, dtype: int64"
      ]
     },
     "execution_count": 192,
     "metadata": {},
     "output_type": "execute_result"
    }
   ],
   "source": [
    "cat1[\"rank\"].value_counts()"
   ]
  },
  {
   "cell_type": "code",
   "execution_count": 135,
   "metadata": {},
   "outputs": [
    {
     "data": {
      "text/plain": [
       "False    0.864964\n",
       "True     0.135036\n",
       "Name: click, dtype: float64"
      ]
     },
     "execution_count": 135,
     "metadata": {},
     "output_type": "execute_result"
    }
   ],
   "source": [
    "cat1[\"click\"].value_counts(normalize=1)"
   ]
  },
  {
   "cell_type": "code",
   "execution_count": 136,
   "metadata": {},
   "outputs": [
    {
     "data": {
      "text/plain": [
       "0    0.959854\n",
       "1    0.040146\n",
       "Name: policies_sold, dtype: float64"
      ]
     },
     "execution_count": 136,
     "metadata": {},
     "output_type": "execute_result"
    }
   ],
   "source": [
    "cat1[\"policies_sold\"].value_counts(normalize=1)"
   ]
  },
  {
   "cell_type": "code",
   "execution_count": 142,
   "metadata": {},
   "outputs": [
    {
     "data": {
      "image/png": "[encoded data removed]",
      "text/plain": [
       "<Figure size 432x432 with 1 Axes>"
      ]
     },
     "metadata": {
      "needs_background": "light"
     },
     "output_type": "display_data"
    }
   ],
   "source": [
    "click_prop_cat1 = {}\n",
    "buy_prop_cat1 = {}\n",
    "for i in range(2,6):\n",
    "    click_prop_cat1[i] = cat1.loc[cat1[\"rank\"] == i].loc[cat1[\"click\"]].shape[0]/cat1.loc[cat1[\"rank\"] == i].shape[0]\n",
    "    buy_prop_cat1[i] = cat1.loc[cat1[\"rank\"] == i].loc[cat1[\"policies_sold\"] == 1].shape[0]/cat1.loc[cat1[\"rank\"] == i].shape[0]\n",
    "click_series_cat1 = pd.Series(data = click_prop_cat1, index = range(2,6))\n",
    "buy_series_cat1 = pd.Series(data = buy_prop_cat1, index = range(2,6))\n",
    "\n",
    "plt.figure(figsize=(6,6))\n",
    "plt.scatter(range(2,6), click_series_cat1)\n",
    "plt.scatter(range(2,6), buy_series_cat1, color = \"r\")\n",
    "plt.plot(range(2,6), click_series_cat1, label = \"Click\")\n",
    "plt.plot(range(2,6), buy_series_cat1, color = \"r\", label = \"Purchase\")\n",
    "plt.xlim((1.5,5.5))\n",
    "plt.ylim((0,0.4))\n",
    "plt.xlabel(\"Rank\", fontsize = 12)\n",
    "plt.ylabel(\"Proportion within each rank\", fontsize = 12)\n",
    "plt.legend(fontsize = 15)\n",
    "plt.show()"
   ]
  },
  {
   "cell_type": "code",
   "execution_count": 191,
   "metadata": {
    "scrolled": true
   },
   "outputs": [
    {
     "data": {
      "image/png": "[encoded data removed]",
      "text/plain": [
       "<Figure size 360x360 with 1 Axes>"
      ]
     },
     "metadata": {
      "needs_background": "light"
     },
     "output_type": "display_data"
    }
   ],
   "source": [
    "cond_prop_cat1 = {}\n",
    "for i in range(2,6):\n",
    "    cond_prop_cat1[i] = buy_prop_cat1[i]/click_prop_cat1[i]\n",
    "cond_series_cat1 = pd.Series(data = cond_prop_cat1, index = range(2,6))\n",
    "\n",
    "plt.figure(figsize=(5,5))\n",
    "plt.scatter(range(2,6), cond_series_cat1)\n",
    "plt.plot(range(2,6), cond_series_cat1)\n",
    "plt.xlim((1.5,5.5))\n",
    "plt.ylim((0,0.42))\n",
    "plt.xlabel(\"Rank\", fontsize = 12)\n",
    "plt.ylabel(\"Proportion of clicks that lead to a purchase\", fontsize = 12)\n",
    "plt.show()"
   ]
  },
  {
   "cell_type": "markdown",
   "metadata": {},
   "source": [
    "This group is not as difficult to achieve high rankings as the second group, but still much harder than the first. However, the fact that the purchase percentage is very low for rank 4-5 and increases 2-fold from 4 to 3 and 3 to 2 may imply that it is a good idea for us to bid more on this group."
   ]
  }
 ],
 "metadata": {
  "kernelspec": {
   "display_name": "Python 3",
   "language": "python",
   "name": "python3"
  },
  "language_info": {
   "codemirror_mode": {
    "name": "ipython",
    "version": 3
   },
   "file_extension": ".py",
   "mimetype": "text/x-python",
   "name": "python",
   "nbconvert_exporter": "python",
   "pygments_lexer": "ipython3",
   "version": "3.8.5"
  }
 },
 "nbformat": 4,
 "nbformat_minor": 4
}
