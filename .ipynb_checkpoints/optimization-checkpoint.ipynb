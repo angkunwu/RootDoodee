{
 "cells": [
  {
   "cell_type": "code",
   "execution_count": 2,
   "metadata": {},
   "outputs": [],
   "source": [
    "from scipy.special import factorial\n",
    "from scipy.stats import binom\n",
    "import pandas as pd\n",
    "import numpy as np\n",
    "import math"
   ]
  },
  {
   "cell_type": "code",
   "execution_count": 3,
   "metadata": {},
   "outputs": [],
   "source": [
    "#function for calculating the total cost. total purchase and the derivative of f(B)/g(B) over Bi\n",
    "\n",
    "def cal_tcost(a,b0,M,B,C,S):\n",
    "    tmp=0.0\n",
    "    for i in range(0,len(B)):\n",
    "        x=a[i]*(B[i]-10.0)+b0[i]\n",
    "        P=1/(1+math.exp(-x))\n",
    "        for r in range(0,5):\n",
    "            tmp+=binom.pmf(r,4,P)*B[i]*C[i,r]*M[i]\n",
    "    return tmp\n",
    "\n",
    "def cal_tsr(a,b0,M,B,S):\n",
    "    tmp=0.0\n",
    "    for i in range(0,len(B)):\n",
    "        x=a[i]*(B[i]-10.0)+b0[i]\n",
    "        P=1/(1+math.exp(-x))\n",
    "        for r in range(0,5):\n",
    "            tmp+=binom.pmf(r,4,P)*S[i,r]*M[i]\n",
    "    return tmp\n",
    "\n",
    "#calculate the derivative over Bj, return a float\n",
    "def calc_fgderive_entry(a,b0,M,B,C,S,j):\n",
    "    S_den=cal_tsr(a,b0,M,B,S)\n",
    "    C_num=cal_tcost(a,b0,M,B,C,S)\n",
    "    coe1=M[j]/S_den\n",
    "    coe2=C_num/(S_den**2)*a[j]*M[j]\n",
    "    x=a[j]*(B[j]-10.0)+b0[j]\n",
    "    P=1/(1+math.exp(-x))\n",
    "    sum1=0.0\n",
    "    sum2=0.0\n",
    "   \n",
    "    for r in range(0,5):\n",
    "        sum1+=1+a[j]*B[j]*(r-1-4*P)*C[j,r]*binom.pmf(r,4,P)\n",
    "        sum2+=(r-1-4*P)*S[j,r]*binom.pmf(r,4,P)\n",
    "        tmp=sum1*coe1-sum2*coe2\n",
    "    return tmp\n",
    "    "
   ]
  },
  {
   "cell_type": "code",
   "execution_count": 4,
   "metadata": {},
   "outputs": [],
   "source": [
    "#read in data and make M,C,S,b0 arrays\n",
    "df=pd.read_csv(\"predict_proba_averaged.csv\")\n",
    "df_xy=pd.read_csv(\"bi0.csv\")\n",
    "\n",
    "Insure=[\"Y\",\"N\",\"unknown\"]\n",
    "Ncars=[1,2,3]\n",
    "Ndrivers=[1,2]\n",
    "Marital=[\"S\",\"M\"]\n",
    "Count=0\n",
    "\n",
    "C=np.zeros((36,5))\n",
    "S=np.zeros((36,5))\n",
    "M=np.zeros(36)\n",
    "b0=np.zeros(36)\n",
    "\n",
    "for i in Insure:\n",
    "    for j in Ncars:\n",
    "        for n in Ndrivers:\n",
    "            for m in Marital:\n",
    "                C[Count]=df.loc[(df[\"Currently Insured\"]==i) & (df[\"Number of Vehicles\"]==j) & (df[\"Number of Drivers\"]==n) & (df[\"Marital Status\"]==m)]['ave_Click_pred'].to_numpy()\n",
    "                S[Count]=df.loc[(df[\"Currently Insured\"]==i) & (df[\"Number of Vehicles\"]==j) & (df[\"Number of Drivers\"]==n) & (df[\"Marital Status\"]==m)]['ave_Purchase_pred'].to_numpy()\n",
    "                M[Count]=df_xy.loc[(df_xy[\"Currently Insured\"]==i) & (df_xy[\"Number of Vehicles\"]==j) & (df_xy[\"Number of Drivers\"]==n) & (df_xy[\"Marital Status\"]==m)]['Mi'].to_numpy()[0]\n",
    "                b0[Count]=df_xy.loc[(df_xy[\"Currently Insured\"]==i) & (df_xy[\"Number of Vehicles\"]==j) & (df_xy[\"Number of Drivers\"]==n) & (df_xy[\"Marital Status\"]==m)]['bi0'].to_numpy()[0]\n",
    "                #print(type(df_xy.loc[(df[\"Currently Insured\"]==i) & (df[\"Number of Vehicles\"]==j) & (df[\"Number of Drivers\"]==n) & (df[\"Marital Status\"]==m)]['bi0'].to_numpy()[0]))\n",
    "                Count+=1\n",
    "\n",
    "#drop the type that doesn't exist: unknown, 3 cars, 2 drivers, single, index=34\n",
    "#np arrays are mutable \n",
    "C=np.delete(C,34,0)\n",
    "S=np.delete(S,34,0)\n",
    "M=np.delete(M,34)\n",
    "b0=np.delete(b0,34)"
   ]
  },
  {
   "cell_type": "code",
   "execution_count": 5,
   "metadata": {},
   "outputs": [],
   "source": [
    "#Basic gradient descent, stop when purchase rate falls below 4%\n",
    "def GD_basic(eps,step,Nitr,B):\n",
    "    for i in range(0,Nitr):\n",
    "        B_pri=np.zeros(len(B))\n",
    "        for j in range(0,len(M)):\n",
    "            tmp=B[j]-step*calc_fgderive_entry(a,b0,M,B,C,S,j)\n",
    "            if tmp>0:\n",
    "                B_pri[j]=tmp\n",
    "    \n",
    "        tsr=cal_tsr(a,b0,M,B,S)\n",
    "        tsr_pri=cal_tsr(a,b0,M,B_pri,S)\n",
    "        if tsr_pri>0.04:\n",
    "            tcost=cal_tcost(a,b0,M,B,C,S)\n",
    "            tcost_pri=cal_tcost(a,b0,M,B_pri,C,S)\n",
    "            if (tcost/tsr-tcost_pri/tsr_pri)>=eps:\n",
    "                B=B_pri\n",
    "            else:\n",
    "                print(\"stop at interation \"+str(i)+\"\\n Cause:reach the smallest f(B)/g(B) difference \"+str(tcost/tsr-tcost_pri/tsr_pri))\n",
    "                break\n",
    "        else:\n",
    "            print(\"stop at interation \"+str(i)+\"\\n Cause: purcahse rate is below 4%\")\n",
    "            break\n",
    "        if i==(Nitr-1):\n",
    "            print(\"run out of itrations\")\n",
    "\n",
    "    print(B)\n",
    "    print(cal_tsr(a,b0,M,B,S))\n",
    "    print(cal_tcost(a,b0,M,B_pri,C,S)/cal_tsr(a,b0,M,B,S))\n",
    "    return B        "
   ]
  },
  {
   "cell_type": "code",
   "execution_count": 6,
   "metadata": {},
   "outputs": [],
   "source": [
    "#Josh's modified Projected gradient descent algorithm\n",
    "def GD_Josh(eps,step,Nitr,B):\n",
    "    for i in range(0,Nitr):\n",
    "        B_pri=np.zeros(len(B))\n",
    "        for j in range(0,len(M)):\n",
    "            tmp=B[j]-step*calc_fgderive_entry(a,b0,M,B,C,S,j)\n",
    "            if tmp>0:\n",
    "                B_pri[j]=tmp\n",
    "    \n",
    "        tsr=cal_tsr(a,b0,M,B,S)\n",
    "        tsr_pri=cal_tsr(a,b0,M,B_pri,S)\n",
    "        if tsr_pri>0.04:\n",
    "            tcost=cal_tcost(a,b0,M,B,C,S)\n",
    "            tcost_pri=cal_tcost(a,b0,M,B_pri,C,S)\n",
    "            if (tcost/tsr-tcost_pri/tsr_pri)>=eps:\n",
    "                B=B_pri\n",
    "            else:\n",
    "                print(\"stop at interation \"+str(i)+\"\\n Cause:reach the smallest f(B)/g(B) difference \"+str(tcost/tsr-tcost_pri/tsr_pri))\n",
    "                break\n",
    "        elif (tcost/tsr-tcost_pri/tsr_pri)>=eps:\n",
    "            L=0.0\n",
    "            for j in range(0,len(M)):\n",
    "                L+=calc_fgderive_entry(a,b0,M,B,C,S,j)**2\n",
    "            L=math.sqrt(L)*step\n",
    "            jstar=-1\n",
    "            mstar=-1\n",
    "            Hstar=1000\n",
    "            for j in range(0,len(M)):\n",
    "                for m in [0,1]:\n",
    "                    B_pri_copy=B_pri.copy()\n",
    "                    if B_pri_copy[j]==0 and m==0:\n",
    "                        continue\n",
    "                    B_pri_copy[j]=B_pri_copy[j]+(-1)**m*L\n",
    "                    cpc_pri=cal_tcost(a,b0,M,B_pri_copy,C,S)/cal_tsr(a,b0,M,B_pri_copy,S)\n",
    "                    cpc=cal_tcost(a,b0,M,B,C,S)/cal_tsr(a,b0,M,B,S)\n",
    "                    if cal_tsr(a,b0,M,B_pri_copy,S)>0.04 and cpc_pri< min(cpc-eps,Hstar):\n",
    "                        jstar=j\n",
    "                        mstar=m\n",
    "                        Hstar=cpc_pri\n",
    "            if jstar>=0 and mstar>=0:\n",
    "                B[jstar]=B[jstar]+(-1)**mstar*L\n",
    "        \n",
    "        \n",
    "        if i==(Nitr-1):\n",
    "            print(\"run out of itrations\")\n",
    "\n",
    "    print(cal_tsr(a,b0,M,B,S))\n",
    "    print(cal_tcost(a,b0,M,B_pri,C,S)/cal_tsr(a,b0,M,B,S))\n",
    "    return B "
   ]
  },
  {
   "cell_type": "code",
   "execution_count": 7,
   "metadata": {},
   "outputs": [
    {
     "name": "stdout",
     "output_type": "stream",
     "text": [
      "[ 9. 11.  5.  5. 19.  5. 19.  5. 14.  4. 10. 11. 15.  7. 10.  8.  5.  6.\n",
      "  3.  8. 19.  1. 14. 15.  9. 17.  2. 19.  8. 12.  7. 18. 13. 13. 13.]\n",
      "0.11107308822459752\n",
      "26.651590643244504\n"
     ]
    }
   ],
   "source": [
    "#random assign the initial B\n",
    "B=np.zeros(len(M))\n",
    "a=np.full(len(M),-0.5)\n",
    "while cal_tsr(a,b0,M,B,S)<0.04:\n",
    "    for i in range(0,len(B)):\n",
    "        B[i]=np.random.randint(1,20)\n",
    "        \n",
    "print(B)\n",
    "print(cal_tsr(a,b0,M,B,S))\n",
    "print(cal_tcost(a,b0,M,B,C,S)/cal_tsr(a,b0,M,B,S))"
   ]
  },
  {
   "cell_type": "code",
   "execution_count": 8,
   "metadata": {},
   "outputs": [],
   "source": [
    "#set the Nitr,eps(smallest f(B)/g(B) difference) and step\n",
    "eps=0.0001\n",
    "step=0.05\n",
    "Nitr=100"
   ]
  },
  {
   "cell_type": "code",
   "execution_count": 9,
   "metadata": {},
   "outputs": [
    {
     "name": "stdout",
     "output_type": "stream",
     "text": [
      "run out of itrations\n",
      "0.040134850697029115\n",
      "6.839122704308893\n"
     ]
    }
   ],
   "source": [
    "#set a and run the algorithm \n",
    "a=np.full(len(M),-0.5)\n",
    "B_m0p5=GD_Josh(eps,step,Nitr,B)"
   ]
  },
  {
   "cell_type": "code",
   "execution_count": 11,
   "metadata": {},
   "outputs": [
    {
     "name": "stdout",
     "output_type": "stream",
     "text": [
      "[ 9. 11.  5.  5. 19.  5. 19.  5. 14.  4. 10. 11. 15.  7. 10.  8.  5.  6.\n",
      "  3.  8. 19.  1. 14. 15.  9. 17.  2. 19.  8. 12.  7. 18. 13. 13. 13.]\n",
      "[0.38074609 2.49209962 0.         0.         9.27578275 0.\n",
      " 8.17833388 0.         5.44512294 0.         1.60116528 2.33441408\n",
      " 7.03822842 0.         1.39328219 0.         0.         0.\n",
      " 0.         0.         8.57038614 0.         4.67181    4.50718349\n",
      " 0.98366991 7.32071085 0.         7.87317344 0.         3.75965121\n",
      " 0.         7.5600943  4.7852389  3.88736753 4.2919003 ]\n"
     ]
    }
   ],
   "source": [
    "print(B)\n",
    "print(B_m0p5)"
   ]
  },
  {
   "cell_type": "code",
   "execution_count": 12,
   "metadata": {},
   "outputs": [
    {
     "name": "stdout",
     "output_type": "stream",
     "text": [
      "run out of itrations\n",
      "0.06987139452409354\n",
      "6.747683985274571\n"
     ]
    }
   ],
   "source": [
    "a=np.full(len(M),-0.1)\n",
    "B_m0p1=GD_Josh(eps,step,Nitr,B)"
   ]
  },
  {
   "cell_type": "code",
   "execution_count": 13,
   "metadata": {},
   "outputs": [
    {
     "name": "stdout",
     "output_type": "stream",
     "text": [
      "[ 0.14336533  2.50659933  0.          0.         10.5889834   0.\n",
      "  9.39190185  0.          5.66597617  0.          1.65393609  2.44172612\n",
      "  6.4449842   0.          1.29829269  0.          0.          0.\n",
      "  0.          0.          9.93420132  0.          4.93478555  4.84599\n",
      "  0.50801096  7.42885243  0.          9.34271406  0.          3.64869201\n",
      "  0.          7.96911908  4.96942483  4.01349144  4.33684619]\n"
     ]
    }
   ],
   "source": [
    "print(B_m0p1)"
   ]
  },
  {
   "cell_type": "code",
   "execution_count": 14,
   "metadata": {},
   "outputs": [
    {
     "name": "stdout",
     "output_type": "stream",
     "text": [
      "run out of itrations\n",
      "0.04287500584364062\n",
      "7.801189312782474\n"
     ]
    }
   ],
   "source": [
    "a=np.full(len(M),-1.0)\n",
    "B_m1=GD_Josh(eps,step,Nitr,B)"
   ]
  },
  {
   "cell_type": "code",
   "execution_count": 15,
   "metadata": {},
   "outputs": [
    {
     "name": "stdout",
     "output_type": "stream",
     "text": [
      "[ 0.93143718  2.96788179  0.          0.          8.45223982  0.\n",
      "  7.60711674  0.          5.72706178  0.          1.99097063  2.7034586\n",
      "  6.03493753  0.          1.89647945  0.23993407  0.          0.\n",
      "  0.          0.         11.51497351  0.          4.95534855  4.70912078\n",
      "  1.62033444  9.76005818  0.          9.21661132  0.50657766  4.33177838\n",
      "  0.          8.75685299  4.97184179  4.27315644  4.78376393]\n"
     ]
    }
   ],
   "source": [
    "print(B_m1)"
   ]
  },
  {
   "cell_type": "code",
   "execution_count": null,
   "metadata": {},
   "outputs": [],
   "source": [
    "print"
   ]
  }
 ],
 "metadata": {
  "kernelspec": {
   "display_name": "Python 3",
   "language": "python",
   "name": "python3"
  },
  "language_info": {
   "codemirror_mode": {
    "name": "ipython",
    "version": 3
   },
   "file_extension": ".py",
   "mimetype": "text/x-python",
   "name": "python",
   "nbconvert_exporter": "python",
   "pygments_lexer": "ipython3",
   "version": "3.8.5"
  }
 },
 "nbformat": 4,
 "nbformat_minor": 4
}
