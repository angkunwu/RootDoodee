{
 "cells": [
  {
   "cell_type": "markdown",
   "metadata": {},
   "source": [
    "## Using Random Forest to Predict Click and Purchase Rates in Root Data\n",
    "\n",
    "### Introduction\n",
    "\n",
    "In this notebook, we attempt to develop a random forest model to predict the probability that a customer makes a click and a purchase. The predictors are $\\mathtt{Currently\\;Insured}$, $\\mathtt{Number\\;of\\;Vehicles}$, $\\mathtt{Number\\;of\\;Drivers}$, $\\mathtt{Marital\\;Status}$ and $\\mathtt{rank}$. Since each of the predictors takes on a limited number (at most 5) of distinct values, we treat them as categorical variables and employ one-hot encoding to write them in terms of dummy variables.\n",
    "\n",
    "We begin by loading the data."
   ]
  },
  {
   "cell_type": "code",
   "execution_count": 1,
   "metadata": {},
   "outputs": [],
   "source": [
    "import pandas as pd\n",
    "import numpy as np\n",
    "import matplotlib.pyplot as plt"
   ]
  },
  {
   "cell_type": "code",
   "execution_count": 2,
   "metadata": {},
   "outputs": [
    {
     "data": {
      "text/html": [
       "<div>\n",
       "<style scoped>\n",
       "    .dataframe tbody tr th:only-of-type {\n",
       "        vertical-align: middle;\n",
       "    }\n",
       "\n",
       "    .dataframe tbody tr th {\n",
       "        vertical-align: top;\n",
       "    }\n",
       "\n",
       "    .dataframe thead th {\n",
       "        text-align: right;\n",
       "    }\n",
       "</style>\n",
       "<table border=\"1\" class=\"dataframe\">\n",
       "  <thead>\n",
       "    <tr style=\"text-align: right;\">\n",
       "      <th></th>\n",
       "      <th>Currently Insured</th>\n",
       "      <th>Number of Vehicles</th>\n",
       "      <th>Number of Drivers</th>\n",
       "      <th>Marital Status</th>\n",
       "      <th>bid</th>\n",
       "      <th>rank</th>\n",
       "      <th>click</th>\n",
       "      <th>policies_sold</th>\n",
       "    </tr>\n",
       "  </thead>\n",
       "  <tbody>\n",
       "    <tr>\n",
       "      <th>688</th>\n",
       "      <td>unknown</td>\n",
       "      <td>1</td>\n",
       "      <td>1</td>\n",
       "      <td>S</td>\n",
       "      <td>10.0</td>\n",
       "      <td>3</td>\n",
       "      <td>False</td>\n",
       "      <td>0</td>\n",
       "    </tr>\n",
       "    <tr>\n",
       "      <th>720</th>\n",
       "      <td>N</td>\n",
       "      <td>3</td>\n",
       "      <td>1</td>\n",
       "      <td>M</td>\n",
       "      <td>10.0</td>\n",
       "      <td>5</td>\n",
       "      <td>False</td>\n",
       "      <td>0</td>\n",
       "    </tr>\n",
       "    <tr>\n",
       "      <th>7042</th>\n",
       "      <td>Y</td>\n",
       "      <td>2</td>\n",
       "      <td>1</td>\n",
       "      <td>S</td>\n",
       "      <td>10.0</td>\n",
       "      <td>5</td>\n",
       "      <td>False</td>\n",
       "      <td>0</td>\n",
       "    </tr>\n",
       "    <tr>\n",
       "      <th>9211</th>\n",
       "      <td>Y</td>\n",
       "      <td>1</td>\n",
       "      <td>1</td>\n",
       "      <td>S</td>\n",
       "      <td>10.0</td>\n",
       "      <td>2</td>\n",
       "      <td>True</td>\n",
       "      <td>0</td>\n",
       "    </tr>\n",
       "    <tr>\n",
       "      <th>4357</th>\n",
       "      <td>N</td>\n",
       "      <td>3</td>\n",
       "      <td>1</td>\n",
       "      <td>M</td>\n",
       "      <td>10.0</td>\n",
       "      <td>3</td>\n",
       "      <td>False</td>\n",
       "      <td>0</td>\n",
       "    </tr>\n",
       "    <tr>\n",
       "      <th>8563</th>\n",
       "      <td>unknown</td>\n",
       "      <td>2</td>\n",
       "      <td>2</td>\n",
       "      <td>S</td>\n",
       "      <td>10.0</td>\n",
       "      <td>1</td>\n",
       "      <td>True</td>\n",
       "      <td>0</td>\n",
       "    </tr>\n",
       "    <tr>\n",
       "      <th>8256</th>\n",
       "      <td>Y</td>\n",
       "      <td>1</td>\n",
       "      <td>1</td>\n",
       "      <td>S</td>\n",
       "      <td>10.0</td>\n",
       "      <td>3</td>\n",
       "      <td>False</td>\n",
       "      <td>0</td>\n",
       "    </tr>\n",
       "    <tr>\n",
       "      <th>7610</th>\n",
       "      <td>Y</td>\n",
       "      <td>2</td>\n",
       "      <td>2</td>\n",
       "      <td>M</td>\n",
       "      <td>10.0</td>\n",
       "      <td>4</td>\n",
       "      <td>False</td>\n",
       "      <td>0</td>\n",
       "    </tr>\n",
       "    <tr>\n",
       "      <th>4993</th>\n",
       "      <td>unknown</td>\n",
       "      <td>3</td>\n",
       "      <td>1</td>\n",
       "      <td>M</td>\n",
       "      <td>10.0</td>\n",
       "      <td>4</td>\n",
       "      <td>False</td>\n",
       "      <td>0</td>\n",
       "    </tr>\n",
       "    <tr>\n",
       "      <th>1</th>\n",
       "      <td>Y</td>\n",
       "      <td>3</td>\n",
       "      <td>1</td>\n",
       "      <td>M</td>\n",
       "      <td>10.0</td>\n",
       "      <td>5</td>\n",
       "      <td>False</td>\n",
       "      <td>0</td>\n",
       "    </tr>\n",
       "  </tbody>\n",
       "</table>\n",
       "</div>"
      ],
      "text/plain": [
       "     Currently Insured  Number of Vehicles  Number of Drivers Marital Status  \\\n",
       "688            unknown                   1                  1              S   \n",
       "720                  N                   3                  1              M   \n",
       "7042                 Y                   2                  1              S   \n",
       "9211                 Y                   1                  1              S   \n",
       "4357                 N                   3                  1              M   \n",
       "8563           unknown                   2                  2              S   \n",
       "8256                 Y                   1                  1              S   \n",
       "7610                 Y                   2                  2              M   \n",
       "4993           unknown                   3                  1              M   \n",
       "1                    Y                   3                  1              M   \n",
       "\n",
       "       bid  rank  click  policies_sold  \n",
       "688   10.0     3  False              0  \n",
       "720   10.0     5  False              0  \n",
       "7042  10.0     5  False              0  \n",
       "9211  10.0     2   True              0  \n",
       "4357  10.0     3  False              0  \n",
       "8563  10.0     1   True              0  \n",
       "8256  10.0     3  False              0  \n",
       "7610  10.0     4  False              0  \n",
       "4993  10.0     4  False              0  \n",
       "1     10.0     5  False              0  "
      ]
     },
     "execution_count": 2,
     "metadata": {},
     "output_type": "execute_result"
    }
   ],
   "source": [
    "main = pd.read_csv(\"Root_Insurance_data.csv\")\n",
    "main.sample(10)"
   ]
  },
  {
   "cell_type": "markdown",
   "metadata": {},
   "source": [
    "Now, we use one-hot encoding on the predictors with more than two categories: $\\mathtt{Currently\\;Insured}$, $\\mathtt{Number\\;of\\;Vehicles}$ and $\\mathtt{rank}$."
   ]
  },
  {
   "cell_type": "code",
   "execution_count": 3,
   "metadata": {},
   "outputs": [],
   "source": [
    "main[[\"Insured_yes\", \"Insured_unknown\"]] = pd.get_dummies(main[\"Currently Insured\"])[[\"Y\", \"unknown\"]]\n",
    "main[\"Married\"] = pd.get_dummies(main[\"Marital Status\"])[\"M\"]\n",
    "main[\"Click_or_not\"] = pd.get_dummies(main[\"click\"])[True]\n",
    "main[\"Two_Drivers\"] = pd.get_dummies(main[\"Number of Drivers\"])[2]\n",
    "main[\"Two_Vehicles\"] = pd.Series(data = [int(np.array(main[\"Number of Vehicles\"])[i] == 2) for i in range(main.shape[0])], index = main.index)\n",
    "main[\"Three_Vehicles\"] = pd.Series(data = [int(np.array(main[\"Number of Vehicles\"])[i] == 3) for i in range(main.shape[0])], index = main.index)\n",
    "main[\"Rank_Two\"] = pd.Series(data = [int(np.array(main[\"rank\"])[i] == 2) for i in range(main.shape[0])], index = main.index)\n",
    "main[\"Rank_Three\"] = pd.Series(data = [int(np.array(main[\"rank\"])[i] == 3) for i in range(main.shape[0])], index = main.index)\n",
    "main[\"Rank_Four\"] = pd.Series(data = [int(np.array(main[\"rank\"])[i] == 4) for i in range(main.shape[0])], index = main.index)\n",
    "main[\"Rank_Five\"] = pd.Series(data = [int(np.array(main[\"rank\"])[i] == 5) for i in range(main.shape[0])], index = main.index)"
   ]
  },
  {
   "cell_type": "code",
   "execution_count": 4,
   "metadata": {},
   "outputs": [
    {
     "data": {
      "text/html": [
       "<div>\n",
       "<style scoped>\n",
       "    .dataframe tbody tr th:only-of-type {\n",
       "        vertical-align: middle;\n",
       "    }\n",
       "\n",
       "    .dataframe tbody tr th {\n",
       "        vertical-align: top;\n",
       "    }\n",
       "\n",
       "    .dataframe thead th {\n",
       "        text-align: right;\n",
       "    }\n",
       "</style>\n",
       "<table border=\"1\" class=\"dataframe\">\n",
       "  <thead>\n",
       "    <tr style=\"text-align: right;\">\n",
       "      <th></th>\n",
       "      <th>Currently Insured</th>\n",
       "      <th>Number of Vehicles</th>\n",
       "      <th>Number of Drivers</th>\n",
       "      <th>Marital Status</th>\n",
       "      <th>bid</th>\n",
       "      <th>rank</th>\n",
       "      <th>click</th>\n",
       "      <th>policies_sold</th>\n",
       "      <th>Insured_yes</th>\n",
       "      <th>Insured_unknown</th>\n",
       "      <th>Married</th>\n",
       "      <th>Click_or_not</th>\n",
       "      <th>Two_Drivers</th>\n",
       "      <th>Two_Vehicles</th>\n",
       "      <th>Three_Vehicles</th>\n",
       "      <th>Rank_Two</th>\n",
       "      <th>Rank_Three</th>\n",
       "      <th>Rank_Four</th>\n",
       "      <th>Rank_Five</th>\n",
       "    </tr>\n",
       "  </thead>\n",
       "  <tbody>\n",
       "    <tr>\n",
       "      <th>6959</th>\n",
       "      <td>unknown</td>\n",
       "      <td>2</td>\n",
       "      <td>1</td>\n",
       "      <td>M</td>\n",
       "      <td>10.0</td>\n",
       "      <td>3</td>\n",
       "      <td>False</td>\n",
       "      <td>0</td>\n",
       "      <td>0</td>\n",
       "      <td>1</td>\n",
       "      <td>1</td>\n",
       "      <td>0</td>\n",
       "      <td>0</td>\n",
       "      <td>1</td>\n",
       "      <td>0</td>\n",
       "      <td>0</td>\n",
       "      <td>1</td>\n",
       "      <td>0</td>\n",
       "      <td>0</td>\n",
       "    </tr>\n",
       "    <tr>\n",
       "      <th>7113</th>\n",
       "      <td>unknown</td>\n",
       "      <td>2</td>\n",
       "      <td>1</td>\n",
       "      <td>M</td>\n",
       "      <td>10.0</td>\n",
       "      <td>3</td>\n",
       "      <td>False</td>\n",
       "      <td>0</td>\n",
       "      <td>0</td>\n",
       "      <td>1</td>\n",
       "      <td>1</td>\n",
       "      <td>0</td>\n",
       "      <td>0</td>\n",
       "      <td>1</td>\n",
       "      <td>0</td>\n",
       "      <td>0</td>\n",
       "      <td>1</td>\n",
       "      <td>0</td>\n",
       "      <td>0</td>\n",
       "    </tr>\n",
       "    <tr>\n",
       "      <th>30</th>\n",
       "      <td>Y</td>\n",
       "      <td>2</td>\n",
       "      <td>2</td>\n",
       "      <td>M</td>\n",
       "      <td>10.0</td>\n",
       "      <td>5</td>\n",
       "      <td>False</td>\n",
       "      <td>0</td>\n",
       "      <td>1</td>\n",
       "      <td>0</td>\n",
       "      <td>1</td>\n",
       "      <td>0</td>\n",
       "      <td>1</td>\n",
       "      <td>1</td>\n",
       "      <td>0</td>\n",
       "      <td>0</td>\n",
       "      <td>0</td>\n",
       "      <td>0</td>\n",
       "      <td>1</td>\n",
       "    </tr>\n",
       "    <tr>\n",
       "      <th>7636</th>\n",
       "      <td>N</td>\n",
       "      <td>2</td>\n",
       "      <td>2</td>\n",
       "      <td>S</td>\n",
       "      <td>10.0</td>\n",
       "      <td>4</td>\n",
       "      <td>True</td>\n",
       "      <td>1</td>\n",
       "      <td>0</td>\n",
       "      <td>0</td>\n",
       "      <td>0</td>\n",
       "      <td>1</td>\n",
       "      <td>1</td>\n",
       "      <td>1</td>\n",
       "      <td>0</td>\n",
       "      <td>0</td>\n",
       "      <td>0</td>\n",
       "      <td>1</td>\n",
       "      <td>0</td>\n",
       "    </tr>\n",
       "    <tr>\n",
       "      <th>3420</th>\n",
       "      <td>Y</td>\n",
       "      <td>2</td>\n",
       "      <td>1</td>\n",
       "      <td>S</td>\n",
       "      <td>10.0</td>\n",
       "      <td>5</td>\n",
       "      <td>False</td>\n",
       "      <td>0</td>\n",
       "      <td>1</td>\n",
       "      <td>0</td>\n",
       "      <td>0</td>\n",
       "      <td>0</td>\n",
       "      <td>0</td>\n",
       "      <td>1</td>\n",
       "      <td>0</td>\n",
       "      <td>0</td>\n",
       "      <td>0</td>\n",
       "      <td>0</td>\n",
       "      <td>1</td>\n",
       "    </tr>\n",
       "    <tr>\n",
       "      <th>4720</th>\n",
       "      <td>N</td>\n",
       "      <td>3</td>\n",
       "      <td>2</td>\n",
       "      <td>M</td>\n",
       "      <td>10.0</td>\n",
       "      <td>5</td>\n",
       "      <td>False</td>\n",
       "      <td>0</td>\n",
       "      <td>0</td>\n",
       "      <td>0</td>\n",
       "      <td>1</td>\n",
       "      <td>0</td>\n",
       "      <td>1</td>\n",
       "      <td>0</td>\n",
       "      <td>1</td>\n",
       "      <td>0</td>\n",
       "      <td>0</td>\n",
       "      <td>0</td>\n",
       "      <td>1</td>\n",
       "    </tr>\n",
       "    <tr>\n",
       "      <th>2231</th>\n",
       "      <td>N</td>\n",
       "      <td>1</td>\n",
       "      <td>2</td>\n",
       "      <td>M</td>\n",
       "      <td>10.0</td>\n",
       "      <td>2</td>\n",
       "      <td>False</td>\n",
       "      <td>0</td>\n",
       "      <td>0</td>\n",
       "      <td>0</td>\n",
       "      <td>1</td>\n",
       "      <td>0</td>\n",
       "      <td>1</td>\n",
       "      <td>0</td>\n",
       "      <td>0</td>\n",
       "      <td>1</td>\n",
       "      <td>0</td>\n",
       "      <td>0</td>\n",
       "      <td>0</td>\n",
       "    </tr>\n",
       "    <tr>\n",
       "      <th>3533</th>\n",
       "      <td>N</td>\n",
       "      <td>2</td>\n",
       "      <td>2</td>\n",
       "      <td>S</td>\n",
       "      <td>10.0</td>\n",
       "      <td>3</td>\n",
       "      <td>False</td>\n",
       "      <td>0</td>\n",
       "      <td>0</td>\n",
       "      <td>0</td>\n",
       "      <td>0</td>\n",
       "      <td>0</td>\n",
       "      <td>1</td>\n",
       "      <td>1</td>\n",
       "      <td>0</td>\n",
       "      <td>0</td>\n",
       "      <td>1</td>\n",
       "      <td>0</td>\n",
       "      <td>0</td>\n",
       "    </tr>\n",
       "    <tr>\n",
       "      <th>4390</th>\n",
       "      <td>unknown</td>\n",
       "      <td>1</td>\n",
       "      <td>2</td>\n",
       "      <td>M</td>\n",
       "      <td>10.0</td>\n",
       "      <td>1</td>\n",
       "      <td>False</td>\n",
       "      <td>0</td>\n",
       "      <td>0</td>\n",
       "      <td>1</td>\n",
       "      <td>1</td>\n",
       "      <td>0</td>\n",
       "      <td>1</td>\n",
       "      <td>0</td>\n",
       "      <td>0</td>\n",
       "      <td>0</td>\n",
       "      <td>0</td>\n",
       "      <td>0</td>\n",
       "      <td>0</td>\n",
       "    </tr>\n",
       "    <tr>\n",
       "      <th>3865</th>\n",
       "      <td>Y</td>\n",
       "      <td>1</td>\n",
       "      <td>2</td>\n",
       "      <td>M</td>\n",
       "      <td>10.0</td>\n",
       "      <td>2</td>\n",
       "      <td>True</td>\n",
       "      <td>0</td>\n",
       "      <td>1</td>\n",
       "      <td>0</td>\n",
       "      <td>1</td>\n",
       "      <td>1</td>\n",
       "      <td>1</td>\n",
       "      <td>0</td>\n",
       "      <td>0</td>\n",
       "      <td>1</td>\n",
       "      <td>0</td>\n",
       "      <td>0</td>\n",
       "      <td>0</td>\n",
       "    </tr>\n",
       "  </tbody>\n",
       "</table>\n",
       "</div>"
      ],
      "text/plain": [
       "     Currently Insured  Number of Vehicles  Number of Drivers Marital Status  \\\n",
       "6959           unknown                   2                  1              M   \n",
       "7113           unknown                   2                  1              M   \n",
       "30                   Y                   2                  2              M   \n",
       "7636                 N                   2                  2              S   \n",
       "3420                 Y                   2                  1              S   \n",
       "4720                 N                   3                  2              M   \n",
       "2231                 N                   1                  2              M   \n",
       "3533                 N                   2                  2              S   \n",
       "4390           unknown                   1                  2              M   \n",
       "3865                 Y                   1                  2              M   \n",
       "\n",
       "       bid  rank  click  policies_sold  Insured_yes  Insured_unknown  Married  \\\n",
       "6959  10.0     3  False              0            0                1        1   \n",
       "7113  10.0     3  False              0            0                1        1   \n",
       "30    10.0     5  False              0            1                0        1   \n",
       "7636  10.0     4   True              1            0                0        0   \n",
       "3420  10.0     5  False              0            1                0        0   \n",
       "4720  10.0     5  False              0            0                0        1   \n",
       "2231  10.0     2  False              0            0                0        1   \n",
       "3533  10.0     3  False              0            0                0        0   \n",
       "4390  10.0     1  False              0            0                1        1   \n",
       "3865  10.0     2   True              0            1                0        1   \n",
       "\n",
       "      Click_or_not  Two_Drivers  Two_Vehicles  Three_Vehicles  Rank_Two  \\\n",
       "6959             0            0             1               0         0   \n",
       "7113             0            0             1               0         0   \n",
       "30               0            1             1               0         0   \n",
       "7636             1            1             1               0         0   \n",
       "3420             0            0             1               0         0   \n",
       "4720             0            1             0               1         0   \n",
       "2231             0            1             0               0         1   \n",
       "3533             0            1             1               0         0   \n",
       "4390             0            1             0               0         0   \n",
       "3865             1            1             0               0         1   \n",
       "\n",
       "      Rank_Three  Rank_Four  Rank_Five  \n",
       "6959           1          0          0  \n",
       "7113           1          0          0  \n",
       "30             0          0          1  \n",
       "7636           0          1          0  \n",
       "3420           0          0          1  \n",
       "4720           0          0          1  \n",
       "2231           0          0          0  \n",
       "3533           1          0          0  \n",
       "4390           0          0          0  \n",
       "3865           0          0          0  "
      ]
     },
     "execution_count": 4,
     "metadata": {},
     "output_type": "execute_result"
    }
   ],
   "source": [
    "main.sample(10)"
   ]
  },
  {
   "cell_type": "markdown",
   "metadata": {},
   "source": [
    "Here, we put the predictors and targets in $\\mathtt{NumPy}$ arrays."
   ]
  },
  {
   "cell_type": "code",
   "execution_count": 5,
   "metadata": {},
   "outputs": [],
   "source": [
    "predictors = [\"Insured_yes\", \"Insured_unknown\", \"Two_Vehicles\", \"Three_Vehicles\", \"Two_Drivers\", \"Married\",\n",
    "             \"Rank_Two\", \"Rank_Three\", \"Rank_Four\", \"Rank_Five\"]\n",
    "X = np.array(main[predictors])\n",
    "y1 = np.array(main[\"Click_or_not\"])\n",
    "y2 = np.array(main[\"policies_sold\"])"
   ]
  },
  {
   "cell_type": "markdown",
   "metadata": {},
   "source": [
    "The following function converts the human input (according to the original Root's table entry) into the $1\\times p$ numpy array that can later be fed to the model in order to make predictions."
   ]
  },
  {
   "cell_type": "code",
   "execution_count": 6,
   "metadata": {},
   "outputs": [],
   "source": [
    "def features_to_X(insured, n_vehicles, n_drivers, marital_status, rank):\n",
    "    ans = np.zeros(10)\n",
    "    if insured == \"Y\":\n",
    "        ans[0] = 1\n",
    "    elif insured == \"unknown\":\n",
    "        ans[1] = 1\n",
    "    if n_vehicles == 2:\n",
    "        ans[2] = 1\n",
    "    elif n_vehicles == 3:\n",
    "        ans[3] = 1\n",
    "    if n_drivers == 2:\n",
    "        ans[4] = 1\n",
    "    if marital_status == \"M\":\n",
    "        ans[5] = 1\n",
    "    if rank == 2:\n",
    "        ans[6] = 1\n",
    "    elif rank == 3:\n",
    "        ans[7] = 1\n",
    "    elif rank == 4:\n",
    "        ans[8] = 1\n",
    "    elif rank == 5:\n",
    "        ans[9] = 1\n",
    "    return ans"
   ]
  },
  {
   "cell_type": "markdown",
   "metadata": {},
   "source": [
    "### Click Rate Prediction\n",
    "\n",
    "Here, we make a train-test split with stratification. The random state and test set size are agreed upon by the group."
   ]
  },
  {
   "cell_type": "code",
   "execution_count": 7,
   "metadata": {},
   "outputs": [],
   "source": [
    "from sklearn.model_selection import train_test_split"
   ]
  },
  {
   "cell_type": "code",
   "execution_count": 8,
   "metadata": {},
   "outputs": [],
   "source": [
    "X1_train, X1_test, y1_train, y1_test = train_test_split(X, y1, test_size=0.25, random_state=614, stratify=y2)"
   ]
  },
  {
   "cell_type": "markdown",
   "metadata": {},
   "source": [
    "We perform a 5-fold cross validation to tune our model for the maximum depth and the number of trees. The former has a bias-variance tradeoff, that is, random forests with too-low maximum depths will underfit, while too-high maximum depths lead to overfitting. Although it is common knowledge that too many trees in a random forest do not lead to overfitting, we would prefer to use the smallest number of trees possible while still getting a good fit, in order to reduce computational cost."
   ]
  },
  {
   "cell_type": "code",
   "execution_count": 9,
   "metadata": {},
   "outputs": [],
   "source": [
    "from sklearn.ensemble import RandomForestClassifier\n",
    "from sklearn.model_selection import StratifiedKFold\n",
    "from sklearn.metrics import accuracy_score\n",
    "from sklearn.metrics import roc_auc_score\n",
    "from sklearn.metrics import precision_recall_curve\n",
    "from sklearn.metrics import auc"
   ]
  },
  {
   "cell_type": "code",
   "execution_count": 10,
   "metadata": {},
   "outputs": [],
   "source": [
    "n_estimators_list = [1,2,5,10,20,50,100,200,500,1000]\n",
    "max_depth_list = [i for i in range(1,11)] + [15, 20, 30, 50]\n",
    "accs = np.empty((5, len(n_estimators_list), len(max_depth_list)))\n",
    "aucs = np.empty((5, len(n_estimators_list), len(max_depth_list)))\n",
    "pr_aucs = np.empty((5, len(n_estimators_list), len(max_depth_list)))\n",
    "kfold = StratifiedKFold(n_splits=5,shuffle = True,random_state=614)\n",
    "i = 0\n",
    "for train_idx, val_idx in kfold.split(X1_train, y1_train):\n",
    "    Xtr, Xval = X1_train[train_idx], X1_train[val_idx]\n",
    "    ytr, yval = y1_train[train_idx], y1_train[val_idx]\n",
    "    for j in range(len(n_estimators_list)):\n",
    "        for k in range(len(max_depth_list)):\n",
    "            rf11 = RandomForestClassifier(n_estimators = n_estimators_list[j], \n",
    "                                          max_depth = max_depth_list[k], \n",
    "                                          random_state = 614)\n",
    "            rf11.fit(Xtr, ytr)\n",
    "            pred = rf11.predict(Xval)\n",
    "            prob = rf11.predict_proba(Xval)\n",
    "            accs[i, j, k] = accuracy_score(yval, pred)\n",
    "            aucs[i, j, k] = roc_auc_score(yval, prob[:,1])\n",
    "            precision, recall, _ = precision_recall_curve(yval, prob[:,1])\n",
    "            pr_aucs[i, j, k] = auc(recall, precision)\n",
    "    i += 1\n",
    "accuracies11 = accs.mean(axis = 0)\n",
    "auc_scores11 = aucs.mean(axis = 0)\n",
    "pr_auc_scores11 = pr_aucs.mean(axis = 0)"
   ]
  },
  {
   "cell_type": "markdown",
   "metadata": {},
   "source": [
    "Since the overall click rate in the data set is below 20%, the data set is considered unbalanced. So, we decide to use the area under the precision-recall curve (PRAUC) to evaluate the models. \n",
    "\n",
    "We first consider the PRAUC scores for different maximum depths. "
   ]
  },
  {
   "cell_type": "code",
   "execution_count": 11,
   "metadata": {},
   "outputs": [
    {
     "data": {
      "image/png": "[encoded data removed]",
      "text/plain": [
       "<Figure size 504x504 with 1 Axes>"
      ]
     },
     "metadata": {
      "needs_background": "light"
     },
     "output_type": "display_data"
    }
   ],
   "source": [
    "max_depth_list = [i for i in range(1,11)] + [15, 20, 30, 50]\n",
    "plt.figure(figsize = (7,7))\n",
    "#plt.plot(max_depth_list[:-3], pr_auc_scores11[0, :-3], label = \"n_trees = 1\", color = \"r\")\n",
    "#plt.plot(max_depth_list[:-3], pr_auc_scores11[1, :-3], label = \"n_trees = 2\", color = \"b\")\n",
    "#plt.plot(max_depth_list[:-3], pr_auc_scores11[2, :-3], label = \"n_trees = 5\", color = \"k\")\n",
    "#plt.plot(max_depth_list[:-3], pr_auc_scores11[3, :-3], label = \"n_trees = 10\", color = \"g\")\n",
    "plt.plot(max_depth_list[:-3], pr_auc_scores11[4, :-3], label = \"n_trees = 20\", color = \"c\")\n",
    "plt.plot(max_depth_list[:-3], pr_auc_scores11[5, :-3], label = \"n_trees = 50\", color = \"magenta\")\n",
    "plt.plot(max_depth_list[:-3], pr_auc_scores11[6, :-3], label = \"n_trees = 100\", color = \"y\")\n",
    "plt.plot(max_depth_list[:-3], pr_auc_scores11[7, :-3], label = \"n_trees = 200\", color = \"darkorange\")\n",
    "plt.plot(max_depth_list[:-3], pr_auc_scores11[8, :-3], label = \"n_trees = 500\", color = \"rebeccapurple\")\n",
    "plt.plot(max_depth_list[:-3], pr_auc_scores11[9, :-3], label = \"n_trees = 1000\", color = \"sienna\")\n",
    "plt.xlabel(\"Maximum depth\", fontsize = 14)\n",
    "plt.ylabel(\"PRAUC\", fontsize = 14)\n",
    "plt.legend(fontsize = 10)\n",
    "plt.show()"
   ]
  },
  {
   "cell_type": "markdown",
   "metadata": {},
   "source": [
    "The PRAUC plot shows a peak around maximum depth of 6 or 7, with the maximum at 6 for any models with at least 200 trees. This implies that random forests with larger maximum depths tend to overfit while those with smaller maximum depths tend to underfit.\n",
    "\n",
    "Now, we look at PRAUC scores for different numbers of trees."
   ]
  },
  {
   "cell_type": "code",
   "execution_count": 12,
   "metadata": {},
   "outputs": [
    {
     "data": {
      "image/png": "[encoded data removed]",
      "text/plain": [
       "<Figure size 504x504 with 1 Axes>"
      ]
     },
     "metadata": {
      "needs_background": "light"
     },
     "output_type": "display_data"
    }
   ],
   "source": [
    "plt.figure(figsize = (7,7))\n",
    "plt.plot(n_estimators_list, pr_auc_scores11[:, 3], label = \"max_depth = 4\", color = \"k\")\n",
    "plt.plot(n_estimators_list, pr_auc_scores11[:, 4], label = \"max_depth = 5\", color = \"b\")\n",
    "plt.plot(n_estimators_list, pr_auc_scores11[:, 5], label = \"max_depth = 6\", color = \"r\")\n",
    "plt.plot(n_estimators_list, pr_auc_scores11[:, 6], label = \"max_depth = 7\", color = \"g\")\n",
    "plt.plot(n_estimators_list, pr_auc_scores11[:, 7], label = \"max_depth = 8\", color = \"c\")\n",
    "plt.plot(n_estimators_list, pr_auc_scores11[:, 8], label = \"max_depth = 9\", color = \"magenta\")\n",
    "plt.plot(n_estimators_list, pr_auc_scores11[:, 9], label = \"max_depth = 10\", color = \"y\")\n",
    "plt.plot(n_estimators_list, pr_auc_scores11[:, 10], label = \"max_depth = 15\", color = \"darkorange\")\n",
    "plt.plot(n_estimators_list, pr_auc_scores11[:, 11], label = \"max_depth = 20\", color = \"rebeccapurple\")\n",
    "plt.plot(n_estimators_list, pr_auc_scores11[:, 12], label = \"max_depth = 30\", color = \"sienna\")\n",
    "plt.plot(n_estimators_list, pr_auc_scores11[:, 13], label = \"max_depth = 50\", color = \"slategray\")\n",
    "plt.xlabel(\"Number of trees\", fontsize = 14)\n",
    "plt.ylabel(\"PRAUC\", fontsize = 14)\n",
    "plt.legend(fontsize = 10)\n",
    "plt.show()"
   ]
  },
  {
   "cell_type": "markdown",
   "metadata": {},
   "source": [
    "As expected, the PRAUC score levels off at its maximum for 200+ trees. From now on, we will lean on the safe side and use 250 trees. For this many trees, the PRAUC vs Maximum depth plot shows that we should proceed with the maximum depth of 6.\n",
    "\n",
    "We will now run the final random forest for the whole training set, using 250 trees with maximum depth of 6."
   ]
  },
  {
   "cell_type": "code",
   "execution_count": 13,
   "metadata": {},
   "outputs": [
    {
     "data": {
      "text/plain": [
       "RandomForestClassifier(max_depth=6, n_estimators=250, random_state=614)"
      ]
     },
     "execution_count": 13,
     "metadata": {},
     "output_type": "execute_result"
    }
   ],
   "source": [
    "rf11_final = RandomForestClassifier(n_estimators = 250, \n",
    "                                          max_depth = 6, \n",
    "                                          random_state = 614)\n",
    "rf11_final.fit(X1_train, y1_train)"
   ]
  },
  {
   "cell_type": "markdown",
   "metadata": {},
   "source": [
    "This is the PRAUC score for the final model."
   ]
  },
  {
   "cell_type": "code",
   "execution_count": 15,
   "metadata": {},
   "outputs": [
    {
     "name": "stdout",
     "output_type": "stream",
     "text": [
      "Random forest test PR-AUC for click rate: 0.470015322725361\n"
     ]
    }
   ],
   "source": [
    "precision_11, recall_11, _ = precision_recall_curve(y1_test, rf11.predict_proba(X1_test)[:,1])\n",
    "test_pr_auc11 = auc(recall_11, precision_11)\n",
    "print(\"Random forest test PR-AUC for click rate:\", test_pr_auc11)"
   ]
  },
  {
   "cell_type": "markdown",
   "metadata": {},
   "source": [
    "### Purchase Rate Prediction\n",
    "\n",
    "Again, we start by performing a train-test split."
   ]
  },
  {
   "cell_type": "code",
   "execution_count": 16,
   "metadata": {},
   "outputs": [],
   "source": [
    "X2_train, X2_test, y2_train, y2_test = train_test_split(X, y2, test_size=0.25, random_state=614, stratify=y2)"
   ]
  },
  {
   "cell_type": "markdown",
   "metadata": {},
   "source": [
    "Similarly, we use a 5-fold cross validation to tune our model for the maximum depth and the number of trees. "
   ]
  },
  {
   "cell_type": "code",
   "execution_count": 17,
   "metadata": {},
   "outputs": [],
   "source": [
    "n_estimators_list = [1,2,5,10,20,50,100,200,500]\n",
    "max_depth_list = [i for i in range(1,11)] + [15, 20, 30]\n",
    "accs = np.empty((5, len(n_estimators_list), len(max_depth_list)))\n",
    "aucs = np.empty((5, len(n_estimators_list), len(max_depth_list)))\n",
    "pr_aucs = np.empty((5, len(n_estimators_list), len(max_depth_list)))\n",
    "kfold = StratifiedKFold(n_splits=5,shuffle = True,random_state=614)\n",
    "i = 0\n",
    "for train_idx, val_idx in kfold.split(X2_train, y2_train):\n",
    "    Xtr, Xval = X2_train[train_idx], X2_train[val_idx]\n",
    "    ytr, yval = y2_train[train_idx], y2_train[val_idx]\n",
    "    for j in range(len(n_estimators_list)):\n",
    "        for k in range(len(max_depth_list)):\n",
    "            rf21 = RandomForestClassifier(n_estimators = n_estimators_list[j], \n",
    "                                          max_depth = max_depth_list[k], \n",
    "                                          random_state = 614)\n",
    "            rf21.fit(Xtr, ytr)\n",
    "            pred = rf21.predict(Xval)\n",
    "            prob = rf21.predict_proba(Xval)\n",
    "            accs[i, j, k] = accuracy_score(yval, pred)\n",
    "            aucs[i, j, k] = roc_auc_score(yval, prob[:,1])\n",
    "            precision, recall, _ = precision_recall_curve(yval, prob[:,1])\n",
    "            pr_aucs[i, j, k] = auc(recall, precision)\n",
    "    i += 1\n",
    "accuracies21 = accs.mean(axis = 0)\n",
    "auc_scores21 = aucs.mean(axis = 0)\n",
    "pr_auc_scores21 = pr_aucs.mean(axis = 0)"
   ]
  },
  {
   "cell_type": "markdown",
   "metadata": {},
   "source": [
    "Now, we compare the PRAUC scores for different maximum depths."
   ]
  },
  {
   "cell_type": "code",
   "execution_count": 18,
   "metadata": {},
   "outputs": [
    {
     "data": {
      "image/png": "[encoded data removed]",
      "text/plain": [
       "<Figure size 504x504 with 1 Axes>"
      ]
     },
     "metadata": {
      "needs_background": "light"
     },
     "output_type": "display_data"
    }
   ],
   "source": [
    "max_depth_list = [i for i in range(1,11)] + [15, 20, 30]\n",
    "plt.figure(figsize = (7,7))\n",
    "#plt.plot(max_depth_list[:-2], pr_auc_scores21[0, :-2], label = \"n_trees = 1\", color = \"r\")\n",
    "#plt.plot(max_depth_list[:-2], pr_auc_scores21[1, :-2], label = \"n_trees = 2\", color = \"b\")\n",
    "#plt.plot(max_depth_list[:-2], pr_auc_scores21[2, :-2], label = \"n_trees = 5\", color = \"k\")\n",
    "#plt.plot(max_depth_list[:-2], pr_auc_scores21[3, :-2], label = \"n_trees = 10\", color = \"g\")\n",
    "plt.plot(max_depth_list[:-2], pr_auc_scores21[4, :-2], label = \"n_trees = 20\", color = \"c\")\n",
    "plt.plot(max_depth_list[:-2], pr_auc_scores21[5, :-2], label = \"n_trees = 50\", color = \"magenta\")\n",
    "plt.plot(max_depth_list[:-2], pr_auc_scores21[6, :-2], label = \"n_trees = 100\", color = \"y\")\n",
    "plt.plot(max_depth_list[:-2], pr_auc_scores21[7, :-2], label = \"n_trees = 200\", color = \"darkorange\")\n",
    "plt.plot(max_depth_list[:-2], pr_auc_scores21[8, :-2], label = \"n_trees = 500\", color = \"rebeccapurple\")\n",
    "plt.xlabel(\"Maximum depth\", fontsize = 14)\n",
    "plt.ylabel(\"PRAUC\", fontsize = 14)\n",
    "plt.legend(fontsize = 10)\n",
    "plt.show()"
   ]
  },
  {
   "cell_type": "markdown",
   "metadata": {},
   "source": [
    "We see that the maximum depth of 6 gives the best cross-validation PRAUC for models with at least 100 trees."
   ]
  },
  {
   "cell_type": "code",
   "execution_count": 19,
   "metadata": {},
   "outputs": [
    {
     "data": {
      "image/png": "[encoded data removed]",
      "text/plain": [
       "<Figure size 504x504 with 1 Axes>"
      ]
     },
     "metadata": {
      "needs_background": "light"
     },
     "output_type": "display_data"
    }
   ],
   "source": [
    "plt.figure(figsize = (7,7))\n",
    "#plt.plot(n_estimators_list, pr_auc_scores21[:, 3], label = \"max_depth = 4\", color = \"k\")\n",
    "plt.plot(n_estimators_list, pr_auc_scores21[:, 4], label = \"max_depth = 5\", color = \"b\")\n",
    "plt.plot(n_estimators_list, pr_auc_scores21[:, 5], label = \"max_depth = 6\", color = \"r\")\n",
    "plt.plot(n_estimators_list, pr_auc_scores21[:, 6], label = \"max_depth = 7\", color = \"g\")\n",
    "plt.plot(n_estimators_list, pr_auc_scores21[:, 7], label = \"max_depth = 8\", color = \"c\")\n",
    "plt.plot(n_estimators_list, pr_auc_scores21[:, 8], label = \"max_depth = 9\", color = \"magenta\")\n",
    "plt.plot(n_estimators_list, pr_auc_scores21[:, 9], label = \"max_depth = 10\", color = \"y\")\n",
    "plt.plot(n_estimators_list, pr_auc_scores21[:, 10], label = \"max_depth = 15\", color = \"darkorange\")\n",
    "plt.plot(n_estimators_list, pr_auc_scores21[:, 11], label = \"max_depth = 20\", color = \"rebeccapurple\")\n",
    "plt.plot(n_estimators_list, pr_auc_scores21[:, 12], label = \"max_depth = 30\", color = \"sienna\")\n",
    "plt.xlabel(\"Number of trees\", fontsize = 14)\n",
    "plt.ylabel(\"PRAUC\", fontsize = 14)\n",
    "plt.legend(fontsize = 10)\n",
    "plt.show()"
   ]
  },
  {
   "cell_type": "markdown",
   "metadata": {},
   "source": [
    "At the best maximum depth of 6, the PRAUC score reaches its maximum and levels off at 200 trees. \n",
    "\n",
    "In the following, we run the final random forest model to predict the purchase rate, using 200 trees with maximum depth of 6."
   ]
  },
  {
   "cell_type": "code",
   "execution_count": 20,
   "metadata": {},
   "outputs": [
    {
     "data": {
      "text/plain": [
       "RandomForestClassifier(max_depth=6, n_estimators=200, random_state=614)"
      ]
     },
     "execution_count": 20,
     "metadata": {},
     "output_type": "execute_result"
    }
   ],
   "source": [
    "rf21_final = RandomForestClassifier(n_estimators = 200, \n",
    "                                          max_depth = 6, \n",
    "                                          random_state = 614)\n",
    "rf21_final.fit(X2_train, y2_train)"
   ]
  },
  {
   "cell_type": "markdown",
   "metadata": {},
   "source": [
    "This is the PRAUC score for the final model."
   ]
  },
  {
   "cell_type": "code",
   "execution_count": 21,
   "metadata": {},
   "outputs": [
    {
     "name": "stdout",
     "output_type": "stream",
     "text": [
      "Random forest test PR-AUC for purchase rate: 0.18571275721278188\n"
     ]
    }
   ],
   "source": [
    "precision_21, recall_21, _ = precision_recall_curve(y2_test, rf21.predict_proba(X2_test)[:,1])\n",
    "test_pr_auc21 = auc(recall_21, precision_21)\n",
    "print(\"Random forest test PR-AUC for purchase rate:\", test_pr_auc21)"
   ]
  },
  {
   "cell_type": "markdown",
   "metadata": {},
   "source": [
    "### Final Prediction for Various Categories\n",
    "\n",
    "In order to put our random forest models to use, we define the following functions that return click and purchase rates given the inputs in the following form.\n",
    "- $\\mathtt{insured} \\in \\{\\mathtt{\"Y\"}, \\mathtt{\\;\"N\"}, \\mathtt{\\;\"unknown\"}\\}$\n",
    "- $\\mathtt{n\\_vehicles} \\in \\{1, 2, 3\\}$\n",
    "- $\\mathtt{n\\_drivers} \\in \\{1, 2\\}$\n",
    "- $\\mathtt{marital\\_status} \\in \\{\\mathtt{\"S\"}, \\mathtt{\\;\"M\"}\\}$\n",
    "- $\\mathtt{rank} \\in \\{1, 2, 3, 4, 5\\}$"
   ]
  },
  {
   "cell_type": "code",
   "execution_count": 22,
   "metadata": {},
   "outputs": [],
   "source": [
    "def get_click_rate(insured, n_vehicles, n_drivers, marital_status, rank):\n",
    "    X = features_to_X(insured, n_vehicles, n_drivers, marital_status, rank)\n",
    "    prob_click = rf11.predict_proba(np.transpose(X.reshape(-1,1)))[0,1]\n",
    "    return prob_click"
   ]
  },
  {
   "cell_type": "code",
   "execution_count": 23,
   "metadata": {},
   "outputs": [],
   "source": [
    "def get_purchase_rate(insured, n_vehicles, n_drivers, marital_status, rank):\n",
    "    X = features_to_X(insured, n_vehicles, n_drivers, marital_status, rank)\n",
    "    prob_purchase = rf21.predict_proba(np.transpose(X.reshape(-1,1)))[0,1]\n",
    "    return prob_purchase"
   ]
  },
  {
   "cell_type": "markdown",
   "metadata": {},
   "source": [
    "Now, we define the lists of columns that will eventually yield all the combinations of features, then we compute the probabilities of click and purchase for all the combinations. "
   ]
  },
  {
   "cell_type": "code",
   "execution_count": 24,
   "metadata": {},
   "outputs": [],
   "source": [
    "insured_list_full = [\"Y\" for i in range(60)] + [\"N\" for i in range(60)] + [\"unknown\" for i in range(60)]\n",
    "n_vehicles_list_full = ([1 for i in range(20)] + [2 for i in range(20)] + [3 for i in range(20)])*3\n",
    "n_drivers_list_full = ([1 for i in range(10)] + [2 for i in range(10)])*9\n",
    "marital_status_list_full = ([\"S\" for i in range(5)] + [\"M\" for i in range(5)])*18\n",
    "rank_list_full = [i for i in range(1,6)]*36"
   ]
  },
  {
   "cell_type": "code",
   "execution_count": 25,
   "metadata": {},
   "outputs": [],
   "source": [
    "click_rates = [get_click_rate(insured_list_full[i], \n",
    "                              n_vehicles_list_full[i],\n",
    "                              n_drivers_list_full[i],\n",
    "                              marital_status_list_full[i],\n",
    "                              rank_list_full[i]) for i in range(180)]\n",
    "sales_rates = [get_purchase_rate(insured_list_full[i], \n",
    "                                 n_vehicles_list_full[i],\n",
    "                                 n_drivers_list_full[i],\n",
    "                                 marital_status_list_full[i],\n",
    "                                 rank_list_full[i]) for i in range(180)]"
   ]
  },
  {
   "cell_type": "markdown",
   "metadata": {},
   "source": [
    "Finally, we put all the predicted probabilities into a dataframe and save it as a csv file called \"rf_onehot_predictions.csv\". \n",
    "\n",
    "Note to the readers: this csv file will not be posted on the GitHub repository, but we posted another file named \"predict_proba_averaged.csv\", which is a more comprehensive csv file containing the probability predictions from all of our models."
   ]
  },
  {
   "cell_type": "code",
   "execution_count": 26,
   "metadata": {},
   "outputs": [],
   "source": [
    "rf_onehot_df = pd.DataFrame({\"Currently Insured\": insured_list_full,\n",
    "                             \"Number of Vehicles\": n_vehicles_list_full,\n",
    "                             \"Number of Drivers\": n_drivers_list_full,\n",
    "                             \"Marital Status\": marital_status_list_full,\n",
    "                             \"rank\": rank_list_full,\n",
    "                             \"Click Rates\": click_rates,\n",
    "                             \"Purchase Rates\": sales_rates})"
   ]
  },
  {
   "cell_type": "code",
   "execution_count": 28,
   "metadata": {},
   "outputs": [],
   "source": [
    "rf_onehot_df.to_csv(\"rf_onehot_predictions.csv\")"
   ]
  },
  {
   "cell_type": "code",
   "execution_count": 27,
   "metadata": {},
   "outputs": [
    {
     "data": {
      "text/html": [
       "<div>\n",
       "<style scoped>\n",
       "    .dataframe tbody tr th:only-of-type {\n",
       "        vertical-align: middle;\n",
       "    }\n",
       "\n",
       "    .dataframe tbody tr th {\n",
       "        vertical-align: top;\n",
       "    }\n",
       "\n",
       "    .dataframe thead th {\n",
       "        text-align: right;\n",
       "    }\n",
       "</style>\n",
       "<table border=\"1\" class=\"dataframe\">\n",
       "  <thead>\n",
       "    <tr style=\"text-align: right;\">\n",
       "      <th></th>\n",
       "      <th>Currently Insured</th>\n",
       "      <th>Number of Vehicles</th>\n",
       "      <th>Number of Drivers</th>\n",
       "      <th>Marital Status</th>\n",
       "      <th>rank</th>\n",
       "      <th>Click Rates</th>\n",
       "      <th>Purchase Rates</th>\n",
       "    </tr>\n",
       "  </thead>\n",
       "  <tbody>\n",
       "    <tr>\n",
       "      <th>152</th>\n",
       "      <td>unknown</td>\n",
       "      <td>2</td>\n",
       "      <td>2</td>\n",
       "      <td>S</td>\n",
       "      <td>3</td>\n",
       "      <td>0.130541</td>\n",
       "      <td>0.029952</td>\n",
       "    </tr>\n",
       "    <tr>\n",
       "      <th>133</th>\n",
       "      <td>unknown</td>\n",
       "      <td>1</td>\n",
       "      <td>2</td>\n",
       "      <td>S</td>\n",
       "      <td>4</td>\n",
       "      <td>0.240350</td>\n",
       "      <td>0.103322</td>\n",
       "    </tr>\n",
       "    <tr>\n",
       "      <th>166</th>\n",
       "      <td>unknown</td>\n",
       "      <td>3</td>\n",
       "      <td>1</td>\n",
       "      <td>M</td>\n",
       "      <td>2</td>\n",
       "      <td>0.241065</td>\n",
       "      <td>0.095077</td>\n",
       "    </tr>\n",
       "    <tr>\n",
       "      <th>118</th>\n",
       "      <td>N</td>\n",
       "      <td>3</td>\n",
       "      <td>2</td>\n",
       "      <td>M</td>\n",
       "      <td>4</td>\n",
       "      <td>0.091753</td>\n",
       "      <td>0.064016</td>\n",
       "    </tr>\n",
       "    <tr>\n",
       "      <th>104</th>\n",
       "      <td>N</td>\n",
       "      <td>3</td>\n",
       "      <td>1</td>\n",
       "      <td>S</td>\n",
       "      <td>5</td>\n",
       "      <td>0.013821</td>\n",
       "      <td>0.000000</td>\n",
       "    </tr>\n",
       "    <tr>\n",
       "      <th>148</th>\n",
       "      <td>unknown</td>\n",
       "      <td>2</td>\n",
       "      <td>1</td>\n",
       "      <td>M</td>\n",
       "      <td>4</td>\n",
       "      <td>0.185694</td>\n",
       "      <td>0.092267</td>\n",
       "    </tr>\n",
       "    <tr>\n",
       "      <th>103</th>\n",
       "      <td>N</td>\n",
       "      <td>3</td>\n",
       "      <td>1</td>\n",
       "      <td>S</td>\n",
       "      <td>4</td>\n",
       "      <td>0.087468</td>\n",
       "      <td>0.049907</td>\n",
       "    </tr>\n",
       "    <tr>\n",
       "      <th>30</th>\n",
       "      <td>Y</td>\n",
       "      <td>2</td>\n",
       "      <td>2</td>\n",
       "      <td>S</td>\n",
       "      <td>1</td>\n",
       "      <td>0.243025</td>\n",
       "      <td>0.115484</td>\n",
       "    </tr>\n",
       "    <tr>\n",
       "      <th>23</th>\n",
       "      <td>Y</td>\n",
       "      <td>2</td>\n",
       "      <td>1</td>\n",
       "      <td>S</td>\n",
       "      <td>4</td>\n",
       "      <td>0.120312</td>\n",
       "      <td>0.023010</td>\n",
       "    </tr>\n",
       "    <tr>\n",
       "      <th>56</th>\n",
       "      <td>Y</td>\n",
       "      <td>3</td>\n",
       "      <td>2</td>\n",
       "      <td>M</td>\n",
       "      <td>2</td>\n",
       "      <td>0.252134</td>\n",
       "      <td>0.044307</td>\n",
       "    </tr>\n",
       "  </tbody>\n",
       "</table>\n",
       "</div>"
      ],
      "text/plain": [
       "    Currently Insured  Number of Vehicles  Number of Drivers Marital Status  \\\n",
       "152           unknown                   2                  2              S   \n",
       "133           unknown                   1                  2              S   \n",
       "166           unknown                   3                  1              M   \n",
       "118                 N                   3                  2              M   \n",
       "104                 N                   3                  1              S   \n",
       "148           unknown                   2                  1              M   \n",
       "103                 N                   3                  1              S   \n",
       "30                  Y                   2                  2              S   \n",
       "23                  Y                   2                  1              S   \n",
       "56                  Y                   3                  2              M   \n",
       "\n",
       "     rank  Click Rates  Purchase Rates  \n",
       "152     3     0.130541        0.029952  \n",
       "133     4     0.240350        0.103322  \n",
       "166     2     0.241065        0.095077  \n",
       "118     4     0.091753        0.064016  \n",
       "104     5     0.013821        0.000000  \n",
       "148     4     0.185694        0.092267  \n",
       "103     4     0.087468        0.049907  \n",
       "30      1     0.243025        0.115484  \n",
       "23      4     0.120312        0.023010  \n",
       "56      2     0.252134        0.044307  "
      ]
     },
     "execution_count": 27,
     "metadata": {},
     "output_type": "execute_result"
    }
   ],
   "source": [
    "rf_onehot_df.sample(10)"
   ]
  }
 ],
 "metadata": {
  "kernelspec": {
   "display_name": "Python 3",
   "language": "python",
   "name": "python3"
  },
  "language_info": {
   "codemirror_mode": {
    "name": "ipython",
    "version": 3
   },
   "file_extension": ".py",
   "mimetype": "text/x-python",
   "name": "python",
   "nbconvert_exporter": "python",
   "pygments_lexer": "ipython3",
   "version": "3.8.5"
  }
 },
 "nbformat": 4,
 "nbformat_minor": 4
}
