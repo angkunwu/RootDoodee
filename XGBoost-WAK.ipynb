{
 "cells": [
  {
   "cell_type": "markdown",
   "metadata": {},
   "source": [
    "# The Root Insurance Project\n",
    "\n",
    "## The goals of the project\n",
    "\n",
    "- Understand the dataset: we have dataset with 10,000 \"impressions\" of ads, where the relation between customers and the insurance commercials hides.\n",
    "- The marketing manager of the insurance company wants to understand how to bid differently for different customers so as to improve the ads performance.\n",
    "- Bidding strategy: \"optimize the cost per customer while having 4% customer rate over all ads shown\". Bidding higher will make the ad to be shown higher in the ranking, but we do not know how the bidding change the ranking.\n",
    "- Find some interesting relations for the website manager."
   ]
  },
  {
   "cell_type": "markdown",
   "metadata": {},
   "source": [
    "# Exploratory data analysis\n",
    "\n",
    "We'll first explore how the dataset looks like and how the customers are featured."
   ]
  },
  {
   "cell_type": "code",
   "execution_count": 2,
   "metadata": {},
   "outputs": [],
   "source": [
    "# import packages\n",
    "import pandas as pd\n",
    "import numpy as np\n",
    "import matplotlib.pyplot as plt"
   ]
  },
  {
   "cell_type": "code",
   "execution_count": 3,
   "metadata": {
    "scrolled": true
   },
   "outputs": [
    {
     "data": {
      "text/html": [
       "<div>\n",
       "<style scoped>\n",
       "    .dataframe tbody tr th:only-of-type {\n",
       "        vertical-align: middle;\n",
       "    }\n",
       "\n",
       "    .dataframe tbody tr th {\n",
       "        vertical-align: top;\n",
       "    }\n",
       "\n",
       "    .dataframe thead th {\n",
       "        text-align: right;\n",
       "    }\n",
       "</style>\n",
       "<table border=\"1\" class=\"dataframe\">\n",
       "  <thead>\n",
       "    <tr style=\"text-align: right;\">\n",
       "      <th></th>\n",
       "      <th>Currently Insured</th>\n",
       "      <th>Number of Vehicles</th>\n",
       "      <th>Number of Drivers</th>\n",
       "      <th>Marital Status</th>\n",
       "      <th>bid</th>\n",
       "      <th>rank</th>\n",
       "      <th>click</th>\n",
       "      <th>policies_sold</th>\n",
       "    </tr>\n",
       "  </thead>\n",
       "  <tbody>\n",
       "    <tr>\n",
       "      <th>0</th>\n",
       "      <td>unknown</td>\n",
       "      <td>2</td>\n",
       "      <td>1</td>\n",
       "      <td>M</td>\n",
       "      <td>10.0</td>\n",
       "      <td>2</td>\n",
       "      <td>False</td>\n",
       "      <td>0</td>\n",
       "    </tr>\n",
       "    <tr>\n",
       "      <th>1</th>\n",
       "      <td>Y</td>\n",
       "      <td>3</td>\n",
       "      <td>1</td>\n",
       "      <td>M</td>\n",
       "      <td>10.0</td>\n",
       "      <td>5</td>\n",
       "      <td>False</td>\n",
       "      <td>0</td>\n",
       "    </tr>\n",
       "    <tr>\n",
       "      <th>2</th>\n",
       "      <td>Y</td>\n",
       "      <td>3</td>\n",
       "      <td>2</td>\n",
       "      <td>M</td>\n",
       "      <td>10.0</td>\n",
       "      <td>5</td>\n",
       "      <td>False</td>\n",
       "      <td>0</td>\n",
       "    </tr>\n",
       "    <tr>\n",
       "      <th>3</th>\n",
       "      <td>N</td>\n",
       "      <td>3</td>\n",
       "      <td>2</td>\n",
       "      <td>S</td>\n",
       "      <td>10.0</td>\n",
       "      <td>4</td>\n",
       "      <td>False</td>\n",
       "      <td>0</td>\n",
       "    </tr>\n",
       "    <tr>\n",
       "      <th>4</th>\n",
       "      <td>unknown</td>\n",
       "      <td>2</td>\n",
       "      <td>2</td>\n",
       "      <td>S</td>\n",
       "      <td>10.0</td>\n",
       "      <td>2</td>\n",
       "      <td>False</td>\n",
       "      <td>0</td>\n",
       "    </tr>\n",
       "  </tbody>\n",
       "</table>\n",
       "</div>"
      ],
      "text/plain": [
       "  Currently Insured  Number of Vehicles  Number of Drivers Marital Status  \\\n",
       "0           unknown                   2                  1              M   \n",
       "1                 Y                   3                  1              M   \n",
       "2                 Y                   3                  2              M   \n",
       "3                 N                   3                  2              S   \n",
       "4           unknown                   2                  2              S   \n",
       "\n",
       "    bid  rank  click  policies_sold  \n",
       "0  10.0     2  False              0  \n",
       "1  10.0     5  False              0  \n",
       "2  10.0     5  False              0  \n",
       "3  10.0     4  False              0  \n",
       "4  10.0     2  False              0  "
      ]
     },
     "execution_count": 3,
     "metadata": {},
     "output_type": "execute_result"
    }
   ],
   "source": [
    "# read the data as dataframe\n",
    "df = pd.read_csv(\"Root_insurance_data.csv\")\n",
    "\n",
    "df.head()"
   ]
  },
  {
   "cell_type": "code",
   "execution_count": 4,
   "metadata": {
    "scrolled": true
   },
   "outputs": [
    {
     "data": {
      "text/html": [
       "<div>\n",
       "<style scoped>\n",
       "    .dataframe tbody tr th:only-of-type {\n",
       "        vertical-align: middle;\n",
       "    }\n",
       "\n",
       "    .dataframe tbody tr th {\n",
       "        vertical-align: top;\n",
       "    }\n",
       "\n",
       "    .dataframe thead th {\n",
       "        text-align: right;\n",
       "    }\n",
       "</style>\n",
       "<table border=\"1\" class=\"dataframe\">\n",
       "  <thead>\n",
       "    <tr style=\"text-align: right;\">\n",
       "      <th></th>\n",
       "      <th>Number of Vehicles</th>\n",
       "      <th>Number of Drivers</th>\n",
       "      <th>bid</th>\n",
       "      <th>rank</th>\n",
       "      <th>policies_sold</th>\n",
       "    </tr>\n",
       "  </thead>\n",
       "  <tbody>\n",
       "    <tr>\n",
       "      <th>count</th>\n",
       "      <td>10000.000000</td>\n",
       "      <td>10000.000000</td>\n",
       "      <td>10000.0</td>\n",
       "      <td>10000.000000</td>\n",
       "      <td>10000.000000</td>\n",
       "    </tr>\n",
       "    <tr>\n",
       "      <th>mean</th>\n",
       "      <td>1.965400</td>\n",
       "      <td>1.499900</td>\n",
       "      <td>10.0</td>\n",
       "      <td>3.184100</td>\n",
       "      <td>0.078300</td>\n",
       "    </tr>\n",
       "    <tr>\n",
       "      <th>std</th>\n",
       "      <td>0.807755</td>\n",
       "      <td>0.500025</td>\n",
       "      <td>0.0</td>\n",
       "      <td>1.377242</td>\n",
       "      <td>0.268657</td>\n",
       "    </tr>\n",
       "    <tr>\n",
       "      <th>min</th>\n",
       "      <td>1.000000</td>\n",
       "      <td>1.000000</td>\n",
       "      <td>10.0</td>\n",
       "      <td>1.000000</td>\n",
       "      <td>0.000000</td>\n",
       "    </tr>\n",
       "    <tr>\n",
       "      <th>25%</th>\n",
       "      <td>1.000000</td>\n",
       "      <td>1.000000</td>\n",
       "      <td>10.0</td>\n",
       "      <td>2.000000</td>\n",
       "      <td>0.000000</td>\n",
       "    </tr>\n",
       "    <tr>\n",
       "      <th>50%</th>\n",
       "      <td>2.000000</td>\n",
       "      <td>1.000000</td>\n",
       "      <td>10.0</td>\n",
       "      <td>3.000000</td>\n",
       "      <td>0.000000</td>\n",
       "    </tr>\n",
       "    <tr>\n",
       "      <th>75%</th>\n",
       "      <td>3.000000</td>\n",
       "      <td>2.000000</td>\n",
       "      <td>10.0</td>\n",
       "      <td>4.000000</td>\n",
       "      <td>0.000000</td>\n",
       "    </tr>\n",
       "    <tr>\n",
       "      <th>max</th>\n",
       "      <td>3.000000</td>\n",
       "      <td>2.000000</td>\n",
       "      <td>10.0</td>\n",
       "      <td>5.000000</td>\n",
       "      <td>1.000000</td>\n",
       "    </tr>\n",
       "  </tbody>\n",
       "</table>\n",
       "</div>"
      ],
      "text/plain": [
       "       Number of Vehicles  Number of Drivers      bid          rank  \\\n",
       "count        10000.000000       10000.000000  10000.0  10000.000000   \n",
       "mean             1.965400           1.499900     10.0      3.184100   \n",
       "std              0.807755           0.500025      0.0      1.377242   \n",
       "min              1.000000           1.000000     10.0      1.000000   \n",
       "25%              1.000000           1.000000     10.0      2.000000   \n",
       "50%              2.000000           1.000000     10.0      3.000000   \n",
       "75%              3.000000           2.000000     10.0      4.000000   \n",
       "max              3.000000           2.000000     10.0      5.000000   \n",
       "\n",
       "       policies_sold  \n",
       "count   10000.000000  \n",
       "mean        0.078300  \n",
       "std         0.268657  \n",
       "min         0.000000  \n",
       "25%         0.000000  \n",
       "50%         0.000000  \n",
       "75%         0.000000  \n",
       "max         1.000000  "
      ]
     },
     "execution_count": 4,
     "metadata": {},
     "output_type": "execute_result"
    }
   ],
   "source": [
    "df.describe()"
   ]
  },
  {
   "cell_type": "code",
   "execution_count": 5,
   "metadata": {},
   "outputs": [
    {
     "name": "stdout",
     "output_type": "stream",
     "text": [
      "35\n"
     ]
    },
    {
     "data": {
      "text/html": [
       "<div>\n",
       "<style scoped>\n",
       "    .dataframe tbody tr th:only-of-type {\n",
       "        vertical-align: middle;\n",
       "    }\n",
       "\n",
       "    .dataframe tbody tr th {\n",
       "        vertical-align: top;\n",
       "    }\n",
       "\n",
       "    .dataframe thead th {\n",
       "        text-align: right;\n",
       "    }\n",
       "</style>\n",
       "<table border=\"1\" class=\"dataframe\">\n",
       "  <thead>\n",
       "    <tr style=\"text-align: right;\">\n",
       "      <th></th>\n",
       "      <th>Currently Insured</th>\n",
       "      <th>Number of Vehicles</th>\n",
       "      <th>Number of Drivers</th>\n",
       "      <th>Marital Status</th>\n",
       "    </tr>\n",
       "  </thead>\n",
       "  <tbody>\n",
       "    <tr>\n",
       "      <th>0</th>\n",
       "      <td>unknown</td>\n",
       "      <td>2</td>\n",
       "      <td>1</td>\n",
       "      <td>M</td>\n",
       "    </tr>\n",
       "    <tr>\n",
       "      <th>1</th>\n",
       "      <td>Y</td>\n",
       "      <td>3</td>\n",
       "      <td>1</td>\n",
       "      <td>M</td>\n",
       "    </tr>\n",
       "    <tr>\n",
       "      <th>2</th>\n",
       "      <td>Y</td>\n",
       "      <td>3</td>\n",
       "      <td>2</td>\n",
       "      <td>M</td>\n",
       "    </tr>\n",
       "    <tr>\n",
       "      <th>3</th>\n",
       "      <td>N</td>\n",
       "      <td>3</td>\n",
       "      <td>2</td>\n",
       "      <td>S</td>\n",
       "    </tr>\n",
       "    <tr>\n",
       "      <th>4</th>\n",
       "      <td>unknown</td>\n",
       "      <td>2</td>\n",
       "      <td>2</td>\n",
       "      <td>S</td>\n",
       "    </tr>\n",
       "  </tbody>\n",
       "</table>\n",
       "</div>"
      ],
      "text/plain": [
       "  Currently Insured  Number of Vehicles  Number of Drivers Marital Status\n",
       "0           unknown                   2                  1              M\n",
       "1                 Y                   3                  1              M\n",
       "2                 Y                   3                  2              M\n",
       "3                 N                   3                  2              S\n",
       "4           unknown                   2                  2              S"
      ]
     },
     "execution_count": 5,
     "metadata": {},
     "output_type": "execute_result"
    }
   ],
   "source": [
    "cols = df.columns\n",
    "df_unique = df[cols[:4]].drop_duplicates()\n",
    "print(len(df_unique))\n",
    "df_unique.head()"
   ]
  },
  {
   "cell_type": "markdown",
   "metadata": {},
   "source": [
    "## The Customer features\n",
    "\n",
    "There are four main features for each customers: `Currently Insured`, `Number of Vehicles`, `Number of Drivers` and `Marital Status`, where each could serve as categorical feature with 36 possibilities in total. Note that there are miss data for `Currently Insured` as `unknown`. We could interpret this missing data as the middle of insured or not, but given our limited feature size, we treat it as an independent category.\n",
    "\n",
    "Moreover, when removing duplicated features, there are only 35 unique combination of features.\n",
    "\n",
    "Only two features are numerical (integers): `Number of Vehicles` and `Number of Drivers`, ranging from [1, 3] and [1,2], respectively. So there are not many numerical relations to explore.\n",
    "\n",
    "Since the total number of samples ($10,000$) is much larger than the number of unique features of customers ($35$), we expect that:\n",
    "- 1). For each type of costumer, there is a distribution of the ads ranks to be shown $P_i(r)$, where $i$ is the costumer type and $r \\in [1,5]$ denote the ads rank; \n",
    "- 2). Given costumer features and ranks, there is also a probability for the costumer at a rank to click on the ads, $P_C$;\n",
    "- 3). Given the clicked costumer, there is also a conditional probability for the insurance to be sold, $P_{S|C}$.\n",
    "\n",
    "Thus, statistically, we're not dealing with a classification problem but a probability problem, where the accuracy of prediction is not very important. However, from the perspective of the insurance company, we do want to invest more on the types of customers who are prone to buy the policy after click (Only clicked ads need to be paid). By investing more (bidding more), we could improve the rank of the ads and thus increase the click probability."
   ]
  },
  {
   "cell_type": "code",
   "execution_count": 6,
   "metadata": {},
   "outputs": [],
   "source": [
    "from sklearn.preprocessing import FunctionTransformer"
   ]
  },
  {
   "cell_type": "code",
   "execution_count": 7,
   "metadata": {},
   "outputs": [],
   "source": [
    "def one_hot_encode(df):\n",
    "    df_copy = df.copy()\n",
    "    \n",
    "    hot_encoding = pd.get_dummies(df_copy['Currently Insured'])\n",
    "    df_copy[hot_encoding.columns] = hot_encoding[hot_encoding.columns]\n",
    "    \n",
    "    return df_copy"
   ]
  },
  {
   "cell_type": "code",
   "execution_count": 8,
   "metadata": {},
   "outputs": [],
   "source": [
    "one_hot = FunctionTransformer(one_hot_encode)"
   ]
  },
  {
   "cell_type": "code",
   "execution_count": 9,
   "metadata": {},
   "outputs": [
    {
     "data": {
      "text/html": [
       "<div>\n",
       "<style scoped>\n",
       "    .dataframe tbody tr th:only-of-type {\n",
       "        vertical-align: middle;\n",
       "    }\n",
       "\n",
       "    .dataframe tbody tr th {\n",
       "        vertical-align: top;\n",
       "    }\n",
       "\n",
       "    .dataframe thead th {\n",
       "        text-align: right;\n",
       "    }\n",
       "</style>\n",
       "<table border=\"1\" class=\"dataframe\">\n",
       "  <thead>\n",
       "    <tr style=\"text-align: right;\">\n",
       "      <th></th>\n",
       "      <th>Number of Vehicles</th>\n",
       "      <th>Number of Drivers</th>\n",
       "      <th>bid</th>\n",
       "      <th>rank</th>\n",
       "      <th>policies_sold</th>\n",
       "      <th>N</th>\n",
       "      <th>Y</th>\n",
       "      <th>unknown</th>\n",
       "      <th>Click</th>\n",
       "      <th>Marital</th>\n",
       "    </tr>\n",
       "  </thead>\n",
       "  <tbody>\n",
       "    <tr>\n",
       "      <th>count</th>\n",
       "      <td>10000.000000</td>\n",
       "      <td>10000.000000</td>\n",
       "      <td>10000.0</td>\n",
       "      <td>10000.000000</td>\n",
       "      <td>10000.000000</td>\n",
       "      <td>10000.000000</td>\n",
       "      <td>10000.00000</td>\n",
       "      <td>10000.000000</td>\n",
       "      <td>10000.000000</td>\n",
       "      <td>10000.00000</td>\n",
       "    </tr>\n",
       "    <tr>\n",
       "      <th>mean</th>\n",
       "      <td>1.965400</td>\n",
       "      <td>1.499900</td>\n",
       "      <td>10.0</td>\n",
       "      <td>3.184100</td>\n",
       "      <td>0.078300</td>\n",
       "      <td>0.344400</td>\n",
       "      <td>0.34190</td>\n",
       "      <td>0.313700</td>\n",
       "      <td>0.187800</td>\n",
       "      <td>0.51910</td>\n",
       "    </tr>\n",
       "    <tr>\n",
       "      <th>std</th>\n",
       "      <td>0.807755</td>\n",
       "      <td>0.500025</td>\n",
       "      <td>0.0</td>\n",
       "      <td>1.377242</td>\n",
       "      <td>0.268657</td>\n",
       "      <td>0.475196</td>\n",
       "      <td>0.47437</td>\n",
       "      <td>0.464019</td>\n",
       "      <td>0.390572</td>\n",
       "      <td>0.49966</td>\n",
       "    </tr>\n",
       "    <tr>\n",
       "      <th>min</th>\n",
       "      <td>1.000000</td>\n",
       "      <td>1.000000</td>\n",
       "      <td>10.0</td>\n",
       "      <td>1.000000</td>\n",
       "      <td>0.000000</td>\n",
       "      <td>0.000000</td>\n",
       "      <td>0.00000</td>\n",
       "      <td>0.000000</td>\n",
       "      <td>0.000000</td>\n",
       "      <td>0.00000</td>\n",
       "    </tr>\n",
       "    <tr>\n",
       "      <th>25%</th>\n",
       "      <td>1.000000</td>\n",
       "      <td>1.000000</td>\n",
       "      <td>10.0</td>\n",
       "      <td>2.000000</td>\n",
       "      <td>0.000000</td>\n",
       "      <td>0.000000</td>\n",
       "      <td>0.00000</td>\n",
       "      <td>0.000000</td>\n",
       "      <td>0.000000</td>\n",
       "      <td>0.00000</td>\n",
       "    </tr>\n",
       "    <tr>\n",
       "      <th>50%</th>\n",
       "      <td>2.000000</td>\n",
       "      <td>1.000000</td>\n",
       "      <td>10.0</td>\n",
       "      <td>3.000000</td>\n",
       "      <td>0.000000</td>\n",
       "      <td>0.000000</td>\n",
       "      <td>0.00000</td>\n",
       "      <td>0.000000</td>\n",
       "      <td>0.000000</td>\n",
       "      <td>1.00000</td>\n",
       "    </tr>\n",
       "    <tr>\n",
       "      <th>75%</th>\n",
       "      <td>3.000000</td>\n",
       "      <td>2.000000</td>\n",
       "      <td>10.0</td>\n",
       "      <td>4.000000</td>\n",
       "      <td>0.000000</td>\n",
       "      <td>1.000000</td>\n",
       "      <td>1.00000</td>\n",
       "      <td>1.000000</td>\n",
       "      <td>0.000000</td>\n",
       "      <td>1.00000</td>\n",
       "    </tr>\n",
       "    <tr>\n",
       "      <th>max</th>\n",
       "      <td>3.000000</td>\n",
       "      <td>2.000000</td>\n",
       "      <td>10.0</td>\n",
       "      <td>5.000000</td>\n",
       "      <td>1.000000</td>\n",
       "      <td>1.000000</td>\n",
       "      <td>1.00000</td>\n",
       "      <td>1.000000</td>\n",
       "      <td>1.000000</td>\n",
       "      <td>1.00000</td>\n",
       "    </tr>\n",
       "  </tbody>\n",
       "</table>\n",
       "</div>"
      ],
      "text/plain": [
       "       Number of Vehicles  Number of Drivers      bid          rank  \\\n",
       "count        10000.000000       10000.000000  10000.0  10000.000000   \n",
       "mean             1.965400           1.499900     10.0      3.184100   \n",
       "std              0.807755           0.500025      0.0      1.377242   \n",
       "min              1.000000           1.000000     10.0      1.000000   \n",
       "25%              1.000000           1.000000     10.0      2.000000   \n",
       "50%              2.000000           1.000000     10.0      3.000000   \n",
       "75%              3.000000           2.000000     10.0      4.000000   \n",
       "max              3.000000           2.000000     10.0      5.000000   \n",
       "\n",
       "       policies_sold             N            Y       unknown         Click  \\\n",
       "count   10000.000000  10000.000000  10000.00000  10000.000000  10000.000000   \n",
       "mean        0.078300      0.344400      0.34190      0.313700      0.187800   \n",
       "std         0.268657      0.475196      0.47437      0.464019      0.390572   \n",
       "min         0.000000      0.000000      0.00000      0.000000      0.000000   \n",
       "25%         0.000000      0.000000      0.00000      0.000000      0.000000   \n",
       "50%         0.000000      0.000000      0.00000      0.000000      0.000000   \n",
       "75%         0.000000      1.000000      1.00000      1.000000      0.000000   \n",
       "max         1.000000      1.000000      1.00000      1.000000      1.000000   \n",
       "\n",
       "           Marital  \n",
       "count  10000.00000  \n",
       "mean       0.51910  \n",
       "std        0.49966  \n",
       "min        0.00000  \n",
       "25%        0.00000  \n",
       "50%        1.00000  \n",
       "75%        1.00000  \n",
       "max        1.00000  "
      ]
     },
     "execution_count": 9,
     "metadata": {},
     "output_type": "execute_result"
    }
   ],
   "source": [
    "df = one_hot.transform(df)\n",
    "df.loc[df.click == True, \"Click\"] = int(1)\n",
    "df.loc[df.click == False, \"Click\"] = int(0)\n",
    "df.loc[df['Marital Status'] == \"M\", \"Marital\"] = int(1)\n",
    "df.loc[df['Marital Status'] == \"S\", \"Marital\"] = int(0)\n",
    "# convert to integers\n",
    "df = df.astype({\"Click\": int}) \n",
    "#df.loc[df.click == True][:5]\n",
    "df.describe()"
   ]
  },
  {
   "cell_type": "code",
   "execution_count": 10,
   "metadata": {},
   "outputs": [
    {
     "data": {
      "text/html": [
       "<div>\n",
       "<style scoped>\n",
       "    .dataframe tbody tr th:only-of-type {\n",
       "        vertical-align: middle;\n",
       "    }\n",
       "\n",
       "    .dataframe tbody tr th {\n",
       "        vertical-align: top;\n",
       "    }\n",
       "\n",
       "    .dataframe thead th {\n",
       "        text-align: right;\n",
       "    }\n",
       "</style>\n",
       "<table border=\"1\" class=\"dataframe\">\n",
       "  <thead>\n",
       "    <tr style=\"text-align: right;\">\n",
       "      <th></th>\n",
       "      <th>Number of Vehicles</th>\n",
       "      <th>Number of Drivers</th>\n",
       "      <th>N</th>\n",
       "      <th>Y</th>\n",
       "      <th>unknown</th>\n",
       "      <th>Marital</th>\n",
       "    </tr>\n",
       "  </thead>\n",
       "  <tbody>\n",
       "    <tr>\n",
       "      <th>count</th>\n",
       "      <td>35.000000</td>\n",
       "      <td>35.000000</td>\n",
       "      <td>35.000000</td>\n",
       "      <td>35.000000</td>\n",
       "      <td>35.000000</td>\n",
       "      <td>35.000000</td>\n",
       "    </tr>\n",
       "    <tr>\n",
       "      <th>mean</th>\n",
       "      <td>1.971429</td>\n",
       "      <td>1.485714</td>\n",
       "      <td>0.342857</td>\n",
       "      <td>0.342857</td>\n",
       "      <td>0.314286</td>\n",
       "      <td>0.514286</td>\n",
       "    </tr>\n",
       "    <tr>\n",
       "      <th>std</th>\n",
       "      <td>0.821967</td>\n",
       "      <td>0.507093</td>\n",
       "      <td>0.481594</td>\n",
       "      <td>0.481594</td>\n",
       "      <td>0.471008</td>\n",
       "      <td>0.507093</td>\n",
       "    </tr>\n",
       "    <tr>\n",
       "      <th>min</th>\n",
       "      <td>1.000000</td>\n",
       "      <td>1.000000</td>\n",
       "      <td>0.000000</td>\n",
       "      <td>0.000000</td>\n",
       "      <td>0.000000</td>\n",
       "      <td>0.000000</td>\n",
       "    </tr>\n",
       "    <tr>\n",
       "      <th>25%</th>\n",
       "      <td>1.000000</td>\n",
       "      <td>1.000000</td>\n",
       "      <td>0.000000</td>\n",
       "      <td>0.000000</td>\n",
       "      <td>0.000000</td>\n",
       "      <td>0.000000</td>\n",
       "    </tr>\n",
       "    <tr>\n",
       "      <th>50%</th>\n",
       "      <td>2.000000</td>\n",
       "      <td>1.000000</td>\n",
       "      <td>0.000000</td>\n",
       "      <td>0.000000</td>\n",
       "      <td>0.000000</td>\n",
       "      <td>1.000000</td>\n",
       "    </tr>\n",
       "    <tr>\n",
       "      <th>75%</th>\n",
       "      <td>3.000000</td>\n",
       "      <td>2.000000</td>\n",
       "      <td>1.000000</td>\n",
       "      <td>1.000000</td>\n",
       "      <td>1.000000</td>\n",
       "      <td>1.000000</td>\n",
       "    </tr>\n",
       "    <tr>\n",
       "      <th>max</th>\n",
       "      <td>3.000000</td>\n",
       "      <td>2.000000</td>\n",
       "      <td>1.000000</td>\n",
       "      <td>1.000000</td>\n",
       "      <td>1.000000</td>\n",
       "      <td>1.000000</td>\n",
       "    </tr>\n",
       "  </tbody>\n",
       "</table>\n",
       "</div>"
      ],
      "text/plain": [
       "       Number of Vehicles  Number of Drivers          N          Y    unknown  \\\n",
       "count           35.000000          35.000000  35.000000  35.000000  35.000000   \n",
       "mean             1.971429           1.485714   0.342857   0.342857   0.314286   \n",
       "std              0.821967           0.507093   0.481594   0.481594   0.471008   \n",
       "min              1.000000           1.000000   0.000000   0.000000   0.000000   \n",
       "25%              1.000000           1.000000   0.000000   0.000000   0.000000   \n",
       "50%              2.000000           1.000000   0.000000   0.000000   0.000000   \n",
       "75%              3.000000           2.000000   1.000000   1.000000   1.000000   \n",
       "max              3.000000           2.000000   1.000000   1.000000   1.000000   \n",
       "\n",
       "         Marital  \n",
       "count  35.000000  \n",
       "mean    0.514286  \n",
       "std     0.507093  \n",
       "min     0.000000  \n",
       "25%     0.000000  \n",
       "50%     1.000000  \n",
       "75%     1.000000  \n",
       "max     1.000000  "
      ]
     },
     "execution_count": 10,
     "metadata": {},
     "output_type": "execute_result"
    }
   ],
   "source": [
    "df_unique = one_hot.transform(df_unique)\n",
    "df_unique.loc[df['Marital Status'] == \"M\", \"Marital\"] = int(1)\n",
    "df_unique.loc[df['Marital Status'] == \"S\", \"Marital\"] = int(0)\n",
    "#df.loc[df.click == True][:5]\n",
    "df_unique.describe()"
   ]
  },
  {
   "cell_type": "markdown",
   "metadata": {},
   "source": [
    "## The new target for the problem\n",
    "\n",
    "Notice that we the probabilities are all conditioned, e.g. the probability of rank 2th and then click but not sold. Thus, we actually have a classification of 15 type (5 ranks, click and sold or not, no click). Here, we create this new class by specifying according to ranks:\n",
    "$$ newtar = 3(r-1) + i, \\quad i = 0, 1, 2,$$\n",
    "where $i=0,1,2$ for sold, click but not sold and not click, respectively. However, the samples are limitted for some targets to stratify. So a more suitable one to assume that the sold rate is independent once the customer click, then we only need to have 10 type of new targets\n",
    "$$ newtar = 2(r-1) + i, \\quad i = 0, 1,$$\n",
    "\n",
    "## However\n",
    "\n",
    "How should we deal with the relation between bidding price and the ranking? We have no other info from the dataset, or we need to search for more supporting relations. But we could adopt a simple but very reasonable assumption:\n",
    "`The overall buying probability of a particular type of clicked customers is independent of their ranking`\n",
    "Afterall, the ranking is an evaluation of the market (other companies) to the customer (how much they want to earn this customer). Once the customer clicked, the probability of buying should be the internal feature of the customer. Thus, if we view a customer as a stock, ranking is more like the market price while the buying probability is the EPS (earning per share), measuring how profitable of the stock company."
   ]
  },
  {
   "cell_type": "code",
   "execution_count": 11,
   "metadata": {},
   "outputs": [],
   "source": [
    "# new target label by relating rank(5), click (2) \n",
    "# total 10 classes (no sold for no click),[0,9]\n",
    "newtar = [0] * len(df)\n",
    "for i in range(5):\n",
    "    if df.iloc[i][\"click\"]:\n",
    "        newtar[i] = int(2 * (df.iloc[i][\"rank\"] - 1))\n",
    "    else:\n",
    "        newtar[i] = int(2 * (df.iloc[i][\"rank\"] - 1) + 1)\n",
    "df['newtarget'] = newtar"
   ]
  },
  {
   "cell_type": "code",
   "execution_count": 12,
   "metadata": {},
   "outputs": [
    {
     "data": {
      "text/plain": [
       "dtype('int32')"
      ]
     },
     "execution_count": 12,
     "metadata": {},
     "output_type": "execute_result"
    }
   ],
   "source": [
    "X = df[[\"Number of Vehicles\", \"Number of Drivers\", \"N\",\"Y\",\"unknown\",\"Marital\"]].copy()\n",
    "X_unique = df_unique[[\"Number of Vehicles\", \"Number of Drivers\", \"N\",\"Y\",\"unknown\",\"Marital\"]].copy()\n",
    "y_rank = df[\"rank\"].copy()\n",
    "y_click = df[\"Click\"].copy()\n",
    "y_sold = df[\"policies_sold\"].copy()\n",
    "y_newtar = df[\"newtarget\"].copy()\n",
    "#X[:5]\n",
    "y_newtar.astype('int32').dtypes"
   ]
  },
  {
   "cell_type": "code",
   "execution_count": 13,
   "metadata": {},
   "outputs": [],
   "source": [
    "from sklearn.model_selection import train_test_split, StratifiedKFold\n",
    "from sklearn.base import clone"
   ]
  },
  {
   "cell_type": "code",
   "execution_count": 14,
   "metadata": {},
   "outputs": [],
   "source": [
    "y = y_click\n",
    "# tran test split by the policy sold as it has smallest pool\n",
    "X_train,X_test,y_train,y_test = train_test_split(X, y,test_size = .25,\n",
    "                                                 random_state = 614,\n",
    "                                                 shuffle = True,\n",
    "                                                 stratify = y)"
   ]
  },
  {
   "cell_type": "markdown",
   "metadata": {},
   "source": [
    "# Machine Learning method for probability\n",
    "\n",
    "Despite we're working on a probability problem, we could utilize powerful machine learning method with cross validation to obtain the probability conditioned on observed data. We'll explore a varity of classification methods and use the metric of <a href=\"https://en.wikipedia.org/wiki/Kullback%E2%80%93Leibler_divergence\">Kullback-Leibler divergence</a> to quantify the distribution difference between the training and testing set. Specifically, we'll show the probabilities obtained from <a href=\"https://github.com/dmlc/xgboost\">XGBoost</a>, which is an efficient application of <a href=\"https://en.wikipedia.org/wiki/Gradient_boosting\">Gradient boosting</a>."
   ]
  },
  {
   "cell_type": "code",
   "execution_count": 15,
   "metadata": {},
   "outputs": [],
   "source": [
    "import xgboost as xgb\n",
    "\n",
    "from sklearn.metrics import accuracy_score, precision_score, recall_score\n",
    "from sklearn.metrics import confusion_matrix, mean_squared_error\n",
    "from sklearn.model_selection import GridSearchCV"
   ]
  },
  {
   "cell_type": "code",
   "execution_count": 16,
   "metadata": {},
   "outputs": [],
   "source": [
    "def KLdivergence(a, b):\n",
    "    a = np.asarray(a, dtype=np.float) # sum(a) should be 1, measured probability\n",
    "    b = np.asarray(b, dtype=np.float) # theoretical probability\n",
    "\n",
    "    return np.sum(np.where(a != 0, a * np.log(a / b), 0))"
   ]
  },
  {
   "cell_type": "code",
   "execution_count": 17,
   "metadata": {},
   "outputs": [],
   "source": [
    "kfold = StratifiedKFold(n_splits = 5, shuffle = True, random_state = 440)"
   ]
  },
  {
   "cell_type": "code",
   "execution_count": 18,
   "metadata": {},
   "outputs": [
    {
     "name": "stdout",
     "output_type": "stream",
     "text": [
      "[[1625    0]\n",
      " [ 375    0]]\n",
      "[[1625    0]\n",
      " [ 375    0]]\n",
      "[[1624    0]\n",
      " [ 376    0]]\n",
      "[[1624    0]\n",
      " [ 376    0]]\n",
      "[[1624    0]\n",
      " [ 376    0]]\n"
     ]
    }
   ],
   "source": [
    "# class xgboost.XGBClassifier(*, objective='binary:logistic', use_label_encoder=True, **kwargs)\n",
    "# https://xgboost.readthedocs.io/en/latest/python/python_api.html?highlight=xgbclassifier#xgboost.XGBClassifier\n",
    "# cross-validation\n",
    "probs = []\n",
    "for train_index, test_index in kfold.split(X, y):\n",
    "    xgb_model = xgb.XGBClassifier(n_jobs=1,use_label_encoder=False)\n",
    "    xgb_model.fit(X.iloc[train_index], y.iloc[train_index],eval_metric='logloss')\n",
    "    predictions = xgb_model.predict(X.iloc[test_index])\n",
    "    actuals = y.iloc[test_index]\n",
    "    print(confusion_matrix(actuals, predictions))\n",
    "    prob = xgb_model.predict_proba(X_unique)\n",
    "    probs.append(prob[:,1])"
   ]
  },
  {
   "cell_type": "code",
   "execution_count": 19,
   "metadata": {},
   "outputs": [],
   "source": [
    "#probs"
   ]
  },
  {
   "cell_type": "code",
   "execution_count": 20,
   "metadata": {},
   "outputs": [],
   "source": [
    "click_prob = np.mean(probs,axis=0)"
   ]
  },
  {
   "cell_type": "code",
   "execution_count": 21,
   "metadata": {},
   "outputs": [
    {
     "name": "stdout",
     "output_type": "stream",
     "text": [
      "[[1844    0]\n",
      " [ 156    0]]\n",
      "[[1844    0]\n",
      " [ 156    0]]\n",
      "[[1843    0]\n",
      " [ 157    0]]\n",
      "[[1843    0]\n",
      " [ 157    0]]\n",
      "[[1843    0]\n",
      " [ 157    0]]\n"
     ]
    }
   ],
   "source": [
    "y = y_sold\n",
    "probs = []\n",
    "for train_index, test_index in kfold.split(X, y):\n",
    "    xgb_model = xgb.XGBClassifier(n_jobs=1,use_label_encoder=False)\n",
    "    xgb_model.fit(X.iloc[train_index], y.iloc[train_index],eval_metric='logloss')\n",
    "    predictions = xgb_model.predict(X.iloc[test_index])\n",
    "    actuals = y.iloc[test_index]\n",
    "    print(confusion_matrix(actuals, predictions))\n",
    "    prob = xgb_model.predict_proba(X_unique)\n",
    "    probs.append(prob[:,1])\n",
    "sold_prob = np.mean(probs,axis=0)"
   ]
  },
  {
   "cell_type": "code",
   "execution_count": 22,
   "metadata": {},
   "outputs": [
    {
     "name": "stdout",
     "output_type": "stream",
     "text": [
      "0.38695312\n"
     ]
    },
    {
     "data": {
      "text/plain": [
       "array([13.,  5.,  3.,  6., 10., 10., 10.,  8., 11., 14.,  5.,  7., 10.,\n",
       "        8.,  8., 16., 14.,  8.,  9.,  7., 14., 11., 13., 11., 15., 12.,\n",
       "        9., 12.,  8.,  5.,  9., 14., 14., 11., 10.], dtype=float32)"
      ]
     },
     "execution_count": 22,
     "metadata": {},
     "output_type": "execute_result"
    }
   ],
   "source": [
    "meanPSPC=np.mean(sold_prob/click_prob)\n",
    "print(meanPSPC)\n",
    "np.round(10*sold_prob/click_prob/meanPSPC)"
   ]
  },
  {
   "cell_type": "code",
   "execution_count": 23,
   "metadata": {},
   "outputs": [
    {
     "name": "stdout",
     "output_type": "stream",
     "text": [
      "[[223  37  62   0   0]\n",
      " [150  49 105  18   0]\n",
      " [ 86  54 143  33 164]\n",
      " [  0  31 113  35 239]\n",
      " [  0   0  46  24 388]]\n",
      "[[235  22  65   0   0]\n",
      " [149  40  94  39   0]\n",
      " [ 80  40 125  77 158]\n",
      " [  0  24  88  55 251]\n",
      " [  0   0   5  42 411]]\n",
      "[[235   0  87   0   0]\n",
      " [140   0 155  27   0]\n",
      " [ 96   0 169  58 157]\n",
      " [  0   0 129  51 238]\n",
      " [  0   0  29  36 393]]\n",
      "[[232  20  71   0   0]\n",
      " [137  32 136  16   0]\n",
      " [ 76  42 156  36 170]\n",
      " [  0  21 109  43 244]\n",
      " [  0   0  35  24 400]]\n",
      "[[245  12  65   0   0]\n",
      " [132  17 137  35   0]\n",
      " [101  15 166  58 141]\n",
      " [  0  12 128  48 230]\n",
      " [  0   0  18  43 397]]\n"
     ]
    }
   ],
   "source": [
    "y = y_rank - 1 # set from [1,5] to [0, 4=n_class-1]\n",
    "probs = []\n",
    "for train_index, test_index in kfold.split(X, y):\n",
    "    xgb_model = xgb.XGBClassifier(n_jobs=1,use_label_encoder=False)\n",
    "    xgb_model.fit(X.iloc[train_index], y.iloc[train_index],eval_metric='logloss')\n",
    "    predictions = xgb_model.predict(X.iloc[test_index])\n",
    "    actuals = y.iloc[test_index]\n",
    "    print(confusion_matrix(actuals, predictions))\n",
    "    prob = xgb_model.predict_proba(X_unique)\n",
    "    #print(prob[:5])\n",
    "    probs.append(prob)"
   ]
  },
  {
   "cell_type": "code",
   "execution_count": 24,
   "metadata": {},
   "outputs": [],
   "source": [
    "rank_prob = np.mean(probs,axis=0)"
   ]
  },
  {
   "cell_type": "markdown",
   "metadata": {},
   "source": [
    "# From probability to the bidding price\n",
    "\n",
    "Since the goal is to \"optimize the cost per customer while having 4% customer rate over all ads shown\". The simpliest intuition is to bid more on valuable customers. If we forget about the $4%$ constraint for a second, to decrease the cost per sold, we only need to consider the probability `P(sold|click)` for a customer as the company only need to pay when clicks happen\n",
    "$$P(sold|click)=\\frac{P(\\text{sold and click})}{P(click)}=\\frac{P(sold)}{P(click)}$$\n",
    "\n",
    "Since current cost per customer is around 24.0 dollars per customer and the sold rate (sold/shown) is 7.83\\% and average P(sold|click)=41.69\\%, if we set the average as the baseline for 10 dollars and assume we invest linearly with the probability `P(sold|click)`, we'll have cost per customer even higher 24.19 dollars."
   ]
  },
  {
   "cell_type": "code",
   "execution_count": 25,
   "metadata": {},
   "outputs": [
    {
     "name": "stdout",
     "output_type": "stream",
     "text": [
      "23.984674329501917\n"
     ]
    }
   ],
   "source": [
    "curCostPerCustomer = 10*np.sum(df[\"Click\"])/np.sum(df[\"policies_sold\"])\n",
    "print(curCostPerCustomer)"
   ]
  },
  {
   "cell_type": "code",
   "execution_count": 26,
   "metadata": {},
   "outputs": [
    {
     "data": {
      "text/plain": [
       "0.4169329073482428"
      ]
     },
     "execution_count": 26,
     "metadata": {},
     "output_type": "execute_result"
    }
   ],
   "source": [
    "avgPSC=np.sum(df[\"policies_sold\"])/np.sum(df[\"Click\"])\n",
    "avgPSC"
   ]
  },
  {
   "cell_type": "code",
   "execution_count": 27,
   "metadata": {},
   "outputs": [
    {
     "data": {
      "text/plain": [
       "array([12.,  5.,  3.,  6.,  9., 10.,  9.,  8., 11., 13.,  4.,  6., 10.,\n",
       "        8.,  8., 14., 13.,  7.,  9.,  7., 13., 10., 12., 10., 14., 11.,\n",
       "        9., 11.,  7.,  5.,  9., 13., 13., 10.,  9.], dtype=float32)"
      ]
     },
     "execution_count": 27,
     "metadata": {},
     "output_type": "execute_result"
    }
   ],
   "source": [
    "biddings = np.round(10*sold_prob/click_prob/avgPSC)\n",
    "biddings"
   ]
  },
  {
   "cell_type": "code",
   "execution_count": 28,
   "metadata": {},
   "outputs": [],
   "source": [
    "df_unique['newbid'] = biddings"
   ]
  },
  {
   "cell_type": "code",
   "execution_count": 29,
   "metadata": {},
   "outputs": [],
   "source": [
    "newcols = list(df_unique.columns)\n",
    "newcols = newcols[1:3] + newcols[4:8]\n",
    "featuredict = {}\n",
    "for i in range(len(df_unique)):\n",
    "    temp = list(df_unique.iloc[i][newcols])\n",
    "    string = ''\n",
    "    for num in temp:\n",
    "        string += str(num)\n",
    "    if string not in featuredict:\n",
    "        featuredict[string] = df_unique.iloc[i]['newbid']\n",
    "\n",
    "df_copy = df.copy()\n",
    "newbid = []\n",
    "for i in range(len(df_copy)):\n",
    "    temp = list(df_copy.iloc[i][newcols])\n",
    "    string = ''\n",
    "    for num in temp:\n",
    "        string += str(num)\n",
    "    newbid.append(featuredict[string])"
   ]
  },
  {
   "cell_type": "code",
   "execution_count": 30,
   "metadata": {},
   "outputs": [],
   "source": [
    "df_copy['newbid'] = newbid"
   ]
  },
  {
   "cell_type": "code",
   "execution_count": 31,
   "metadata": {},
   "outputs": [
    {
     "data": {
      "text/html": [
       "<div>\n",
       "<style scoped>\n",
       "    .dataframe tbody tr th:only-of-type {\n",
       "        vertical-align: middle;\n",
       "    }\n",
       "\n",
       "    .dataframe tbody tr th {\n",
       "        vertical-align: top;\n",
       "    }\n",
       "\n",
       "    .dataframe thead th {\n",
       "        text-align: right;\n",
       "    }\n",
       "</style>\n",
       "<table border=\"1\" class=\"dataframe\">\n",
       "  <thead>\n",
       "    <tr style=\"text-align: right;\">\n",
       "      <th></th>\n",
       "      <th>Currently Insured</th>\n",
       "      <th>Number of Vehicles</th>\n",
       "      <th>Number of Drivers</th>\n",
       "      <th>Marital Status</th>\n",
       "      <th>bid</th>\n",
       "      <th>rank</th>\n",
       "      <th>click</th>\n",
       "      <th>policies_sold</th>\n",
       "      <th>N</th>\n",
       "      <th>Y</th>\n",
       "      <th>unknown</th>\n",
       "      <th>Click</th>\n",
       "      <th>Marital</th>\n",
       "      <th>newtarget</th>\n",
       "      <th>newbid</th>\n",
       "    </tr>\n",
       "  </thead>\n",
       "  <tbody>\n",
       "    <tr>\n",
       "      <th>0</th>\n",
       "      <td>unknown</td>\n",
       "      <td>2</td>\n",
       "      <td>1</td>\n",
       "      <td>M</td>\n",
       "      <td>10.0</td>\n",
       "      <td>2</td>\n",
       "      <td>False</td>\n",
       "      <td>0</td>\n",
       "      <td>0</td>\n",
       "      <td>0</td>\n",
       "      <td>1</td>\n",
       "      <td>0</td>\n",
       "      <td>1.0</td>\n",
       "      <td>3</td>\n",
       "      <td>12.0</td>\n",
       "    </tr>\n",
       "    <tr>\n",
       "      <th>1</th>\n",
       "      <td>Y</td>\n",
       "      <td>3</td>\n",
       "      <td>1</td>\n",
       "      <td>M</td>\n",
       "      <td>10.0</td>\n",
       "      <td>5</td>\n",
       "      <td>False</td>\n",
       "      <td>0</td>\n",
       "      <td>0</td>\n",
       "      <td>1</td>\n",
       "      <td>0</td>\n",
       "      <td>0</td>\n",
       "      <td>1.0</td>\n",
       "      <td>9</td>\n",
       "      <td>5.0</td>\n",
       "    </tr>\n",
       "    <tr>\n",
       "      <th>2</th>\n",
       "      <td>Y</td>\n",
       "      <td>3</td>\n",
       "      <td>2</td>\n",
       "      <td>M</td>\n",
       "      <td>10.0</td>\n",
       "      <td>5</td>\n",
       "      <td>False</td>\n",
       "      <td>0</td>\n",
       "      <td>0</td>\n",
       "      <td>1</td>\n",
       "      <td>0</td>\n",
       "      <td>0</td>\n",
       "      <td>1.0</td>\n",
       "      <td>9</td>\n",
       "      <td>3.0</td>\n",
       "    </tr>\n",
       "    <tr>\n",
       "      <th>3</th>\n",
       "      <td>N</td>\n",
       "      <td>3</td>\n",
       "      <td>2</td>\n",
       "      <td>S</td>\n",
       "      <td>10.0</td>\n",
       "      <td>4</td>\n",
       "      <td>False</td>\n",
       "      <td>0</td>\n",
       "      <td>1</td>\n",
       "      <td>0</td>\n",
       "      <td>0</td>\n",
       "      <td>0</td>\n",
       "      <td>0.0</td>\n",
       "      <td>7</td>\n",
       "      <td>6.0</td>\n",
       "    </tr>\n",
       "    <tr>\n",
       "      <th>4</th>\n",
       "      <td>unknown</td>\n",
       "      <td>2</td>\n",
       "      <td>2</td>\n",
       "      <td>S</td>\n",
       "      <td>10.0</td>\n",
       "      <td>2</td>\n",
       "      <td>False</td>\n",
       "      <td>0</td>\n",
       "      <td>0</td>\n",
       "      <td>0</td>\n",
       "      <td>1</td>\n",
       "      <td>0</td>\n",
       "      <td>0.0</td>\n",
       "      <td>3</td>\n",
       "      <td>9.0</td>\n",
       "    </tr>\n",
       "  </tbody>\n",
       "</table>\n",
       "</div>"
      ],
      "text/plain": [
       "  Currently Insured  Number of Vehicles  Number of Drivers Marital Status  \\\n",
       "0           unknown                   2                  1              M   \n",
       "1                 Y                   3                  1              M   \n",
       "2                 Y                   3                  2              M   \n",
       "3                 N                   3                  2              S   \n",
       "4           unknown                   2                  2              S   \n",
       "\n",
       "    bid  rank  click  policies_sold  N  Y  unknown  Click  Marital  newtarget  \\\n",
       "0  10.0     2  False              0  0  0        1      0      1.0          3   \n",
       "1  10.0     5  False              0  0  1        0      0      1.0          9   \n",
       "2  10.0     5  False              0  0  1        0      0      1.0          9   \n",
       "3  10.0     4  False              0  1  0        0      0      0.0          7   \n",
       "4  10.0     2  False              0  0  0        1      0      0.0          3   \n",
       "\n",
       "   newbid  \n",
       "0    12.0  \n",
       "1     5.0  \n",
       "2     3.0  \n",
       "3     6.0  \n",
       "4     9.0  "
      ]
     },
     "execution_count": 31,
     "metadata": {},
     "output_type": "execute_result"
    }
   ],
   "source": [
    "df_copy.head()"
   ]
  },
  {
   "cell_type": "code",
   "execution_count": 32,
   "metadata": {},
   "outputs": [
    {
     "data": {
      "text/plain": [
       "24.18773946360153"
      ]
     },
     "execution_count": 32,
     "metadata": {},
     "output_type": "execute_result"
    }
   ],
   "source": [
    "costs = 0\n",
    "for i in range(len(df_copy)):\n",
    "    if df_copy.iloc[i]['click']:\n",
    "        costs += df_copy.iloc[i]['newbid']\n",
    "costs/np.sum(df[\"policies_sold\"])"
   ]
  },
  {
   "cell_type": "markdown",
   "metadata": {},
   "source": [
    "However, we give ads to all the samples. In reality, we should have some budget and stop showing more ads once the number of click with paid price reaches our budget. Current cost is $18,780 and we could set it as our budget and stop once reached though random sampling."
   ]
  },
  {
   "cell_type": "code",
   "execution_count": 33,
   "metadata": {},
   "outputs": [
    {
     "data": {
      "text/plain": [
       "18780"
      ]
     },
     "execution_count": 33,
     "metadata": {},
     "output_type": "execute_result"
    }
   ],
   "source": [
    "budget = 10*np.sum(df[\"Click\"])\n",
    "budget"
   ]
  },
  {
   "cell_type": "code",
   "execution_count": 34,
   "metadata": {},
   "outputs": [],
   "source": [
    "import random"
   ]
  },
  {
   "cell_type": "code",
   "execution_count": 35,
   "metadata": {},
   "outputs": [
    {
     "name": "stdout",
     "output_type": "stream",
     "text": [
      "10647 18788.0 744 25.252688172043012 25.282258064516128\n",
      "9909 18781.0 786 23.89440203562341 23.638676844783713\n",
      "10022 18785.0 755 24.880794701986755 24.52980132450331\n",
      "10081 18784.0 782 24.020460358056265 24.028132992327365\n",
      "10401 18784.0 784 23.959183673469386 23.698979591836736\n",
      "10183 18784.0 775 24.23741935483871 24.09032258064516\n",
      "10028 18784.0 798 23.538847117794486 23.295739348370926\n",
      "9771 18780.0 796 23.592964824120603 23.266331658291456\n",
      "9941 18781.0 793 23.68348045397226 23.581336696090794\n",
      "10201 18780.0 746 25.17426273458445 24.89276139410188\n"
     ]
    }
   ],
   "source": [
    "for trial in range(10):\n",
    "    costs = 0\n",
    "    sold = 0\n",
    "    clicks = 0\n",
    "    shown = 0\n",
    "    random.seed(trial)\n",
    "    while costs < budget:\n",
    "        shown += 1\n",
    "        ind = random.randint(0, len(df_copy)-1)\n",
    "        if df_copy.iloc[ind]['click']:\n",
    "            costs += df_copy.iloc[ind]['newbid']\n",
    "            clicks += 1\n",
    "            if df_copy.iloc[ind]['policies_sold']:\n",
    "                sold += 1\n",
    "    print(shown, costs,sold, costs/sold, 10*clicks/sold)"
   ]
  },
  {
   "cell_type": "markdown",
   "metadata": {},
   "source": [
    "#### As we can see, from all these sampling trials, the simple linear strategy gives a bit higher cost per customer. We need to add more to current strategy. \n",
    "\n",
    "What if we take extreme cases? In the limit of infinite budget and customer samples, we should invest all the budget to the most valuable customer so as to obtain the best cost per customer. However, the limited budget and customer samples requires us invest on more customer with lower bound given by the 4% customer rate. Compared to previous strategy, the linear relation with the average `P(sold|click)` rate might be two slow. Thus, here we try a exponential function function \n",
    "$$ B= 1+e^{-C (P-\\bar{P})}$$\n",
    "where the bidding price has minimum 1 dollar. The coefficient in the exponent $C\\equiv 20$. $\\bar{P}$ is the average of $P(S|C)$."
   ]
  },
  {
   "cell_type": "code",
   "execution_count": 146,
   "metadata": {},
   "outputs": [],
   "source": [
    "PSCmean = np.mean(sold_prob/click_prob)"
   ]
  },
  {
   "cell_type": "code",
   "execution_count": 153,
   "metadata": {},
   "outputs": [
    {
     "data": {
      "text/plain": [
       "array([ 9.,  1.,  1.,  1.,  2.,  2.,  2.,  1.,  4., 23.,  1.,  1.,  2.,\n",
       "        1.,  1., 74., 33.,  1.,  2.,  1., 17.,  3.,  8.,  3., 49.,  5.,\n",
       "        2.,  6.,  1.,  1.,  2., 18., 24.,  3.,  2.], dtype=float32)"
      ]
     },
     "execution_count": 153,
     "metadata": {},
     "output_type": "execute_result"
    }
   ],
   "source": [
    "Cmax = 19\n",
    "C = 20\n",
    "PSC = sold_prob/click_prob\n",
    "biddings = 1 + np.round(np.exp(C*(PSC-PSCmean))) #np.round(1+Cmax/(1+np.exp(-C*(PSC-PSCmean))))\n",
    "biddings"
   ]
  },
  {
   "cell_type": "code",
   "execution_count": 154,
   "metadata": {},
   "outputs": [
    {
     "data": {
      "text/plain": [
       "8.771428"
      ]
     },
     "execution_count": 154,
     "metadata": {},
     "output_type": "execute_result"
    }
   ],
   "source": [
    "#PSC\n",
    "np.mean(biddings)"
   ]
  },
  {
   "cell_type": "code",
   "execution_count": 155,
   "metadata": {},
   "outputs": [],
   "source": [
    "df_unique['newbid'] = biddings\n",
    "newcols = list(df_unique.columns)\n",
    "newcols = newcols[1:3] + newcols[4:8]\n",
    "featuredict = {}\n",
    "for i in range(len(df_unique)):\n",
    "    temp = list(df_unique.iloc[i][newcols])\n",
    "    string = ''\n",
    "    for num in temp:\n",
    "        string += str(num)\n",
    "    if string not in featuredict:\n",
    "        featuredict[string] = df_unique.iloc[i]['newbid']\n",
    "\n",
    "df_copy = df.copy()\n",
    "newbid = []\n",
    "for i in range(len(df_copy)):\n",
    "    temp = list(df_copy.iloc[i][newcols])\n",
    "    string = ''\n",
    "    for num in temp:\n",
    "        string += str(num)\n",
    "    newbid.append(featuredict[string])\n",
    "    \n",
    "df_copy['newbid'] = newbid"
   ]
  },
  {
   "cell_type": "code",
   "execution_count": 156,
   "metadata": {},
   "outputs": [
    {
     "name": "stdout",
     "output_type": "stream",
     "text": [
      "showned times 12939 total 18794.0 sold 932 sold rate 0.072030296004328\n",
      "cost per customer 20.165236051502145 Old 24.624463519313306 \n",
      "\n",
      "showned times 11024 total 18782.0 sold 875 sold rate 0.0793722786647315\n",
      "cost per customer 21.465142857142858 Old 23.588571428571427 \n",
      "\n",
      "showned times 11905 total 18782.0 sold 910 sold rate 0.07643847123057539\n",
      "cost per customer 20.63956043956044 Old 24.164835164835164 \n",
      "\n",
      "showned times 12088 total 18790.0 sold 926 sold rate 0.07660489741892786\n",
      "cost per customer 20.29157667386609 Old 24.37365010799136 \n",
      "\n",
      "showned times 12133 total 18798.0 sold 929 sold rate 0.0765680375834501\n",
      "cost per customer 20.234660925726587 Old 23.379978471474704 \n",
      "\n"
     ]
    }
   ],
   "source": [
    "for trial in range(5):\n",
    "    costs = 0\n",
    "    sold = 0\n",
    "    clicks = 0\n",
    "    shown = 0\n",
    "    random.seed(trial)\n",
    "    while costs < budget:\n",
    "        shown += 1\n",
    "        ind = random.randint(0, len(df_copy)-1)\n",
    "        if df_copy.iloc[ind]['click'] and df_copy.iloc[ind]['newbid'] > 0:\n",
    "            costs += df_copy.iloc[ind]['newbid']\n",
    "            clicks += 1\n",
    "            if df_copy.iloc[ind]['policies_sold']:\n",
    "                sold += 1\n",
    "    print(\"showned times\", shown, \"total\", costs, \"sold\",sold, \"sold rate\", sold/shown)\n",
    "    print(\"cost per customer\", costs/sold, \"Old\", 10*clicks/sold,\"\\n\")"
   ]
  },
  {
   "cell_type": "code",
   "execution_count": null,
   "metadata": {},
   "outputs": [],
   "source": []
  }
 ],
 "metadata": {
  "kernelspec": {
   "display_name": "Python 3",
   "language": "python",
   "name": "python3"
  },
  "language_info": {
   "codemirror_mode": {
    "name": "ipython",
    "version": 3
   },
   "file_extension": ".py",
   "mimetype": "text/x-python",
   "name": "python",
   "nbconvert_exporter": "python",
   "pygments_lexer": "ipython3",
   "version": "3.8.5"
  }
 },
 "nbformat": 4,
 "nbformat_minor": 4
}
